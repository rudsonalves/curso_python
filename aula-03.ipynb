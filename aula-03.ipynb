{
 "cells": [
  {
   "cell_type": "markdown",
   "id": "8003697b",
   "metadata": {},
   "source": [
    "## 4.5. Operadores Ternários"
   ]
  },
  {
   "cell_type": "code",
   "execution_count": 1,
   "id": "702ca6dd",
   "metadata": {},
   "outputs": [
    {
     "name": "stdout",
     "output_type": "stream",
     "text": [
      "Hoje estou com as roupas molhadas\n"
     ]
    }
   ],
   "source": [
    "estaChovendo = True\n",
    "\n",
    "msg = 'Hoje estou com as roupas ' + ('secas', 'molhadas')[estaChovendo]\n",
    "print(msg)"
   ]
  },
  {
   "cell_type": "markdown",
   "id": "3090143e",
   "metadata": {},
   "source": [
    "Se o operador (estaChovendo) for verdadeiro , retorna o elementos mais próximo do operador."
   ]
  },
  {
   "cell_type": "code",
   "execution_count": 7,
   "id": "b4b02a7e",
   "metadata": {},
   "outputs": [
    {
     "name": "stdout",
     "output_type": "stream",
     "text": [
      "Hoje estou com as roupas secas\n"
     ]
    }
   ],
   "source": [
    "estaChovendo = False\n",
    "\n",
    "msg = 'Hoje estou com as roupas ' + ('secas', 'molhadas')[estaChovendo]\n",
    "print(msg)"
   ]
  },
  {
   "cell_type": "markdown",
   "id": "a0ec9ee7",
   "metadata": {},
   "source": [
    "Ou na forma de liguagem natural"
   ]
  },
  {
   "cell_type": "code",
   "execution_count": 10,
   "id": "678ab940",
   "metadata": {},
   "outputs": [
    {
     "name": "stdout",
     "output_type": "stream",
     "text": [
      "Hoje estou com as roupas molhadas\n"
     ]
    }
   ],
   "source": [
    "estaChovendo = True\n",
    "\n",
    "msg = 'Hoje estou com as roupas ' + ('molhadas' if estaChovendo else 'secas.')\n",
    "print(msg)"
   ]
  },
  {
   "cell_type": "code",
   "execution_count": 11,
   "id": "9b7db5b0",
   "metadata": {},
   "outputs": [
    {
     "name": "stdout",
     "output_type": "stream",
     "text": [
      "Hoje estou com as roupas secas.\n"
     ]
    }
   ],
   "source": [
    "estaChovendo = False\n",
    "\n",
    "msg = 'Hoje estou com as roupas ' + ('molhadas' if estaChovendo else 'secas.')\n",
    "print(msg)"
   ]
  },
  {
   "cell_type": "code",
   "execution_count": 12,
   "id": "bb575e60",
   "metadata": {},
   "outputs": [
    {
     "data": {
      "text/plain": [
       "'Esta lendo. Aguarde...'"
      ]
     },
     "execution_count": 12,
     "metadata": {},
     "output_type": "execute_result"
    }
   ],
   "source": [
    "isLoading = True\n",
    "\n",
    "'Esta lendo. Aguarde...' if isLoading else 'Estou pronto!'"
   ]
  },
  {
   "cell_type": "markdown",
   "id": "560d67f1",
   "metadata": {},
   "source": [
    "## 4.6. Mais Operadores\n",
    "### 4.6.1 Operador 'in'"
   ]
  },
  {
   "cell_type": "code",
   "execution_count": 13,
   "id": "cd1735c5",
   "metadata": {},
   "outputs": [],
   "source": [
    "lista = [1,2,3,4,5,6,7]"
   ]
  },
  {
   "cell_type": "code",
   "execution_count": 14,
   "id": "25820ca6",
   "metadata": {},
   "outputs": [
    {
     "data": {
      "text/plain": [
       "True"
      ]
     },
     "execution_count": 14,
     "metadata": {},
     "output_type": "execute_result"
    }
   ],
   "source": [
    "3 in lista"
   ]
  },
  {
   "cell_type": "code",
   "execution_count": 15,
   "id": "0156e0fd",
   "metadata": {},
   "outputs": [
    {
     "data": {
      "text/plain": [
       "False"
      ]
     },
     "execution_count": 15,
     "metadata": {},
     "output_type": "execute_result"
    }
   ],
   "source": [
    "8 in lista"
   ]
  },
  {
   "cell_type": "code",
   "execution_count": 16,
   "id": "54300741",
   "metadata": {},
   "outputs": [
    {
     "data": {
      "text/plain": [
       "True"
      ]
     },
     "execution_count": 16,
     "metadata": {},
     "output_type": "execute_result"
    }
   ],
   "source": [
    "nome = 'João Walmiro Alves'\n",
    "'Alves' in nome"
   ]
  },
  {
   "cell_type": "code",
   "execution_count": 17,
   "id": "7785efb4",
   "metadata": {},
   "outputs": [
    {
     "data": {
      "text/plain": [
       "False"
      ]
     },
     "execution_count": 17,
     "metadata": {},
     "output_type": "execute_result"
    }
   ],
   "source": [
    "'alves' in nome"
   ]
  },
  {
   "cell_type": "code",
   "execution_count": 18,
   "id": "02ef5e52",
   "metadata": {},
   "outputs": [
    {
     "data": {
      "text/plain": [
       "True"
      ]
     },
     "execution_count": 18,
     "metadata": {},
     "output_type": "execute_result"
    }
   ],
   "source": [
    "'a' in nome"
   ]
  },
  {
   "cell_type": "markdown",
   "id": "d3d2c950",
   "metadata": {},
   "source": [
    "### 4.6.2 Operador 'is'"
   ]
  },
  {
   "cell_type": "code",
   "execution_count": 19,
   "id": "e7b1c767",
   "metadata": {},
   "outputs": [],
   "source": [
    "a = 3\n",
    "b = a\n",
    "c = b"
   ]
  },
  {
   "cell_type": "code",
   "execution_count": 20,
   "id": "e3a6b0d1",
   "metadata": {},
   "outputs": [
    {
     "name": "stdout",
     "output_type": "stream",
     "text": [
      "3 3 3\n"
     ]
    }
   ],
   "source": [
    "print(a,b,c)"
   ]
  },
  {
   "cell_type": "code",
   "execution_count": 21,
   "id": "1a22eb8f",
   "metadata": {},
   "outputs": [
    {
     "name": "stdout",
     "output_type": "stream",
     "text": [
      "<method-wrapper '__hash__' of int object at 0x7fcd86838130>\n",
      "<method-wrapper '__hash__' of int object at 0x7fcd86838130>\n",
      "<method-wrapper '__hash__' of int object at 0x7fcd86838130>\n"
     ]
    }
   ],
   "source": [
    "print(a.__hash__)\n",
    "print(b.__hash__)\n",
    "print(c.__hash__)"
   ]
  },
  {
   "cell_type": "code",
   "execution_count": 22,
   "id": "17947460",
   "metadata": {},
   "outputs": [
    {
     "data": {
      "text/plain": [
       "True"
      ]
     },
     "execution_count": 22,
     "metadata": {},
     "output_type": "execute_result"
    }
   ],
   "source": [
    "a is b"
   ]
  },
  {
   "cell_type": "code",
   "execution_count": 23,
   "id": "5c654648",
   "metadata": {},
   "outputs": [
    {
     "data": {
      "text/plain": [
       "True"
      ]
     },
     "execution_count": 23,
     "metadata": {},
     "output_type": "execute_result"
    }
   ],
   "source": [
    "c is a"
   ]
  },
  {
   "cell_type": "code",
   "execution_count": 24,
   "id": "aec8011f",
   "metadata": {},
   "outputs": [],
   "source": [
    "b = 5"
   ]
  },
  {
   "cell_type": "code",
   "execution_count": 25,
   "id": "85997929",
   "metadata": {},
   "outputs": [
    {
     "name": "stdout",
     "output_type": "stream",
     "text": [
      "<method-wrapper '__hash__' of int object at 0x7fcd86838130>\n",
      "<method-wrapper '__hash__' of int object at 0x7fcd86838170>\n",
      "<method-wrapper '__hash__' of int object at 0x7fcd86838130>\n"
     ]
    }
   ],
   "source": [
    "print(a.__hash__)\n",
    "print(b.__hash__)\n",
    "print(c.__hash__)"
   ]
  },
  {
   "cell_type": "code",
   "execution_count": 26,
   "id": "f6e99f78",
   "metadata": {},
   "outputs": [
    {
     "data": {
      "text/plain": [
       "False"
      ]
     },
     "execution_count": 26,
     "metadata": {},
     "output_type": "execute_result"
    }
   ],
   "source": [
    "a is b"
   ]
  },
  {
   "cell_type": "code",
   "execution_count": 27,
   "id": "bd36bd3a",
   "metadata": {},
   "outputs": [
    {
     "data": {
      "text/plain": [
       "True"
      ]
     },
     "execution_count": 27,
     "metadata": {},
     "output_type": "execute_result"
    }
   ],
   "source": [
    "a is c"
   ]
  },
  {
   "cell_type": "code",
   "execution_count": 28,
   "id": "1e1f9055",
   "metadata": {},
   "outputs": [],
   "source": [
    "x = [1,2,3]\n",
    "y = x\n",
    "w = [1,2,3]"
   ]
  },
  {
   "cell_type": "code",
   "execution_count": 29,
   "id": "03230042",
   "metadata": {},
   "outputs": [
    {
     "data": {
      "text/plain": [
       "True"
      ]
     },
     "execution_count": 29,
     "metadata": {},
     "output_type": "execute_result"
    }
   ],
   "source": [
    "x is y"
   ]
  },
  {
   "cell_type": "code",
   "execution_count": 30,
   "id": "beed7bfa",
   "metadata": {},
   "outputs": [
    {
     "data": {
      "text/plain": [
       "False"
      ]
     },
     "execution_count": 30,
     "metadata": {},
     "output_type": "execute_result"
    }
   ],
   "source": [
    "w is x"
   ]
  },
  {
   "cell_type": "code",
   "execution_count": 33,
   "id": "1dcadbca",
   "metadata": {},
   "outputs": [
    {
     "name": "stdout",
     "output_type": "stream",
     "text": [
      "<method-wrapper '__hash__' of int object at 0x7fcd86838130>\n",
      "<method-wrapper '__hash__' of int object at 0x7fcd86838130>\n",
      "<method-wrapper '__hash__' of int object at 0x7fcd86838130>\n"
     ]
    }
   ],
   "source": [
    "print(x[2].__hash__)\n",
    "print(y[2].__hash__)\n",
    "print(w[2].__hash__)"
   ]
  },
  {
   "cell_type": "code",
   "execution_count": 34,
   "id": "ba5a6c42",
   "metadata": {},
   "outputs": [
    {
     "name": "stdout",
     "output_type": "stream",
     "text": [
      "None\n",
      "None\n",
      "None\n"
     ]
    }
   ],
   "source": []
  },
  {
   "cell_type": "code",
   "execution_count": null,
   "id": "e6fb9e7e",
   "metadata": {},
   "outputs": [],
   "source": []
  }
 ],
 "metadata": {
  "kernelspec": {
   "display_name": "Python 3 (ipykernel)",
   "language": "python",
   "name": "python3"
  },
  "language_info": {
   "codemirror_mode": {
    "name": "ipython",
    "version": 3
   },
   "file_extension": ".py",
   "mimetype": "text/x-python",
   "name": "python",
   "nbconvert_exporter": "python",
   "pygments_lexer": "ipython3",
   "version": "3.10.6"
  }
 },
 "nbformat": 4,
 "nbformat_minor": 5
}
