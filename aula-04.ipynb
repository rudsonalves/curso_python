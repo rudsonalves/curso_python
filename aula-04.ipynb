{
 "cells": [
  {
   "cell_type": "markdown",
   "id": "4152d025",
   "metadata": {},
   "source": [
    "# 5. String"
   ]
  },
  {
   "cell_type": "markdown",
   "id": "5ab34f58",
   "metadata": {},
   "source": [
    "String é como uma tupla de caracteres, ou seja, como os números uma string também é imutável."
   ]
  },
  {
   "cell_type": "code",
   "execution_count": 9,
   "id": "677cbc8f",
   "metadata": {},
   "outputs": [
    {
     "ename": "TypeError",
     "evalue": "'str' object does not support item assignment",
     "output_type": "error",
     "traceback": [
      "\u001b[0;31m---------------------------------------------------------------------------\u001b[0m",
      "\u001b[0;31mTypeError\u001b[0m                                 Traceback (most recent call last)",
      "Cell \u001b[0;32mIn[9], line 2\u001b[0m\n\u001b[1;32m      1\u001b[0m name \u001b[38;5;241m=\u001b[39m \u001b[38;5;124m'\u001b[39m\u001b[38;5;124mJoão Walmiro Alves\u001b[39m\u001b[38;5;124m'\u001b[39m\n\u001b[0;32m----> 2\u001b[0m \u001b[43mname\u001b[49m\u001b[43m[\u001b[49m\u001b[38;5;241;43m3\u001b[39;49m\u001b[43m]\u001b[49m \u001b[38;5;241m=\u001b[39m \u001b[38;5;124m'\u001b[39m\u001b[38;5;124mZ\u001b[39m\u001b[38;5;124m'\u001b[39m\n",
      "\u001b[0;31mTypeError\u001b[0m: 'str' object does not support item assignment"
     ]
    }
   ],
   "source": [
    "name = 'João Walmiro Alves'\n",
    "name[3] = 'Z'"
   ]
  },
  {
   "cell_type": "code",
   "execution_count": 10,
   "id": "8854fc4e",
   "metadata": {},
   "outputs": [
    {
     "data": {
      "text/plain": [
       "18"
      ]
     },
     "execution_count": 10,
     "metadata": {},
     "output_type": "execute_result"
    }
   ],
   "source": [
    "length = len(name)\n",
    "length"
   ]
  },
  {
   "cell_type": "code",
   "execution_count": 11,
   "id": "6e75c6d2",
   "metadata": {},
   "outputs": [
    {
     "name": "stdout",
     "output_type": "stream",
     "text": [
      "João Walmiro Alves possui 18 caracteres\n"
     ]
    }
   ],
   "source": [
    "print('{} possui {} caracteres'.format(name, length))"
   ]
  },
  {
   "cell_type": "code",
   "execution_count": 12,
   "id": "44591d09",
   "metadata": {},
   "outputs": [
    {
     "name": "stdout",
     "output_type": "stream",
     "text": [
      "João Walmiro Alves possui 18 caracteres\n"
     ]
    }
   ],
   "source": [
    "print(f'{name} possui {length} caracteres')"
   ]
  },
  {
   "cell_type": "markdown",
   "id": "acb99fdd",
   "metadata": {},
   "source": [
    "O \"f\" à frente da string '{name} possui {length} caracteres' diz ao print para substituir as variáveis entre as chaves por seu valor, pré definido."
   ]
  },
  {
   "cell_type": "code",
   "execution_count": 13,
   "id": "1be72a90",
   "metadata": {},
   "outputs": [
    {
     "name": "stdout",
     "output_type": "stream",
     "text": [
      "João Walmiro Alves possui 18 caracteres\n"
     ]
    }
   ],
   "source": [
    "print('{1} possui {0} caracteres'.format(length, nome))"
   ]
  },
  {
   "cell_type": "markdown",
   "id": "1c38644e",
   "metadata": {},
   "source": [
    "## 5.1. Escapando Aspas"
   ]
  },
  {
   "cell_type": "code",
   "execution_count": 16,
   "id": "19f7265d",
   "metadata": {},
   "outputs": [
    {
     "name": "stdout",
     "output_type": "stream",
     "text": [
      "marca d'água\n"
     ]
    }
   ],
   "source": [
    "print('marca d\\'água')"
   ]
  },
  {
   "cell_type": "code",
   "execution_count": 18,
   "id": "6666e9fe",
   "metadata": {},
   "outputs": [
    {
     "name": "stdout",
     "output_type": "stream",
     "text": [
      "marca d'água\n"
     ]
    }
   ],
   "source": [
    "print(\"marca d'água\")"
   ]
  },
  {
   "cell_type": "code",
   "execution_count": 19,
   "id": "3c7c7941",
   "metadata": {},
   "outputs": [
    {
     "name": "stdout",
     "output_type": "stream",
     "text": [
      "marca d\"água\n"
     ]
    }
   ],
   "source": [
    "print(\"marca d\\\"água\")"
   ]
  },
  {
   "cell_type": "code",
   "execution_count": 21,
   "id": "0a1e70e9",
   "metadata": {},
   "outputs": [
    {
     "name": "stdout",
     "output_type": "stream",
     "text": [
      "Seu nome é \"Alechandre o Grande\", simplesmente ...\n"
     ]
    }
   ],
   "source": [
    "print(\"Seu nome é \\\"Alechandre o Grande\\\", simplesmente ...\")"
   ]
  },
  {
   "cell_type": "code",
   "execution_count": 22,
   "id": "3e8ace46",
   "metadata": {},
   "outputs": [
    {
     "name": "stdout",
     "output_type": "stream",
     "text": [
      "Seu nome é \"Alechandre o Grande\", simplesmente ...\n"
     ]
    }
   ],
   "source": [
    "print('Seu nome é \"Alechandre o Grande\", simplesmente ...')"
   ]
  },
  {
   "cell_type": "markdown",
   "id": "bcfefd1c",
   "metadata": {},
   "source": [
    "## 5.2. Texto em Múltiplas Linhas e Caracteres Especiais"
   ]
  },
  {
   "cell_type": "code",
   "execution_count": 25,
   "id": "8eecc90f",
   "metadata": {},
   "outputs": [],
   "source": [
    "a = \"\"\"Isto é um texto \n",
    "de muitas linhas.\n",
    "Como pode ver!\n",
    "\"\"\""
   ]
  },
  {
   "cell_type": "code",
   "execution_count": 26,
   "id": "102832b4",
   "metadata": {},
   "outputs": [
    {
     "name": "stdout",
     "output_type": "stream",
     "text": [
      "Isto é um texto \n",
      "de muitas linhas.\n",
      "Como pode ver!\n",
      "\n"
     ]
    }
   ],
   "source": [
    "print(a)"
   ]
  },
  {
   "cell_type": "code",
   "execution_count": 27,
   "id": "6972fad2",
   "metadata": {},
   "outputs": [],
   "source": [
    "a = 'Isto é um texto \\\n",
    "escrito em muitas \\\n",
    "linhas!'"
   ]
  },
  {
   "cell_type": "code",
   "execution_count": 28,
   "id": "c3f137fc",
   "metadata": {},
   "outputs": [
    {
     "name": "stdout",
     "output_type": "stream",
     "text": [
      "Isto é um texto escrito em muitas linhas!\n"
     ]
    }
   ],
   "source": [
    "print(a)"
   ]
  },
  {
   "cell_type": "code",
   "execution_count": 34,
   "id": "ae799d41",
   "metadata": {},
   "outputs": [],
   "source": [
    "a = 'Isto é um\\ntexto em muitas\\nlinhas!'"
   ]
  },
  {
   "cell_type": "code",
   "execution_count": 35,
   "id": "264bfe39",
   "metadata": {},
   "outputs": [
    {
     "name": "stdout",
     "output_type": "stream",
     "text": [
      "Isto é um\n",
      "texto em muitas\n",
      "linhas!\n"
     ]
    }
   ],
   "source": [
    "print(a)"
   ]
  },
  {
   "cell_type": "markdown",
   "id": "1e367854",
   "metadata": {},
   "source": [
    "\\n é uma quebra de linha\n",
    "\\t um tabulamento (8 espaços)"
   ]
  },
  {
   "cell_type": "code",
   "execution_count": 36,
   "id": "6c992b6d",
   "metadata": {},
   "outputs": [
    {
     "name": "stdout",
     "output_type": "stream",
     "text": [
      "Id\tDescrição\tQt\tValor\n"
     ]
    }
   ],
   "source": [
    "print('Id\\tDescrição\\tQt\\tValor')"
   ]
  },
  {
   "cell_type": "markdown",
   "id": "73af0858",
   "metadata": {},
   "source": [
    "## 5.3. Acessando Parte de uma String"
   ]
  },
  {
   "cell_type": "code",
   "execution_count": 37,
   "id": "6eedce79",
   "metadata": {},
   "outputs": [],
   "source": [
    "name = 'João Walmiro Alves'"
   ]
  },
  {
   "cell_type": "code",
   "execution_count": 38,
   "id": "87f356c4",
   "metadata": {},
   "outputs": [
    {
     "name": "stdout",
     "output_type": "stream",
     "text": [
      "J\n",
      "s\n"
     ]
    }
   ],
   "source": [
    "print(name[0])\n",
    "print(name[-1])"
   ]
  },
  {
   "cell_type": "code",
   "execution_count": 39,
   "id": "fbd9dbfd",
   "metadata": {},
   "outputs": [
    {
     "name": "stdout",
     "output_type": "stream",
     "text": [
      "o\n",
      "e\n"
     ]
    }
   ],
   "source": [
    "print(name[1])\n",
    "print(name[-2])"
   ]
  },
  {
   "cell_type": "code",
   "execution_count": 40,
   "id": "56a7fb9c",
   "metadata": {},
   "outputs": [
    {
     "data": {
      "text/plain": [
       "'o Wal'"
      ]
     },
     "execution_count": 40,
     "metadata": {},
     "output_type": "execute_result"
    }
   ],
   "source": [
    "name[3:8]"
   ]
  },
  {
   "cell_type": "code",
   "execution_count": 41,
   "id": "c963c2a7",
   "metadata": {},
   "outputs": [],
   "source": [
    "numeros = '123456789ABCDEF'"
   ]
  },
  {
   "cell_type": "code",
   "execution_count": 45,
   "id": "872468b4",
   "metadata": {},
   "outputs": [
    {
     "data": {
      "text/plain": [
       "'123'"
      ]
     },
     "execution_count": 45,
     "metadata": {},
     "output_type": "execute_result"
    }
   ],
   "source": [
    "numeros[0:3]"
   ]
  },
  {
   "cell_type": "code",
   "execution_count": 46,
   "id": "69a4e6a4",
   "metadata": {},
   "outputs": [
    {
     "data": {
      "text/plain": [
       "'123'"
      ]
     },
     "execution_count": 46,
     "metadata": {},
     "output_type": "execute_result"
    }
   ],
   "source": [
    "numeros[:3]"
   ]
  },
  {
   "cell_type": "code",
   "execution_count": 47,
   "id": "5d0f60e9",
   "metadata": {},
   "outputs": [
    {
     "data": {
      "text/plain": [
       "'BCDEF'"
      ]
     },
     "execution_count": 47,
     "metadata": {},
     "output_type": "execute_result"
    }
   ],
   "source": [
    "numeros[10:]"
   ]
  },
  {
   "cell_type": "code",
   "execution_count": 48,
   "id": "2a3ead9e",
   "metadata": {},
   "outputs": [
    {
     "data": {
      "text/plain": [
       "'13579BDF'"
      ]
     },
     "execution_count": 48,
     "metadata": {},
     "output_type": "execute_result"
    }
   ],
   "source": [
    "numeros[::2]"
   ]
  },
  {
   "cell_type": "code",
   "execution_count": 49,
   "id": "91216253",
   "metadata": {},
   "outputs": [
    {
     "data": {
      "text/plain": [
       "'147AD'"
      ]
     },
     "execution_count": 49,
     "metadata": {},
     "output_type": "execute_result"
    }
   ],
   "source": [
    "numeros[::3]"
   ]
  },
  {
   "cell_type": "code",
   "execution_count": 50,
   "id": "9a9561b0",
   "metadata": {},
   "outputs": [
    {
     "data": {
      "text/plain": [
       "'FEDCBA987654321'"
      ]
     },
     "execution_count": 50,
     "metadata": {},
     "output_type": "execute_result"
    }
   ],
   "source": [
    "numeros[::-1]"
   ]
  },
  {
   "cell_type": "code",
   "execution_count": 51,
   "id": "f5dd91ce",
   "metadata": {},
   "outputs": [
    {
     "data": {
      "text/plain": [
       "'FDB97531'"
      ]
     },
     "execution_count": 51,
     "metadata": {},
     "output_type": "execute_result"
    }
   ],
   "source": [
    "numeros[::-2]"
   ]
  },
  {
   "cell_type": "markdown",
   "id": "93e0c125",
   "metadata": {},
   "source": [
    "### 5.3.2. Liguagem Natural"
   ]
  },
  {
   "cell_type": "code",
   "execution_count": 53,
   "id": "13d20e9a",
   "metadata": {},
   "outputs": [],
   "source": [
    "name='João Walmiro Alves'"
   ]
  },
  {
   "cell_type": "code",
   "execution_count": 54,
   "id": "cd0b81bb",
   "metadata": {},
   "outputs": [
    {
     "data": {
      "text/plain": [
       "False"
      ]
     },
     "execution_count": 54,
     "metadata": {},
     "output_type": "execute_result"
    }
   ],
   "source": [
    "'joão' in name"
   ]
  },
  {
   "cell_type": "code",
   "execution_count": 55,
   "id": "33cc3c10",
   "metadata": {},
   "outputs": [
    {
     "data": {
      "text/plain": [
       "True"
      ]
     },
     "execution_count": 55,
     "metadata": {},
     "output_type": "execute_result"
    }
   ],
   "source": [
    "'João' in name"
   ]
  },
  {
   "cell_type": "code",
   "execution_count": 56,
   "id": "a1f5e69a",
   "metadata": {},
   "outputs": [
    {
     "data": {
      "text/plain": [
       "True"
      ]
     },
     "execution_count": 56,
     "metadata": {},
     "output_type": "execute_result"
    }
   ],
   "source": [
    "'joão' not in name"
   ]
  },
  {
   "cell_type": "code",
   "execution_count": 57,
   "id": "db4d667a",
   "metadata": {},
   "outputs": [
    {
     "data": {
      "text/plain": [
       "True"
      ]
     },
     "execution_count": 57,
     "metadata": {},
     "output_type": "execute_result"
    }
   ],
   "source": [
    "'joão' in name.lower()"
   ]
  },
  {
   "cell_type": "code",
   "execution_count": 58,
   "id": "ecb15263",
   "metadata": {},
   "outputs": [
    {
     "data": {
      "text/plain": [
       "'joão walmiro alves'"
      ]
     },
     "execution_count": 58,
     "metadata": {},
     "output_type": "execute_result"
    }
   ],
   "source": [
    "name.lower()"
   ]
  },
  {
   "cell_type": "code",
   "execution_count": 59,
   "id": "8fe7081b",
   "metadata": {},
   "outputs": [
    {
     "name": "stdout",
     "output_type": "stream",
     "text": [
      "Help on built-in function capitalize:\n",
      "\n",
      "capitalize() method of builtins.str instance\n",
      "    Return a capitalized version of the string.\n",
      "    \n",
      "    More specifically, make the first character have upper case and the rest lower\n",
      "    case.\n",
      "\n"
     ]
    }
   ],
   "source": [
    "help(name.capitalize)"
   ]
  },
  {
   "cell_type": "code",
   "execution_count": 60,
   "id": "f9c752bd",
   "metadata": {},
   "outputs": [
    {
     "data": {
      "text/plain": [
       "'João walmiro alves'"
      ]
     },
     "execution_count": 60,
     "metadata": {},
     "output_type": "execute_result"
    }
   ],
   "source": [
    "name.capitalize()"
   ]
  },
  {
   "cell_type": "code",
   "execution_count": 64,
   "id": "0b484f86",
   "metadata": {},
   "outputs": [
    {
     "name": "stdout",
     "output_type": "stream",
     "text": [
      "Rudson Ribeiro Alves\n"
     ]
    }
   ],
   "source": [
    "myName = name.replace('João', 'Rudson').replace('Walmiro', 'Ribeiro')\n",
    "print(myName)"
   ]
  },
  {
   "cell_type": "code",
   "execution_count": 66,
   "id": "0ade112f",
   "metadata": {},
   "outputs": [
    {
     "data": {
      "text/plain": [
       "1"
      ]
     },
     "execution_count": 66,
     "metadata": {},
     "output_type": "execute_result"
    }
   ],
   "source": [
    "myName.lower().count('a')"
   ]
  },
  {
   "cell_type": "markdown",
   "id": "a587b417",
   "metadata": {},
   "source": [
    "## 5.4. Método Format"
   ]
  },
  {
   "cell_type": "code",
   "execution_count": 68,
   "id": "6f7b292b",
   "metadata": {},
   "outputs": [],
   "source": [
    "nome = 'Gabriel Bortolini Alves'\n",
    "cpf = '345.435.435-54'\n",
    "idade = 27\n",
    "peso = 70.342"
   ]
  },
  {
   "cell_type": "code",
   "execution_count": 72,
   "id": "efa00dbc",
   "metadata": {},
   "outputs": [
    {
     "name": "stdout",
     "output_type": "stream",
     "text": [
      "Nome: \tGabriel Bortolini Alves\n",
      "CPF: \t345.435.435-54\n",
      "Idade: \t27\n"
     ]
    }
   ],
   "source": [
    "print('Nome: \\t{}\\nCPF: \\t{}\\nIdade: \\t{}'.format(nome, cpf, idade))"
   ]
  },
  {
   "cell_type": "code",
   "execution_count": 74,
   "id": "8d22fa6b",
   "metadata": {},
   "outputs": [
    {
     "name": "stdout",
     "output_type": "stream",
     "text": [
      "Nome: \tGabriel Bortolini Alves\n",
      "CPF: \t345.435.435-54\n",
      "Idade: \t27\n"
     ]
    }
   ],
   "source": [
    "print('Nome: \\t{0}\\nCPF: \\t{1}\\nIdade: \\t{2}'.format(nome, cpf, idade))"
   ]
  },
  {
   "cell_type": "code",
   "execution_count": 75,
   "id": "c1d96cb6",
   "metadata": {},
   "outputs": [
    {
     "name": "stdout",
     "output_type": "stream",
     "text": [
      "Nome: \tGabriel Bortolini Alves\n",
      "CPF: \t345.435.435-54\n",
      "Idade: \t27\n",
      "O Gabriel Bortolini Alves possui 27 anos.\n"
     ]
    }
   ],
   "source": [
    "print('Nome: \\t{0}\\nCPF: \\t{1}\\nIdade: \\t{2}\\nO {0} possui {2} anos.'.format(nome, cpf, idade))"
   ]
  },
  {
   "cell_type": "code",
   "execution_count": 76,
   "id": "421988c6",
   "metadata": {},
   "outputs": [
    {
     "name": "stdout",
     "output_type": "stream",
     "text": [
      "Nome: \tGabriel Bortolini Alves\n",
      "CPF: \t345.435.435-54\n",
      "Idade: \t27\n"
     ]
    }
   ],
   "source": [
    "print(f'Nome: \\t{nome}\\nCPF: \\t{cpf}\\nIdade: \\t{idade}'.format(nome, cpf, idade))"
   ]
  },
  {
   "cell_type": "code",
   "execution_count": 78,
   "id": "9b1911d6",
   "metadata": {},
   "outputs": [
    {
     "name": "stdout",
     "output_type": "stream",
     "text": [
      "Nome: \tGabriel Bortolini Alves\n",
      "CPF: \t345.435.435-54\n",
      "Idade: \t27\n",
      "Peso: \t70.342 kg\n"
     ]
    }
   ],
   "source": [
    "print(f'Nome: \\t{nome}\\nCPF: \\t{cpf}\\nIdade: \\t{idade}\\nPeso: \\t{peso} kg'.format(nome, cpf, idade, peso))"
   ]
  },
  {
   "cell_type": "code",
   "execution_count": 88,
   "id": "47024bed",
   "metadata": {},
   "outputs": [
    {
     "name": "stdout",
     "output_type": "stream",
     "text": [
      "Nome: \t  Gabriel Bortolini Alves\n",
      "CPF: \t           345.435.435-54\n",
      "Idade: \t                       27\n",
      "Peso: \t                  70.3 kg\n"
     ]
    }
   ],
   "source": [
    "print(f'Nome: \\t{nome:>25}\\nCPF: \\t{cpf:>25}\\nIdade: \\t{idade:>25}\\nPeso: \\t{peso:>22.1f} kg'.format(nome, cpf, idade, peso))"
   ]
  },
  {
   "cell_type": "code",
   "execution_count": 81,
   "id": "8828b665",
   "metadata": {},
   "outputs": [
    {
     "data": {
      "text/plain": [
       "23"
      ]
     },
     "execution_count": 81,
     "metadata": {},
     "output_type": "execute_result"
    }
   ],
   "source": [
    "len(nome)"
   ]
  },
  {
   "cell_type": "markdown",
   "id": "6cb68365",
   "metadata": {},
   "source": [
    "### 5.4.1 Detalhes Sobre o print"
   ]
  },
  {
   "cell_type": "code",
   "execution_count": 89,
   "id": "975b8534",
   "metadata": {},
   "outputs": [
    {
     "name": "stdout",
     "output_type": "stream",
     "text": [
      "Help on built-in function print in module builtins:\n",
      "\n",
      "print(...)\n",
      "    print(value, ..., sep=' ', end='\\n', file=sys.stdout, flush=False)\n",
      "    \n",
      "    Prints the values to a stream, or to sys.stdout by default.\n",
      "    Optional keyword arguments:\n",
      "    file:  a file-like object (stream); defaults to the current sys.stdout.\n",
      "    sep:   string inserted between values, default a space.\n",
      "    end:   string appended after the last value, default a newline.\n",
      "    flush: whether to forcibly flush the stream.\n",
      "\n"
     ]
    }
   ],
   "source": [
    "help(print)"
   ]
  },
  {
   "cell_type": "code",
   "execution_count": 93,
   "id": "27cbb0d5",
   "metadata": {},
   "outputs": [],
   "source": [
    "a = \"A\"\n",
    "b = \"B\"\n",
    "c = 'C'"
   ]
  },
  {
   "cell_type": "code",
   "execution_count": 91,
   "id": "f1a39030",
   "metadata": {},
   "outputs": [
    {
     "name": "stdout",
     "output_type": "stream",
     "text": [
      "A\n",
      "B\n",
      "C\n"
     ]
    }
   ],
   "source": [
    "print(a)\n",
    "print(b)\n",
    "print(c)"
   ]
  },
  {
   "cell_type": "code",
   "execution_count": 92,
   "id": "4feef5fe",
   "metadata": {},
   "outputs": [
    {
     "name": "stdout",
     "output_type": "stream",
     "text": [
      "ABC\n"
     ]
    }
   ],
   "source": [
    "print(a, end='')\n",
    "print(b, end='')\n",
    "print(c)"
   ]
  },
  {
   "cell_type": "code",
   "execution_count": 94,
   "id": "b04fe60e",
   "metadata": {},
   "outputs": [
    {
     "name": "stdout",
     "output_type": "stream",
     "text": [
      "A B C\n"
     ]
    }
   ],
   "source": [
    "print(a,b,c)"
   ]
  },
  {
   "cell_type": "code",
   "execution_count": 95,
   "id": "4d81d804",
   "metadata": {},
   "outputs": [
    {
     "name": "stdout",
     "output_type": "stream",
     "text": [
      "A-B-C\n"
     ]
    }
   ],
   "source": [
    "print(a, b, c, sep='-')"
   ]
  },
  {
   "cell_type": "code",
   "execution_count": null,
   "id": "71be8ab2",
   "metadata": {},
   "outputs": [],
   "source": []
  }
 ],
 "metadata": {
  "kernelspec": {
   "display_name": "Python 3 (ipykernel)",
   "language": "python",
   "name": "python3"
  },
  "language_info": {
   "codemirror_mode": {
    "name": "ipython",
    "version": 3
   },
   "file_extension": ".py",
   "mimetype": "text/x-python",
   "name": "python",
   "nbconvert_exporter": "python",
   "pygments_lexer": "ipython3",
   "version": "3.10.6"
  }
 },
 "nbformat": 4,
 "nbformat_minor": 5
}
