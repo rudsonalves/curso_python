{
 "cells": [
  {
   "cell_type": "markdown",
   "id": "b3c8550e",
   "metadata": {},
   "source": [
    "## 12. Orientação a Objetos no Python\n",
    "\n",
    "No python tudo é um objeto:"
   ]
  },
  {
   "cell_type": "code",
   "execution_count": 3,
   "id": "cb4a5886",
   "metadata": {},
   "outputs": [],
   "source": [
    "a = 'Gabriel'"
   ]
  },
  {
   "cell_type": "code",
   "execution_count": 7,
   "id": "5381e3b9",
   "metadata": {},
   "outputs": [
    {
     "data": {
      "text/plain": [
       "'GABRIEL'"
      ]
     },
     "execution_count": 7,
     "metadata": {},
     "output_type": "execute_result"
    }
   ],
   "source": [
    "a.upper()  # Gera uma saída em upper case"
   ]
  },
  {
   "cell_type": "code",
   "execution_count": 8,
   "id": "d6460efd",
   "metadata": {},
   "outputs": [
    {
     "data": {
      "text/plain": [
       "'gabriel'"
      ]
     },
     "execution_count": 8,
     "metadata": {},
     "output_type": "execute_result"
    }
   ],
   "source": [
    "a.lower() # Gera uma saída em lower case"
   ]
  },
  {
   "cell_type": "markdown",
   "id": "7f123295",
   "metadata": {},
   "source": [
    "## Declarando Classe\n",
    "\n",
    "upper() e lower() são métodos da classe String.\n",
    "\n",
    "Criando uma classe Pessoas:\n",
    "\n",
    "Atributos: nome, idade, peso, cpf\n",
    "Médotos (funções -> ação): come, caminha, ... "
   ]
  },
  {
   "cell_type": "code",
   "execution_count": 15,
   "id": "b10a457b",
   "metadata": {},
   "outputs": [],
   "source": [
    "class Pessoa():  # Declara um escopo do que é a sua pessoa\n",
    "    nome = ''\n",
    "    idade = 0\n",
    "    cpf = '000.000.000-00'"
   ]
  },
  {
   "cell_type": "code",
   "execution_count": 16,
   "id": "21d90caa",
   "metadata": {},
   "outputs": [],
   "source": [
    "p1 = Pessoa()  # instanciando uma classe Pessoa => criando um objeto com as declarações da classe Pessoa"
   ]
  },
  {
   "cell_type": "code",
   "execution_count": 21,
   "id": "872ecf56",
   "metadata": {},
   "outputs": [
    {
     "name": "stdout",
     "output_type": "stream",
     "text": [
      "['cpf', 'idade', 'nome']\n"
     ]
    }
   ],
   "source": [
    "print(dir(p1)[-3:]) # somente os atributos"
   ]
  },
  {
   "cell_type": "code",
   "execution_count": 22,
   "id": "20676b6f",
   "metadata": {},
   "outputs": [],
   "source": [
    "p1.nome = 'Gabriel'\n",
    "p1.idade = 26\n",
    "p1.cpf = '123.123.123-33'"
   ]
  },
  {
   "cell_type": "code",
   "execution_count": 23,
   "id": "f6f37153",
   "metadata": {},
   "outputs": [
    {
     "data": {
      "text/plain": [
       "'Gabriel'"
      ]
     },
     "execution_count": 23,
     "metadata": {},
     "output_type": "execute_result"
    }
   ],
   "source": [
    "p1.nome"
   ]
  },
  {
   "cell_type": "code",
   "execution_count": 24,
   "id": "86886173",
   "metadata": {},
   "outputs": [
    {
     "data": {
      "text/plain": [
       "26"
      ]
     },
     "execution_count": 24,
     "metadata": {},
     "output_type": "execute_result"
    }
   ],
   "source": [
    "p1.idade"
   ]
  },
  {
   "cell_type": "code",
   "execution_count": 25,
   "id": "c4dc2bb6",
   "metadata": {},
   "outputs": [
    {
     "data": {
      "text/plain": [
       "'123.123.123-33'"
      ]
     },
     "execution_count": 25,
     "metadata": {},
     "output_type": "execute_result"
    }
   ],
   "source": [
    "p1.cpf"
   ]
  },
  {
   "cell_type": "code",
   "execution_count": null,
   "id": "7d6b108c",
   "metadata": {},
   "outputs": [],
   "source": []
  }
 ],
 "metadata": {
  "kernelspec": {
   "display_name": "Python 3 (ipykernel)",
   "language": "python",
   "name": "python3"
  },
  "language_info": {
   "codemirror_mode": {
    "name": "ipython",
    "version": 3
   },
   "file_extension": ".py",
   "mimetype": "text/x-python",
   "name": "python",
   "nbconvert_exporter": "python",
   "pygments_lexer": "ipython3",
   "version": "3.10.6"
  }
 },
 "nbformat": 4,
 "nbformat_minor": 5
}
