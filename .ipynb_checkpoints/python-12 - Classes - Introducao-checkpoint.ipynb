{
 "cells": [
  {
   "cell_type": "markdown",
   "id": "4b2a1fa8",
   "metadata": {},
   "source": [
    "## 12. Orientação a Objetos no Python\n",
    "\n",
    "No python tudo é um objeto:"
   ]
  },
  {
   "cell_type": "code",
   "execution_count": 3,
   "id": "ba281b0a",
   "metadata": {},
   "outputs": [],
   "source": [
    "a = 'Gabriel'"
   ]
  },
  {
   "cell_type": "code",
   "execution_count": 7,
   "id": "44c78864",
   "metadata": {},
   "outputs": [
    {
     "data": {
      "text/plain": [
       "'GABRIEL'"
      ]
     },
     "execution_count": 7,
     "metadata": {},
     "output_type": "execute_result"
    }
   ],
   "source": [
    "a.upper()  # Gera uma saída em upper case"
   ]
  },
  {
   "cell_type": "code",
   "execution_count": 8,
   "id": "4579a301",
   "metadata": {},
   "outputs": [
    {
     "data": {
      "text/plain": [
       "'gabriel'"
      ]
     },
     "execution_count": 8,
     "metadata": {},
     "output_type": "execute_result"
    }
   ],
   "source": [
    "a.lower() # Gera uma saída em lower case"
   ]
  },
  {
   "cell_type": "markdown",
   "id": "79a058a0",
   "metadata": {},
   "source": [
    "## 12.1. Declarando Classe\n",
    "\n",
    "upper() e lower() são métodos da classe String.\n",
    "\n",
    "Criando uma classe Pessoas:\n",
    "\n",
    "* Atributos: nome, idade, peso, cpf\n",
    "* Médotos (funções -> ação): come, caminha, ...\n",
    "\n",
    "Uma classe não é o objeto em sim. Ela é uma declaração do que será o seu objeto."
   ]
  },
  {
   "cell_type": "code",
   "execution_count": 15,
   "id": "67e23a75",
   "metadata": {},
   "outputs": [],
   "source": [
    "class Pessoa():  # Declara um escopo do que é a sua pessoa\n",
    "    nome = ''\n",
    "    idade = 0\n",
    "    cpf = '000.000.000-00'"
   ]
  },
  {
   "cell_type": "code",
   "execution_count": 16,
   "id": "09c0366e",
   "metadata": {},
   "outputs": [],
   "source": [
    "p1 = Pessoa()  # instanciando uma classe Pessoa => criando um objeto com as declarações da classe Pessoa"
   ]
  },
  {
   "cell_type": "code",
   "execution_count": 21,
   "id": "ac05af36",
   "metadata": {},
   "outputs": [
    {
     "name": "stdout",
     "output_type": "stream",
     "text": [
      "['cpf', 'idade', 'nome']\n"
     ]
    }
   ],
   "source": [
    "print(dir(p1)[-3:]) # somente os atributos"
   ]
  },
  {
   "cell_type": "code",
   "execution_count": 22,
   "id": "769610f8",
   "metadata": {},
   "outputs": [],
   "source": [
    "p1.nome = 'Gabriel'\n",
    "p1.idade = 26\n",
    "p1.cpf = '123.123.123-33'"
   ]
  },
  {
   "cell_type": "code",
   "execution_count": 23,
   "id": "1668969e",
   "metadata": {},
   "outputs": [
    {
     "data": {
      "text/plain": [
       "'Gabriel'"
      ]
     },
     "execution_count": 23,
     "metadata": {},
     "output_type": "execute_result"
    }
   ],
   "source": [
    "p1.nome"
   ]
  },
  {
   "cell_type": "code",
   "execution_count": 24,
   "id": "57ac2f92",
   "metadata": {},
   "outputs": [
    {
     "data": {
      "text/plain": [
       "26"
      ]
     },
     "execution_count": 24,
     "metadata": {},
     "output_type": "execute_result"
    }
   ],
   "source": [
    "p1.idade"
   ]
  },
  {
   "cell_type": "code",
   "execution_count": 25,
   "id": "43a1cc08",
   "metadata": {},
   "outputs": [
    {
     "data": {
      "text/plain": [
       "'123.123.123-33'"
      ]
     },
     "execution_count": 25,
     "metadata": {},
     "output_type": "execute_result"
    }
   ],
   "source": [
    "p1.cpf"
   ]
  },
  {
   "cell_type": "markdown",
   "id": "658b6d38",
   "metadata": {},
   "source": [
    "## 12.2. Métodos da Classe\n",
    "\n",
    "São suas ações (funções) da classe."
   ]
  },
  {
   "cell_type": "code",
   "execution_count": 26,
   "id": "739bd6e3",
   "metadata": {},
   "outputs": [],
   "source": [
    "from random import randint"
   ]
  },
  {
   "cell_type": "code",
   "execution_count": 147,
   "id": "d386c48c",
   "metadata": {},
   "outputs": [],
   "source": [
    "def dice6():\n",
    "    return randint(1, 6)\n",
    "\n",
    "def diceN(dice):\n",
    "    return randint(1, dice)\n",
    "\n",
    "def diceStatistic():\n",
    "    minDice = 99\n",
    "    sumDice = 0\n",
    "    for count in range(4):\n",
    "        d6 = dice6()\n",
    "        if minDice > d6:\n",
    "            minDice = d6\n",
    "        sumDice += d6 # sumDice = sumDice + 6\n",
    "    \n",
    "    return sumDice-minDice\n",
    "\n",
    "\n",
    "class Player():\n",
    "    # 8 atributos\n",
    "    name = ''\n",
    "    race = 'humman'\n",
    "    STR = 10\n",
    "    DEX = 10\n",
    "    CON = 10\n",
    "    INT = 10\n",
    "    WIS = 10\n",
    "    CHA = 10\n",
    "    bonusAttackBase = 1\n",
    "    hitPoints = 5\n",
    "    level = 0\n",
    "    \n",
    "    \n",
    "    # 2 métodos\n",
    "    # Método Construtor da classe\n",
    "    def __init__(self, name, race):\n",
    "        self.name = name\n",
    "        self.race = race\n",
    "        \n",
    "        # Método para gerar as estatísticas\n",
    "        self.STR = diceStatistic()\n",
    "        self.DEX = diceStatistic()\n",
    "        self.CON = diceStatistic()\n",
    "        self.INT = diceStatistic()\n",
    "        self.WIS = diceStatistic()\n",
    "        self.CHA = diceStatistic()\n",
    "        \n",
    "        \n",
    "    # retorna a representação String da classe\n",
    "    def __repr__(self):\n",
    "        strDescriptions = 'name: {}  race: {}  level: {}\\nhitPoints: {}\\n'\n",
    "        strStatistics = 'Str: {0}\\t\\tInt: {3}\\nDex: {1}\\t\\tWis {4}\\nCon: {2}\\t\\tCha: {5}'\n",
    "        \n",
    "        strOut = strDescriptions.format(self.name, self.race, \\\n",
    "                                        self.level, self.hitPoints)\n",
    "        strOut += strStatistics.format(self.STR, self.DEX, self.CON, \\\n",
    "                                       self.INT, self.WIS, self.CHA)\n",
    "        return strOut\n",
    "    \n",
    "    \n",
    "    def attack(self):\n",
    "        attack = diceN(20) + int((self.STR - 10)/2) + self.bonusAttackBase\n",
    "        return attack\n",
    "    \n",
    "    \n",
    "    \n",
    "    def levelUp(self):\n",
    "        self.level += 1\n",
    "        hpBonus = int((self.CON - 10)/2)\n",
    "        hpBonus = hpBonus if hpBonus >= 0 else 0 \n",
    "        self.hitPoints += diceN(10) + hpBonus\n",
    "        \n",
    "        "
   ]
  },
  {
   "cell_type": "code",
   "execution_count": 148,
   "id": "0507983e",
   "metadata": {},
   "outputs": [],
   "source": [
    "p1 = Player('Jhon', 'Dwarf')"
   ]
  },
  {
   "cell_type": "code",
   "execution_count": 149,
   "id": "60959c22",
   "metadata": {},
   "outputs": [],
   "source": [
    "p2 = Player('Roberta', 'Halfling')"
   ]
  },
  {
   "cell_type": "code",
   "execution_count": 150,
   "id": "74404a5c",
   "metadata": {},
   "outputs": [
    {
     "data": {
      "text/plain": [
       "name: Jhon  race: Dwarf  level: 0\n",
       "hitPoints: 5\n",
       "Str: 7\t\tInt: 12\n",
       "Dex: 7\t\tWis 11\n",
       "Con: 13\t\tCha: 11"
      ]
     },
     "execution_count": 150,
     "metadata": {},
     "output_type": "execute_result"
    }
   ],
   "source": [
    "p1"
   ]
  },
  {
   "cell_type": "code",
   "execution_count": 157,
   "id": "f9fe789e",
   "metadata": {},
   "outputs": [
    {
     "data": {
      "text/plain": [
       "name: Jhon  race: Dwarf  level: 6\n",
       "hitPoints: 41\n",
       "Str: 7\t\tInt: 12\n",
       "Dex: 7\t\tWis 11\n",
       "Con: 13\t\tCha: 11"
      ]
     },
     "execution_count": 157,
     "metadata": {},
     "output_type": "execute_result"
    }
   ],
   "source": [
    "p1.levelUp()\n",
    "p1"
   ]
  },
  {
   "cell_type": "code",
   "execution_count": 152,
   "id": "b7bb274c",
   "metadata": {},
   "outputs": [
    {
     "data": {
      "text/plain": [
       "2"
      ]
     },
     "execution_count": 152,
     "metadata": {},
     "output_type": "execute_result"
    }
   ],
   "source": []
  },
  {
   "cell_type": "code",
   "execution_count": null,
   "id": "837c0572",
   "metadata": {},
   "outputs": [],
   "source": []
  }
 ],
 "metadata": {
  "kernelspec": {
   "display_name": "Python 3 (ipykernel)",
   "language": "python",
   "name": "python3"
  },
  "language_info": {
   "codemirror_mode": {
    "name": "ipython",
    "version": 3
   },
   "file_extension": ".py",
   "mimetype": "text/x-python",
   "name": "python",
   "nbconvert_exporter": "python",
   "pygments_lexer": "ipython3",
   "version": "3.10.6"
  }
 },
 "nbformat": 4,
 "nbformat_minor": 5
}
