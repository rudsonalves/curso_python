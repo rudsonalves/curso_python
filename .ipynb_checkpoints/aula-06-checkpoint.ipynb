{
 "cells": [
  {
   "cell_type": "markdown",
   "id": "9675feb8",
   "metadata": {},
   "source": [
    "# 9. Laços de Repetição\n",
    "\n",
    " - while: um laço de número de repetições indeterminadas;\n",
    " - for: um laço de número de repetições determinadas;\n",
    " \n",
    "\n",
    "## 9.1. While\n",
    "\n",
    "O laço while permite fazer laços de uma quantidade de repetições indeterminadas, podendo variar de nunhuma a infinitas repetições.\n",
    "\n",
    "Sua sintaxe é simplesmente:\n",
    "\n",
    "```\n",
    "    while <condição booleana>:\n",
    "        <bloco de comandos>\n",
    "```\n",
    "\n",
    "O laço se repete enquanto a <condição booleana> (True/False) for verdadeira."
   ]
  },
  {
   "cell_type": "code",
   "execution_count": 1,
   "id": "28e3075d",
   "metadata": {},
   "outputs": [
    {
     "name": "stdout",
     "output_type": "stream",
     "text": [
      "Rafael\n",
      "Fernando\n",
      "Sandro\n",
      "Ricardo\n",
      "Estéfano\n"
     ]
    }
   ],
   "source": [
    "nomes = ['Rafael', 'Fernando', 'Sandro', 'Ricardo', 'Estéfano']\n",
    "\n",
    "index = 0\n",
    "\n",
    "while index < len(nomes):\n",
    "    print(nomes[index])\n",
    "    index += 1  # index = index + 1\n",
    "    "
   ]
  },
  {
   "cell_type": "code",
   "execution_count": 2,
   "id": "788ea45f",
   "metadata": {},
   "outputs": [
    {
     "name": "stdout",
     "output_type": "stream",
     "text": [
      "5\n"
     ]
    }
   ],
   "source": [
    "print(index)"
   ]
  },
  {
   "cell_type": "markdown",
   "id": "46481c4c",
   "metadata": {},
   "source": [
    "Um laço infinito"
   ]
  },
  {
   "cell_type": "code",
   "execution_count": 5,
   "id": "139dfff3",
   "metadata": {},
   "outputs": [
    {
     "name": "stdout",
     "output_type": "stream",
     "text": [
      "93 não é múltiplo de 13\n",
      "33 não é múltiplo de 13\n",
      "87 não é múltiplo de 13\n",
      "11 não é múltiplo de 13\n",
      "50 não é múltiplo de 13\n",
      "38 não é múltiplo de 13\n",
      "99 não é múltiplo de 13\n",
      "50 não é múltiplo de 13\n",
      "48 não é múltiplo de 13\n",
      "29 não é múltiplo de 13\n",
      "65 é múltiplo de 13!!!\n"
     ]
    }
   ],
   "source": [
    "from random import randint\n",
    "\n",
    "while True:\n",
    "    number = randint(1, 100)\n",
    "    if number % 13 == 0:\n",
    "        break\n",
    "    print(number, 'não é múltiplo de 13')\n",
    "    \n",
    "print(number, 'é múltiplo de 13!!!')"
   ]
  },
  {
   "cell_type": "markdown",
   "id": "5f1387ef",
   "metadata": {},
   "source": [
    "### 9.1.1. Desafio\n",
    "\n",
    "Fazer um código de um jogo de terminal para adivinhar um número randômico de 1 a 100:\n",
    "\n",
    "```\n",
    "#!/bin/python3\n",
    "#\n",
    "import random\n",
    "\n",
    "secretNumber = random.randint(1, 100)\n",
    "tryNumber = 0\n",
    "\n",
    "while secretNumber != tryNumber:\n",
    "    strNum = input('Entre com um inteiro de 1 a 100: ')\n",
    "    tryNumber = int(strNum)\n",
    "\n",
    "    if secretNumber > tryNumber:\n",
    "        print(f'Número secreto é maior que {tryNumber}')\n",
    "    elif secretNumber < tryNumber:\n",
    "        print(f'Número secreto é menor que {tryNumber}')\n",
    "\n",
    "print(f'Parabéns! O número secreto é {secretNumber}')\n",
    "\n",
    "```"
   ]
  },
  {
   "cell_type": "markdown",
   "id": "2c9b6cf0",
   "metadata": {},
   "source": [
    "## 9.2. For\n",
    "\n",
    "Diferente do laço While, no laço for o número de repetições é determinado pelo número de interadores que o laço estiver rodando. \n",
    "\n",
    "Os interadores no laço for são tipicamente uma lista, conjunto, tupla ou um interador como a função range.\n",
    "\n",
    "### 9.2.1. For - List/Tuple/Set/...\n",
    "\n",
    "O for - list/tuple/set/... percorre todos os elementos da list/tuple/set/...\n",
    "\n",
    "#### 9.2.1.1. For - List"
   ]
  },
  {
   "cell_type": "code",
   "execution_count": 6,
   "id": "8117f778",
   "metadata": {},
   "outputs": [
    {
     "name": "stdout",
     "output_type": "stream",
     "text": [
      "Rafael\n",
      "Gabriel\n",
      "Roberto\n",
      "Sérgio\n",
      "Ana\n"
     ]
    }
   ],
   "source": [
    "names = ['Rafael', 'Gabriel', 'Roberto', 'Sérgio', 'Ana']\n",
    "\n",
    "for name in names:\n",
    "    print(name)"
   ]
  },
  {
   "cell_type": "code",
   "execution_count": 7,
   "id": "4404c0b1",
   "metadata": {},
   "outputs": [
    {
     "name": "stdout",
     "output_type": "stream",
     "text": [
      "1\n",
      "2\n",
      "3\n",
      "4\n",
      "5\n",
      "6\n",
      "7\n"
     ]
    }
   ],
   "source": [
    "numbers = [1,2,3,4,5,6,7]\n",
    "\n",
    "for n in numbers:\n",
    "    print(n)"
   ]
  },
  {
   "cell_type": "markdown",
   "id": "beb37ee4",
   "metadata": {},
   "source": [
    "#### 9.2.1.2 For - Set\n",
    "\n",
    "Para terminar um for sobre um set:"
   ]
  },
  {
   "cell_type": "code",
   "execution_count": 10,
   "id": "6ae27331",
   "metadata": {},
   "outputs": [
    {
     "name": "stdout",
     "output_type": "stream",
     "text": [
      "s\n",
      "v\n",
      "W\n",
      "l\n",
      "J\n",
      "m\n",
      "õ\n",
      "A\n",
      "r\n",
      "o\n",
      "i\n",
      " \n",
      "a\n",
      "e\n"
     ]
    }
   ],
   "source": [
    "letters = set('Jõao Walmiro Alves')\n",
    "\n",
    "for char in letters:\n",
    "    print(char)"
   ]
  },
  {
   "cell_type": "code",
   "execution_count": 13,
   "id": "62021f1a",
   "metadata": {},
   "outputs": [
    {
     "name": "stdout",
     "output_type": "stream",
     "text": [
      "1\n",
      "2\n",
      "3\n",
      "4\n",
      "5\n",
      "6\n"
     ]
    }
   ],
   "source": [
    "for n in {1,2,3,4,5,6}:\n",
    "    print(n)"
   ]
  },
  {
   "cell_type": "code",
   "execution_count": 14,
   "id": "638439b4",
   "metadata": {},
   "outputs": [
    {
     "name": "stdout",
     "output_type": "stream",
     "text": [
      "{'s', 'v', 'W', 'l', 'J', 'm', 'õ', 'A', 'r', 'o', 'i', ' ', 'a', 'e'}\n"
     ]
    }
   ],
   "source": [
    "print(letters)"
   ]
  },
  {
   "cell_type": "markdown",
   "id": "4c3ac74a",
   "metadata": {},
   "source": [
    "#### 9.2.1.3. For - Dict\n",
    "\n",
    "No próximo exemplo o laço for percorre as chaves do dicionário record (chave de um dicionário é um set, conjunto):"
   ]
  },
  {
   "cell_type": "code",
   "execution_count": 20,
   "id": "65d07bad",
   "metadata": {},
   "outputs": [
    {
     "name": "stdout",
     "output_type": "stream",
     "text": [
      "Rafael 25\n",
      "Roberto 18\n",
      "Ana 34\n",
      "Solange 46\n",
      "Leonardo 8\n"
     ]
    }
   ],
   "source": [
    "record = {'Rafael': 25, 'Roberto': 18, 'Ana': 34, 'Solange': 46, 'Leonardo': 8}\n",
    "\n",
    "for name, age in record.items():\n",
    "    print(name, age)"
   ]
  },
  {
   "cell_type": "code",
   "execution_count": 21,
   "id": "9a28499d",
   "metadata": {},
   "outputs": [
    {
     "name": "stdout",
     "output_type": "stream",
     "text": [
      "Rafael\n",
      "Roberto\n",
      "Ana\n",
      "Solange\n",
      "Leonardo\n"
     ]
    }
   ],
   "source": [
    "for name in record.keys():\n",
    "    print(name)"
   ]
  },
  {
   "cell_type": "code",
   "execution_count": 22,
   "id": "7580ab43",
   "metadata": {},
   "outputs": [
    {
     "name": "stdout",
     "output_type": "stream",
     "text": [
      "Rafael\n",
      "Roberto\n",
      "Ana\n",
      "Solange\n",
      "Leonardo\n"
     ]
    }
   ],
   "source": [
    "for name in record:\n",
    "    print(name)"
   ]
  },
  {
   "cell_type": "code",
   "execution_count": 23,
   "id": "032dee68",
   "metadata": {},
   "outputs": [
    {
     "name": "stdout",
     "output_type": "stream",
     "text": [
      "25\n",
      "18\n",
      "34\n",
      "46\n",
      "8\n"
     ]
    }
   ],
   "source": [
    "for values in record.values():\n",
    "    print(values)"
   ]
  },
  {
   "cell_type": "markdown",
   "id": "525ec5d2",
   "metadata": {},
   "source": [
    "## 9.3. For - Range\n",
    "\n",
    "Outra forma de fazer laços for é com o uso da função range, que retorna um interador de inteiros."
   ]
  },
  {
   "cell_type": "code",
   "execution_count": 31,
   "id": "4f5594ee",
   "metadata": {},
   "outputs": [
    {
     "data": {
      "text/plain": [
       "False"
      ]
     },
     "execution_count": 31,
     "metadata": {},
     "output_type": "execute_result"
    }
   ],
   "source": [
    "10 in range(1,10)"
   ]
  },
  {
   "cell_type": "code",
   "execution_count": 30,
   "id": "7952a830",
   "metadata": {},
   "outputs": [
    {
     "name": "stdout",
     "output_type": "stream",
     "text": [
      "Help on class range in module builtins:\n",
      "\n",
      "class range(object)\n",
      " |  range(stop) -> range object\n",
      " |  range(start, stop[, step]) -> range object\n",
      " |  \n",
      " |  Return an object that produces a sequence of integers from start (inclusive)\n",
      " |  to stop (exclusive) by step.  range(i, j) produces i, i+1, i+2, ..., j-1.\n",
      " |  start defaults to 0, and stop is omitted!  range(4) produces 0, 1, 2, 3.\n",
      " |  These are exactly the valid indices for a list of 4 elements.\n",
      " |  When step is given, it specifies the increment (or decrement).\n",
      " |  \n",
      " |  Methods defined here:\n",
      " |  \n",
      " |  __bool__(self, /)\n",
      " |      True if self else False\n",
      " |  \n",
      " |  __contains__(self, key, /)\n",
      " |      Return key in self.\n",
      " |  \n",
      " |  __eq__(self, value, /)\n",
      " |      Return self==value.\n",
      " |  \n",
      " |  __ge__(self, value, /)\n",
      " |      Return self>=value.\n",
      " |  \n",
      " |  __getattribute__(self, name, /)\n",
      " |      Return getattr(self, name).\n",
      " |  \n",
      " |  __getitem__(self, key, /)\n",
      " |      Return self[key].\n",
      " |  \n",
      " |  __gt__(self, value, /)\n",
      " |      Return self>value.\n",
      " |  \n",
      " |  __hash__(self, /)\n",
      " |      Return hash(self).\n",
      " |  \n",
      " |  __iter__(self, /)\n",
      " |      Implement iter(self).\n",
      " |  \n",
      " |  __le__(self, value, /)\n",
      " |      Return self<=value.\n",
      " |  \n",
      " |  __len__(self, /)\n",
      " |      Return len(self).\n",
      " |  \n",
      " |  __lt__(self, value, /)\n",
      " |      Return self<value.\n",
      " |  \n",
      " |  __ne__(self, value, /)\n",
      " |      Return self!=value.\n",
      " |  \n",
      " |  __reduce__(...)\n",
      " |      Helper for pickle.\n",
      " |  \n",
      " |  __repr__(self, /)\n",
      " |      Return repr(self).\n",
      " |  \n",
      " |  __reversed__(...)\n",
      " |      Return a reverse iterator.\n",
      " |  \n",
      " |  count(...)\n",
      " |      rangeobject.count(value) -> integer -- return number of occurrences of value\n",
      " |  \n",
      " |  index(...)\n",
      " |      rangeobject.index(value) -> integer -- return index of value.\n",
      " |      Raise ValueError if the value is not present.\n",
      " |  \n",
      " |  ----------------------------------------------------------------------\n",
      " |  Static methods defined here:\n",
      " |  \n",
      " |  __new__(*args, **kwargs) from builtins.type\n",
      " |      Create and return a new object.  See help(type) for accurate signature.\n",
      " |  \n",
      " |  ----------------------------------------------------------------------\n",
      " |  Data descriptors defined here:\n",
      " |  \n",
      " |  start\n",
      " |  \n",
      " |  step\n",
      " |  \n",
      " |  stop\n",
      "\n"
     ]
    }
   ],
   "source": [
    "help(range)"
   ]
  },
  {
   "cell_type": "code",
   "execution_count": 32,
   "id": "bad2991c",
   "metadata": {},
   "outputs": [
    {
     "name": "stdout",
     "output_type": "stream",
     "text": [
      "0\n",
      "1\n",
      "2\n",
      "3\n",
      "4\n"
     ]
    }
   ],
   "source": [
    "for n in range(5):\n",
    "    print(n)"
   ]
  },
  {
   "cell_type": "code",
   "execution_count": 33,
   "id": "773d4e1a",
   "metadata": {},
   "outputs": [
    {
     "name": "stdout",
     "output_type": "stream",
     "text": [
      "1\n",
      "2\n",
      "3\n",
      "4\n"
     ]
    }
   ],
   "source": [
    "for n in range(1, 5):\n",
    "    print(n)"
   ]
  },
  {
   "cell_type": "code",
   "execution_count": 34,
   "id": "dcbd3b25",
   "metadata": {},
   "outputs": [
    {
     "name": "stdout",
     "output_type": "stream",
     "text": [
      "1\n",
      "3\n"
     ]
    }
   ],
   "source": [
    "for n in range(1, 5, 2):\n",
    "    print(n)"
   ]
  },
  {
   "cell_type": "code",
   "execution_count": 37,
   "id": "32d1fdf0",
   "metadata": {},
   "outputs": [
    {
     "name": "stdout",
     "output_type": "stream",
     "text": [
      "21\n",
      "A\n",
      "l\n",
      "b\n",
      "e\n",
      "r\n",
      "t\n",
      "o\n",
      " \n",
      "S\n",
      "a\n",
      "n\n",
      "t\n",
      "o\n",
      "s\n",
      " \n",
      "D\n",
      "u\n",
      "m\n",
      "o\n",
      "n\n",
      "t\n"
     ]
    }
   ],
   "source": [
    "name = 'Alberto Santos Dumont'\n",
    "for index in range(len(name)):\n",
    "    print(name[index])"
   ]
  },
  {
   "cell_type": "markdown",
   "id": "672aabc9",
   "metadata": {},
   "source": [
    "### 9.3.1. Desafio\n",
    "\n",
    "Faça uma função que imprima uma tabuada de n\n",
    "\n",
    "```\n",
    "tabuada(n) ->\n",
    "n x 1 = xx\n",
    "n x 2 = xx\n",
    "..\n",
    "n x 10 = xx\n",
    "```"
   ]
  },
  {
   "cell_type": "code",
   "execution_count": 42,
   "id": "889477d1",
   "metadata": {},
   "outputs": [
    {
     "name": "stdout",
     "output_type": "stream",
     "text": [
      "  2 x  1 =  2\n",
      "  2 x  2 =  4\n",
      "  2 x  3 =  6\n",
      "  2 x  4 =  8\n",
      "  2 x  5 = 10\n",
      "  2 x  6 = 12\n",
      "  2 x  7 = 14\n",
      "  2 x  8 = 16\n",
      "  2 x  9 = 18\n",
      "  2 x 10 = 20\n"
     ]
    }
   ],
   "source": [
    "m = 2\n",
    "for v in range(1, 11):\n",
    "    print('{:3} x {:2} = {:2}'.format(m, v, v*m))"
   ]
  },
  {
   "cell_type": "code",
   "execution_count": 43,
   "id": "e7f59fba",
   "metadata": {},
   "outputs": [],
   "source": [
    "def tabuada(m):\n",
    "    for v in range(1, 11):\n",
    "        print('{:3} x {:2} = {:2}'.format(m, v, v*m))"
   ]
  },
  {
   "cell_type": "code",
   "execution_count": 44,
   "id": "e56f2c12",
   "metadata": {},
   "outputs": [
    {
     "name": "stdout",
     "output_type": "stream",
     "text": [
      "  4 x  1 =  4\n",
      "  4 x  2 =  8\n",
      "  4 x  3 = 12\n",
      "  4 x  4 = 16\n",
      "  4 x  5 = 20\n",
      "  4 x  6 = 24\n",
      "  4 x  7 = 28\n",
      "  4 x  8 = 32\n",
      "  4 x  9 = 36\n",
      "  4 x 10 = 40\n"
     ]
    }
   ],
   "source": [
    "tabuada(4)"
   ]
  },
  {
   "cell_type": "code",
   "execution_count": 45,
   "id": "c6ca7276",
   "metadata": {},
   "outputs": [
    {
     "name": "stdout",
     "output_type": "stream",
     "text": [
      "  8 x  1 =  8\n",
      "  8 x  2 = 16\n",
      "  8 x  3 = 24\n",
      "  8 x  4 = 32\n",
      "  8 x  5 = 40\n",
      "  8 x  6 = 48\n",
      "  8 x  7 = 56\n",
      "  8 x  8 = 64\n",
      "  8 x  9 = 72\n",
      "  8 x 10 = 80\n"
     ]
    }
   ],
   "source": [
    "tabuada(8)"
   ]
  },
  {
   "cell_type": "markdown",
   "id": "bba6d1ed",
   "metadata": {},
   "source": [
    "## 9.4. Break e Continue\n",
    "\n",
    "Os comando break e continue permitem interromper o laço de formas distintas:\n",
    "\n",
    " 1. break - interrompe a execução do laço atual, forçando a saída do laço for/while mais interno;\n",
    " 2. continue - interrompe a execução do laço atual, sem sair do laço for/while, apenas prosseguindo para a próxima interação do laço."
   ]
  },
  {
   "cell_type": "code",
   "execution_count": 50,
   "id": "10f7d669",
   "metadata": {},
   "outputs": [
    {
     "name": "stdout",
     "output_type": "stream",
     "text": [
      "***1\n",
      "***2\n",
      "3 é múltiplo de 3\n",
      "***4\n",
      "***5\n",
      "6 é múltiplo de 3\n",
      "***7\n",
      "***8\n",
      "9 é múltiplo de 3\n",
      "***10\n"
     ]
    }
   ],
   "source": [
    "for i in range(1, 11):\n",
    "    if i % 3 == 0:\n",
    "        print(f'{i} é múltiplo de 3')\n",
    "        continue\n",
    "    \n",
    "    print(f'***{i}')"
   ]
  },
  {
   "cell_type": "code",
   "execution_count": 51,
   "id": "7ab61578",
   "metadata": {},
   "outputs": [
    {
     "name": "stdout",
     "output_type": "stream",
     "text": [
      "***1\n",
      "***2\n",
      "3 é múltiplo de 3\n",
      "***4\n",
      "5 é múltiplo de 5\n"
     ]
    }
   ],
   "source": [
    "for i in range(1, 11):\n",
    "    if i % 3 == 0:\n",
    "        print(f'{i} é múltiplo de 3')\n",
    "        continue\n",
    "        \n",
    "    if i % 5 == 0:\n",
    "        print(f'{i} é múltiplo de 5')\n",
    "        break\n",
    "    \n",
    "    print(f'***{i}')"
   ]
  },
  {
   "cell_type": "code",
   "execution_count": 52,
   "id": "e8eef1f9",
   "metadata": {},
   "outputs": [
    {
     "name": "stdout",
     "output_type": "stream",
     "text": [
      "***1\n",
      "***2\n",
      "***5\n",
      "***2\n",
      "***4\n",
      "9 é múltiplo de 3\n",
      "***2\n",
      "***2\n",
      "***2\n",
      "3 é múltiplo de 3\n",
      "***5\n",
      "6 é múltiplo de 3\n",
      "6 é múltiplo de 3\n",
      "***4\n",
      "***5\n",
      "***2\n",
      "***1\n",
      "6 é múltiplo de 3\n",
      "***8\n",
      "***1\n",
      "***4\n",
      "***7\n",
      "***1\n",
      "***4\n",
      "***1\n",
      "***1\n",
      "***7\n",
      "***1\n",
      "***10\n"
     ]
    }
   ],
   "source": [
    "from random import randint\n",
    "\n",
    "n = 0\n",
    "\n",
    "while n != 10:\n",
    "    n = randint(1, 10)\n",
    "    if n % 3 == 0:\n",
    "        print(f'{n} é múltiplo de 3')\n",
    "        continue\n",
    "    \n",
    "    print(f'***{n}')"
   ]
  },
  {
   "cell_type": "code",
   "execution_count": 54,
   "id": "934f620f",
   "metadata": {},
   "outputs": [
    {
     "name": "stdout",
     "output_type": "stream",
     "text": [
      "9 é múltiplo de 3\n",
      "3 é múltiplo de 3\n",
      "3 é múltiplo de 3\n",
      "10 é múltiplo de 5\n"
     ]
    }
   ],
   "source": [
    "from random import randint\n",
    "\n",
    "n = 0\n",
    "\n",
    "while True:\n",
    "    n = randint(1, 10)\n",
    "    if n % 3 == 0:\n",
    "        print(f'{n} é múltiplo de 3')\n",
    "        continue\n",
    "        \n",
    "    if n % 5 == 0:\n",
    "        print(f'{n} é múltiplo de 5')\n",
    "        break\n",
    "    \n",
    "    print(f'***{n}')"
   ]
  },
  {
   "cell_type": "markdown",
   "id": "2d46a269",
   "metadata": {},
   "source": [
    "### 9.5. For - Else\n",
    "\n",
    "O último for é com a sentença else. Sua sintaxe é apresentada a seguir:\n",
    "\n",
    "```\n",
    "for i in list/set/...:\n",
    "    <comandos>\n",
    "else:\n",
    "    <comandos_else>\n",
    "```\n",
    "\n",
    "Os comandos do bloco else serão executados normalmente se o for não for interrompido por um break."
   ]
  },
  {
   "cell_type": "code",
   "execution_count": 56,
   "id": "bf3c976e",
   "metadata": {},
   "outputs": [
    {
     "name": "stdout",
     "output_type": "stream",
     "text": [
      "0\n",
      "1\n",
      "2\n",
      "3\n",
      "4\n",
      "5\n",
      "6\n",
      "7\n",
      "8\n",
      "9\n",
      "Saindo pelo else!\n"
     ]
    }
   ],
   "source": [
    "for i in range(10):\n",
    "    print(i)\n",
    "else:\n",
    "    print('Saindo pelo else!')"
   ]
  },
  {
   "cell_type": "code",
   "execution_count": 63,
   "id": "e9cba1ed",
   "metadata": {},
   "outputs": [
    {
     "name": "stdout",
     "output_type": "stream",
     "text": [
      "1\n",
      "2\n",
      "3\n",
      "4\n"
     ]
    }
   ],
   "source": [
    "for i in range(1, 11):\n",
    "    if i == 5:\n",
    "        break\n",
    "    print(i)\n",
    "else:\n",
    "    print('Saindo pelo else!')"
   ]
  },
  {
   "cell_type": "code",
   "execution_count": 72,
   "id": "1eab31c5",
   "metadata": {},
   "outputs": [
    {
     "name": "stdout",
     "output_type": "stream",
     "text": [
      "Não acertou!!!\n",
      "Fim!\n"
     ]
    }
   ],
   "source": [
    "from random import randint\n",
    "\n",
    "def dice6():\n",
    "    return randint(1, 6)\n",
    "\n",
    "if __name__ == '__main__':\n",
    "    \n",
    "    for i in range(1, 7):\n",
    "        if i % 2 == 1:\n",
    "            continue\n",
    "            \n",
    "        if dice6() == i:\n",
    "            print(f'Sorteou um {i}')\n",
    "            break\n",
    "            \n",
    "    else:\n",
    "        print('Não acertou!!!')\n",
    "        \n",
    "    print('Fim!')"
   ]
  },
  {
   "cell_type": "code",
   "execution_count": 78,
   "id": "7b8c252d",
   "metadata": {},
   "outputs": [
    {
     "name": "stdout",
     "output_type": "stream",
     "text": [
      "REPROVADA: \"João gosta de futebol e política.\"\n",
      ".\n",
      ".\n",
      "Aprovada: \"A praia estava ótima hoje.\"\n"
     ]
    }
   ],
   "source": [
    "forbiddenWords = ['futebol', 'religião', 'política']\n",
    "\n",
    "phrases = [\n",
    "    'João gosta de futebol e política.',\n",
    "    'A praia estava ótima hoje.'\n",
    "]\n",
    "\n",
    "for phrase in phrases:\n",
    "    # print(phrase)\n",
    "    found = False\n",
    "    \n",
    "    # print(phrase.lower().split())\n",
    "    for word in phrase.lower().split():\n",
    "        if word in forbiddenWords:\n",
    "            print(f'REPROVADA: \"{phrase}\"')\n",
    "            found = True\n",
    "            break\n",
    "    \n",
    "    # print('.')\n",
    "    if not found:\n",
    "        print(f'Aprovada: \"{phrase}\"')"
   ]
  },
  {
   "cell_type": "code",
   "execution_count": 80,
   "id": "f2cb94f5",
   "metadata": {},
   "outputs": [
    {
     "name": "stdout",
     "output_type": "stream",
     "text": [
      "REPROVADA: \"João gosta de futebol e política.\"\n",
      "Aprovada: \"A praia estava ótima hoje.\"\n"
     ]
    }
   ],
   "source": [
    "forbiddenWords = ['futebol', 'religião', 'política']\n",
    "\n",
    "phrases = [\n",
    "    'João gosta de futebol e política.',\n",
    "    'A praia estava ótima hoje.'\n",
    "]\n",
    "\n",
    "for phrase in phrases:\n",
    "    for word in phrase.lower().split():\n",
    "        if word in forbiddenWords:\n",
    "            print(f'REPROVADA: \"{phrase}\"')\n",
    "            break\n",
    "    \n",
    "    else:\n",
    "        print(f'Aprovada: \"{phrase}\"')"
   ]
  },
  {
   "cell_type": "code",
   "execution_count": null,
   "id": "ebb896ec",
   "metadata": {},
   "outputs": [],
   "source": []
  }
 ],
 "metadata": {
  "kernelspec": {
   "display_name": "Python 3 (ipykernel)",
   "language": "python",
   "name": "python3"
  },
  "language_info": {
   "codemirror_mode": {
    "name": "ipython",
    "version": 3
   },
   "file_extension": ".py",
   "mimetype": "text/x-python",
   "name": "python",
   "nbconvert_exporter": "python",
   "pygments_lexer": "ipython3",
   "version": "3.10.6"
  }
 },
 "nbformat": 4,
 "nbformat_minor": 5
}
