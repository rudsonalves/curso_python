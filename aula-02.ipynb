{
 "cells": [
  {
   "cell_type": "markdown",
   "id": "6d206ef2",
   "metadata": {},
   "source": [
    "# 2. Variáveis\n",
    "## 2.1. Declaração de Variáveis"
   ]
  },
  {
   "cell_type": "code",
   "execution_count": 1,
   "id": "fa49c278",
   "metadata": {},
   "outputs": [],
   "source": [
    "a = 2\n",
    "a = 2.3\n",
    "a = 'aula'"
   ]
  },
  {
   "cell_type": "markdown",
   "id": "2de324eb",
   "metadata": {},
   "source": [
    "No python as variáveis são declaradas por inferência."
   ]
  },
  {
   "cell_type": "code",
   "execution_count": 3,
   "id": "d59ba5f2",
   "metadata": {},
   "outputs": [],
   "source": [
    "a, b = 2, 3"
   ]
  },
  {
   "cell_type": "code",
   "execution_count": 6,
   "id": "2a9ae96e",
   "metadata": {},
   "outputs": [
    {
     "name": "stdout",
     "output_type": "stream",
     "text": [
      "4\n",
      "6\n",
      "5\n"
     ]
    }
   ],
   "source": [
    "print(2*a)\n",
    "print(2*b)\n",
    "print(a+b)"
   ]
  },
  {
   "cell_type": "code",
   "execution_count": 14,
   "id": "46422fad",
   "metadata": {},
   "outputs": [
    {
     "name": "stdout",
     "output_type": "stream",
     "text": [
      "kkk\n"
     ]
    }
   ],
   "source": [
    "c = 'k'\n",
    "print(c*3)"
   ]
  },
  {
   "cell_type": "code",
   "execution_count": 15,
   "id": "4881981a",
   "metadata": {},
   "outputs": [
    {
     "ename": "TypeError",
     "evalue": "can only concatenate str (not \"int\") to str",
     "output_type": "error",
     "traceback": [
      "\u001b[0;31m---------------------------------------------------------------------------\u001b[0m",
      "\u001b[0;31mTypeError\u001b[0m                                 Traceback (most recent call last)",
      "Cell \u001b[0;32mIn[15], line 1\u001b[0m\n\u001b[0;32m----> 1\u001b[0m \u001b[38;5;28mprint\u001b[39m(\u001b[43mc\u001b[49m\u001b[38;5;241;43m+\u001b[39;49m\u001b[38;5;241;43m3\u001b[39;49m)\n",
      "\u001b[0;31mTypeError\u001b[0m: can only concatenate str (not \"int\") to str"
     ]
    }
   ],
   "source": [
    "print(c+3)"
   ]
  },
  {
   "cell_type": "code",
   "execution_count": 16,
   "id": "6118af7b",
   "metadata": {},
   "outputs": [
    {
     "name": "stdout",
     "output_type": "stream",
     "text": [
      "kkk\n"
     ]
    }
   ],
   "source": [
    "print(c+c+c)"
   ]
  },
  {
   "cell_type": "code",
   "execution_count": 17,
   "id": "49d21b45",
   "metadata": {},
   "outputs": [
    {
     "name": "stdout",
     "output_type": "stream",
     "text": [
      "k3\n"
     ]
    }
   ],
   "source": [
    "print(c + '3')"
   ]
  },
  {
   "cell_type": "markdown",
   "id": "5807c0fc",
   "metadata": {},
   "source": [
    "## 2.2. Tipagem Dinâmica"
   ]
  },
  {
   "cell_type": "code",
   "execution_count": 19,
   "id": "cfe2c28a",
   "metadata": {},
   "outputs": [
    {
     "name": "stdout",
     "output_type": "stream",
     "text": [
      "<class 'int'>\n",
      "<class 'float'>\n",
      "<class 'str'>\n"
     ]
    }
   ],
   "source": [
    "a = 2\n",
    "print(type(a))\n",
    "\n",
    "a = 2.3\n",
    "print(type(a))\n",
    "\n",
    "a = 'aula'\n",
    "print(type(a))"
   ]
  },
  {
   "cell_type": "code",
   "execution_count": 22,
   "id": "3c1eb064",
   "metadata": {},
   "outputs": [
    {
     "data": {
      "text/plain": [
       "<method-wrapper '__hash__' of int object at 0x7f8cb2908170>"
      ]
     },
     "execution_count": 22,
     "metadata": {},
     "output_type": "execute_result"
    }
   ],
   "source": [
    "a = 5\n",
    "a.__hash__"
   ]
  },
  {
   "cell_type": "code",
   "execution_count": 23,
   "id": "9283af36",
   "metadata": {},
   "outputs": [
    {
     "data": {
      "text/plain": [
       "<method-wrapper '__hash__' of int object at 0x7f8cb2908170>"
      ]
     },
     "execution_count": 23,
     "metadata": {},
     "output_type": "execute_result"
    }
   ],
   "source": [
    "b = 5\n",
    "b.__hash__"
   ]
  },
  {
   "cell_type": "code",
   "execution_count": 24,
   "id": "1a5ed70d",
   "metadata": {},
   "outputs": [],
   "source": [
    "a = a + 2\n",
    "b = b - 3"
   ]
  },
  {
   "cell_type": "code",
   "execution_count": 25,
   "id": "e1f7d097",
   "metadata": {},
   "outputs": [
    {
     "name": "stdout",
     "output_type": "stream",
     "text": [
      "7 2\n"
     ]
    }
   ],
   "source": [
    "print(a, b)"
   ]
  },
  {
   "cell_type": "code",
   "execution_count": 27,
   "id": "7d305be5",
   "metadata": {},
   "outputs": [
    {
     "name": "stdout",
     "output_type": "stream",
     "text": [
      "<method-wrapper '__hash__' of int object at 0x7f8cb29081b0>\n",
      "<method-wrapper '__hash__' of int object at 0x7f8cb2908110>\n"
     ]
    }
   ],
   "source": [
    "print(a.__hash__)\n",
    "print(b.__hash__)"
   ]
  },
  {
   "cell_type": "code",
   "execution_count": 28,
   "id": "94fdc1b3",
   "metadata": {},
   "outputs": [
    {
     "name": "stdout",
     "output_type": "stream",
     "text": [
      "<method-wrapper '__hash__' of int object at 0x7f8cb2908170>\n"
     ]
    }
   ],
   "source": [
    "c = 5\n",
    "print(c.__hash__)"
   ]
  },
  {
   "cell_type": "markdown",
   "id": "6479117d",
   "metadata": {},
   "source": [
    "No python as variáveis apontam para constantes (são imutáveis)"
   ]
  },
  {
   "cell_type": "code",
   "execution_count": 29,
   "id": "80b6e465",
   "metadata": {},
   "outputs": [],
   "source": [
    "a = [1,2,3,4,5]"
   ]
  },
  {
   "cell_type": "code",
   "execution_count": 31,
   "id": "349efbf5",
   "metadata": {},
   "outputs": [],
   "source": [
    "b = a"
   ]
  },
  {
   "cell_type": "code",
   "execution_count": 32,
   "id": "85ad1549",
   "metadata": {},
   "outputs": [
    {
     "data": {
      "text/plain": [
       "[1, 2, 3, 0, 5]"
      ]
     },
     "execution_count": 32,
     "metadata": {},
     "output_type": "execute_result"
    }
   ],
   "source": [
    "a[3] = 0\n",
    "a"
   ]
  },
  {
   "cell_type": "code",
   "execution_count": 33,
   "id": "de628897",
   "metadata": {},
   "outputs": [
    {
     "data": {
      "text/plain": [
       "[1, 2, 3, 0, 5]"
      ]
     },
     "execution_count": 33,
     "metadata": {},
     "output_type": "execute_result"
    }
   ],
   "source": [
    "b"
   ]
  },
  {
   "cell_type": "markdown",
   "id": "710c6f6a",
   "metadata": {},
   "source": [
    "Para ter listas independentes faça a cópia com [:]"
   ]
  },
  {
   "cell_type": "code",
   "execution_count": 34,
   "id": "f34223f8",
   "metadata": {},
   "outputs": [],
   "source": [
    "b = a[:]"
   ]
  },
  {
   "cell_type": "code",
   "execution_count": 35,
   "id": "9b202937",
   "metadata": {},
   "outputs": [
    {
     "data": {
      "text/plain": [
       "[1, 2, 3, 9, 5]"
      ]
     },
     "execution_count": 35,
     "metadata": {},
     "output_type": "execute_result"
    }
   ],
   "source": [
    "a[3] = 9\n",
    "a"
   ]
  },
  {
   "cell_type": "code",
   "execution_count": 36,
   "id": "20219361",
   "metadata": {},
   "outputs": [
    {
     "data": {
      "text/plain": [
       "[1, 2, 3, 0, 5]"
      ]
     },
     "execution_count": 36,
     "metadata": {},
     "output_type": "execute_result"
    }
   ],
   "source": [
    "b"
   ]
  },
  {
   "cell_type": "code",
   "execution_count": 37,
   "id": "2124e735",
   "metadata": {},
   "outputs": [
    {
     "data": {
      "text/plain": [
       "[10, 2, 3, 0, 5]"
      ]
     },
     "execution_count": 37,
     "metadata": {},
     "output_type": "execute_result"
    }
   ],
   "source": [
    "b[0] = 10\n",
    "b"
   ]
  },
  {
   "cell_type": "code",
   "execution_count": 38,
   "id": "64d039cb",
   "metadata": {},
   "outputs": [
    {
     "data": {
      "text/plain": [
       "[1, 2, 3, 9, 5]"
      ]
     },
     "execution_count": 38,
     "metadata": {},
     "output_type": "execute_result"
    }
   ],
   "source": [
    "a"
   ]
  },
  {
   "cell_type": "markdown",
   "id": "0aa6d455",
   "metadata": {},
   "source": [
    "# 3. Comentários e Strings de Várias Linhas"
   ]
  },
  {
   "cell_type": "code",
   "execution_count": 48,
   "id": "29bbb4d5",
   "metadata": {},
   "outputs": [
    {
     "name": "stdout",
     "output_type": "stream",
     "text": [
      "Seu saldo final é 42108.299999999996\n",
      "Fim\n"
     ]
    }
   ],
   "source": [
    "# Aplicativo financeiro\n",
    "# por Gabriel Bortolini\n",
    "# de 28/03/2023\n",
    "\n",
    "salario = 43453.53\n",
    "\n",
    "aluguel = 1230.00\n",
    "contaEnergia = 115.23\n",
    "\n",
    "texto1 = \"\"\"\n",
    "Isto não é um comentário de várias\n",
    "linhas. Isto é uma string de várias \n",
    "linhas!\n",
    "\"\"\"\n",
    "\n",
    "despesas = aluguel + contaEnergia\n",
    "saldo = salario - despesas\n",
    "\n",
    "print('Seu saldo final é {}'.format(saldo))\n",
    "\n",
    "texto2 = '''\n",
    "Isto também não é um comantário \n",
    "de várias linhas.\n",
    "'''\n",
    "\n",
    "print('Fim')"
   ]
  },
  {
   "cell_type": "code",
   "execution_count": 49,
   "id": "4bd8ce1f",
   "metadata": {},
   "outputs": [
    {
     "name": "stdout",
     "output_type": "stream",
     "text": [
      "\n",
      "Isto não é um comentário de várias\n",
      "linhas.\n",
      "\n"
     ]
    }
   ],
   "source": [
    "print(texto1)"
   ]
  },
  {
   "cell_type": "code",
   "execution_count": 50,
   "id": "51171553",
   "metadata": {},
   "outputs": [
    {
     "name": "stdout",
     "output_type": "stream",
     "text": [
      "\n",
      "Isto também não é um comantário \n",
      "de várias linhas.\n",
      "\n"
     ]
    }
   ],
   "source": [
    "print(texto2)"
   ]
  },
  {
   "cell_type": "markdown",
   "id": "7d8630dc",
   "metadata": {},
   "source": [
    "# 4. Operadores\n",
    "## 4.1. Operadores Aritméticos"
   ]
  },
  {
   "cell_type": "code",
   "execution_count": 53,
   "id": "968c8b7e",
   "metadata": {},
   "outputs": [
    {
     "name": "stdout",
     "output_type": "stream",
     "text": [
      "5\n",
      "-3\n",
      "7.0\n",
      "3.3333333333333335\n",
      "3\n",
      "2\n"
     ]
    }
   ],
   "source": [
    "print(2 + 3)   # operador de adição\n",
    "print(2 - 5)   # operador de subtração\n",
    "print(3.5 * 2) # operador de produto\n",
    "print(10 / 3)  # operador de divisão\n",
    "print(10 // 3) # operador de divisão inteira\n",
    "print(80 % 3)  # operador resto da divisão"
   ]
  },
  {
   "cell_type": "code",
   "execution_count": 55,
   "id": "15a8a129",
   "metadata": {},
   "outputs": [
    {
     "name": "stdout",
     "output_type": "stream",
     "text": [
      "256\n",
      "8\n"
     ]
    }
   ],
   "source": [
    "print(2**8)   # operador potência\n",
    "print(2**3)"
   ]
  },
  {
   "cell_type": "markdown",
   "id": "780c47dc",
   "metadata": {},
   "source": [
    "## 4.2 Operadores Relacionais"
   ]
  },
  {
   "cell_type": "code",
   "execution_count": 56,
   "id": "2c8f8c3c",
   "metadata": {},
   "outputs": [
    {
     "data": {
      "text/plain": [
       "True"
      ]
     },
     "execution_count": 56,
     "metadata": {},
     "output_type": "execute_result"
    }
   ],
   "source": [
    "6 > 4"
   ]
  },
  {
   "cell_type": "code",
   "execution_count": 57,
   "id": "f84bf7ae",
   "metadata": {},
   "outputs": [
    {
     "data": {
      "text/plain": [
       "False"
      ]
     },
     "execution_count": 57,
     "metadata": {},
     "output_type": "execute_result"
    }
   ],
   "source": [
    "6 < 4"
   ]
  },
  {
   "cell_type": "code",
   "execution_count": 58,
   "id": "cadf4198",
   "metadata": {},
   "outputs": [
    {
     "data": {
      "text/plain": [
       "False"
      ]
     },
     "execution_count": 58,
     "metadata": {},
     "output_type": "execute_result"
    }
   ],
   "source": [
    "3 == 5  # 3 é igual a 5?"
   ]
  },
  {
   "cell_type": "code",
   "execution_count": 59,
   "id": "cf375dd5",
   "metadata": {},
   "outputs": [
    {
     "data": {
      "text/plain": [
       "True"
      ]
     },
     "execution_count": 59,
     "metadata": {},
     "output_type": "execute_result"
    }
   ],
   "source": [
    "3 == 3"
   ]
  },
  {
   "cell_type": "code",
   "execution_count": 60,
   "id": "7c2fb50e",
   "metadata": {},
   "outputs": [
    {
     "data": {
      "text/plain": [
       "True"
      ]
     },
     "execution_count": 60,
     "metadata": {},
     "output_type": "execute_result"
    }
   ],
   "source": [
    "3 != 4  # 3 é diferente de 4?"
   ]
  },
  {
   "cell_type": "code",
   "execution_count": 61,
   "id": "7905d4fa",
   "metadata": {},
   "outputs": [
    {
     "data": {
      "text/plain": [
       "False"
      ]
     },
     "execution_count": 61,
     "metadata": {},
     "output_type": "execute_result"
    }
   ],
   "source": [
    "3 != 3"
   ]
  },
  {
   "cell_type": "code",
   "execution_count": 62,
   "id": "0f54859d",
   "metadata": {},
   "outputs": [
    {
     "data": {
      "text/plain": [
       "True"
      ]
     },
     "execution_count": 62,
     "metadata": {},
     "output_type": "execute_result"
    }
   ],
   "source": [
    "3 >= 3"
   ]
  },
  {
   "cell_type": "code",
   "execution_count": 63,
   "id": "0cd905b1",
   "metadata": {},
   "outputs": [
    {
     "data": {
      "text/plain": [
       "False"
      ]
     },
     "execution_count": 63,
     "metadata": {},
     "output_type": "execute_result"
    }
   ],
   "source": [
    "4 <= 2"
   ]
  },
  {
   "cell_type": "markdown",
   "id": "a233f3ff",
   "metadata": {},
   "source": [
    "## 4.3. Operadores de Atribuição"
   ]
  },
  {
   "cell_type": "code",
   "execution_count": 73,
   "id": "5a6a775c",
   "metadata": {},
   "outputs": [],
   "source": [
    "a = 10\n",
    "b = a + 5  # = operador de atribuição"
   ]
  },
  {
   "cell_type": "code",
   "execution_count": 74,
   "id": "6741fe3e",
   "metadata": {},
   "outputs": [
    {
     "data": {
      "text/plain": [
       "10"
      ]
     },
     "execution_count": 74,
     "metadata": {},
     "output_type": "execute_result"
    }
   ],
   "source": [
    "a"
   ]
  },
  {
   "cell_type": "code",
   "execution_count": 75,
   "id": "b1ae403e",
   "metadata": {},
   "outputs": [
    {
     "data": {
      "text/plain": [
       "13"
      ]
     },
     "execution_count": 75,
     "metadata": {},
     "output_type": "execute_result"
    }
   ],
   "source": [
    "a += 3  # equivale a: a = a + 3\n",
    "a"
   ]
  },
  {
   "cell_type": "code",
   "execution_count": 76,
   "id": "de38bbd3",
   "metadata": {},
   "outputs": [
    {
     "data": {
      "text/plain": [
       "39"
      ]
     },
     "execution_count": 76,
     "metadata": {},
     "output_type": "execute_result"
    }
   ],
   "source": [
    "a *= 3  # equivalente a: a = a * 3\n",
    "a"
   ]
  },
  {
   "cell_type": "code",
   "execution_count": 77,
   "id": "94184a69",
   "metadata": {},
   "outputs": [
    {
     "data": {
      "text/plain": [
       "13"
      ]
     },
     "execution_count": 77,
     "metadata": {},
     "output_type": "execute_result"
    }
   ],
   "source": [
    "a //= 3 # equivale a: a = a // 3 (divisão inteira por 3)\n",
    "a"
   ]
  },
  {
   "cell_type": "code",
   "execution_count": 78,
   "id": "78cb5a50",
   "metadata": {},
   "outputs": [
    {
     "data": {
      "text/plain": [
       "256"
      ]
     },
     "execution_count": 78,
     "metadata": {},
     "output_type": "execute_result"
    }
   ],
   "source": [
    "2**8"
   ]
  },
  {
   "cell_type": "code",
   "execution_count": 79,
   "id": "d386125b",
   "metadata": {},
   "outputs": [],
   "source": [
    "a = 2"
   ]
  },
  {
   "cell_type": "code",
   "execution_count": 80,
   "id": "e44b17c2",
   "metadata": {},
   "outputs": [
    {
     "data": {
      "text/plain": [
       "256"
      ]
     },
     "execution_count": 80,
     "metadata": {},
     "output_type": "execute_result"
    }
   ],
   "source": [
    "a **=8   # a = a**8\n",
    "a"
   ]
  },
  {
   "cell_type": "markdown",
   "id": "ba4315e2",
   "metadata": {},
   "source": [
    "## 4.4. Operadores Lógicos e Tabela Verdade\n",
    "Operadores Lógicos\n",
    "ou |\n",
    "e &\n",
    "não (negação) !\n",
    "xor (ou exclusivo) !="
   ]
  },
  {
   "cell_type": "markdown",
   "id": "5b7f36af",
   "metadata": {},
   "source": [
    "Tabela Verdade OU:"
   ]
  },
  {
   "cell_type": "code",
   "execution_count": 89,
   "id": "cb485ce9",
   "metadata": {},
   "outputs": [
    {
     "name": "stdout",
     "output_type": "stream",
     "text": [
      "0 | 0 = False\n",
      "0 | 1 = True\n",
      "1 | 0 = True\n",
      "1 | 1 = True\n"
     ]
    }
   ],
   "source": [
    "print('0 | 0 =', False | False)  # 1a is false OU 2a is false = false\n",
    "print('0 | 1 =', False | True)   # 1a is false OU 2a is true  = true\n",
    "print('1 | 0 =',  True | False)  # 1a is true  OU 2a is false = true\n",
    "print('1 | 1 =',  True | True)   # 1a is true  OU 2a is true  = true"
   ]
  },
  {
   "cell_type": "markdown",
   "id": "697969da",
   "metadata": {},
   "source": [
    "Tabela Verdade E"
   ]
  },
  {
   "cell_type": "code",
   "execution_count": 90,
   "id": "22eed7b0",
   "metadata": {},
   "outputs": [
    {
     "name": "stdout",
     "output_type": "stream",
     "text": [
      "0 & 0 = False\n",
      "0 & 1 = False\n",
      "1 & 0 = False\n",
      "1 & 1 = True\n"
     ]
    }
   ],
   "source": [
    "print('0 & 0 =', False & False)  # 1a is false E 2a is false = false\n",
    "print('0 & 1 =', False & True)   # 1a is false E 2a is true  = false\n",
    "print('1 & 0 =',  True & False)  # 1a is true  E 2a is false = false\n",
    "print('1 & 1 =',  True & True)   # 1a is true  E 2a is true  = true"
   ]
  },
  {
   "cell_type": "markdown",
   "id": "546e14a1",
   "metadata": {},
   "source": [
    "Tabela Verdade XOR"
   ]
  },
  {
   "cell_type": "code",
   "execution_count": 93,
   "id": "8ba0e4f6",
   "metadata": {},
   "outputs": [
    {
     "name": "stdout",
     "output_type": "stream",
     "text": [
      "0 ^ 0 = False\n",
      "0 ^ 1 = True\n",
      "1 ^ 0 = True\n",
      "1 ^ 1 = False\n"
     ]
    }
   ],
   "source": [
    "print('0 ^ 0 =', False != False)  # 1a is false E 2a is false = false\n",
    "print('0 ^ 1 =', False != True)   # 1a is false E 2a is true  = true\n",
    "print('1 ^ 0 =',  True != False)  # 1a is true  E 2a is false = true\n",
    "print('1 ^ 1 =',  True != True)   # 1a is true  E 2a is true  = false"
   ]
  },
  {
   "cell_type": "markdown",
   "id": "236a805e",
   "metadata": {},
   "source": [
    "Tabela NOT"
   ]
  },
  {
   "cell_type": "code",
   "execution_count": 98,
   "id": "6ef49d79",
   "metadata": {},
   "outputs": [
    {
     "name": "stdout",
     "output_type": "stream",
     "text": [
      "!0 = True\n",
      "!1 = False\n"
     ]
    }
   ],
   "source": [
    "t = True\n",
    "f = False\n",
    "print('!0 =', not f)  \n",
    "print('!1 =', not t)"
   ]
  },
  {
   "cell_type": "markdown",
   "id": "a9c5dbcd",
   "metadata": {},
   "source": [
    "00  - notação binária\n",
    "01\n",
    "10\n",
    "11\n",
    "\n",
    "\n",
    "000 - 0 - notação trinária\n",
    "001 - 1\n",
    "002 - 2\n",
    "010 - 3\n",
    "011 - 4\n",
    "012 - 5\n",
    "020 - ...\n",
    "\n",
    "Octal\n",
    " 0\n",
    " 1\n",
    " 2\n",
    " 3\n",
    " 4\n",
    " 5\n",
    " 6\n",
    " 7\n",
    "10\n",
    "\n",
    "hexadecimal\n",
    "0\n",
    "1\n",
    "2\n",
    "3\n",
    "4\n",
    "5\n",
    "6\n",
    "7\n",
    "8\n",
    "9\n",
    "A\n",
    "B\n",
    "C\n",
    "D\n",
    "E\n",
    "F"
   ]
  },
  {
   "cell_type": "code",
   "execution_count": 99,
   "id": "9a15caa9",
   "metadata": {},
   "outputs": [
    {
     "data": {
      "text/plain": [
       "<method-wrapper '__hash__' of int object at 0x7f8cb2908210>"
      ]
     },
     "execution_count": 99,
     "metadata": {},
     "output_type": "execute_result"
    }
   ],
   "source": [
    "a = 10\n",
    "a.__hash__"
   ]
  },
  {
   "cell_type": "markdown",
   "id": "05299e97",
   "metadata": {},
   "source": [
    "TrabalhoTerca = False\n",
    "\n",
    "TrabalhoQuinta = False\n",
    "\n",
    "Se ok nos dosi dias => TV 50' apenas\n",
    "Se ok em um dor dois dias => TV 32' apenas\n",
    "Se sucesso em algum dos dias => sorvete\n",
    "Se não tiver sucesso em nenhum dos dias => saúde e economia\n",
    "\n",
    "T  Q  TV50'  TV32'  Sorvete   Saúde\n",
    "0  0           \n",
    "0  1\n",
    "1  0\n",
    "1  1\n",
    "\n"
   ]
  },
  {
   "cell_type": "code",
   "execution_count": 106,
   "id": "2d40f2f9",
   "metadata": {},
   "outputs": [
    {
     "name": "stdout",
     "output_type": "stream",
     "text": [
      " Trabalho Terça:  True\n",
      "Trabalho Quinta:  True\n",
      "        TV 50in:  True\n"
     ]
    }
   ],
   "source": [
    "tt = True\n",
    "tq = True\n",
    "\n",
    "tv50 = tt & tq\n",
    "print(' Trabalho Terça: ', tt)\n",
    "print('Trabalho Quinta: ', tq)\n",
    "print('        TV 50in: ', tv50)"
   ]
  },
  {
   "cell_type": "code",
   "execution_count": null,
   "id": "91a48047",
   "metadata": {},
   "outputs": [],
   "source": []
  }
 ],
 "metadata": {
  "kernelspec": {
   "display_name": "Python 3 (ipykernel)",
   "language": "python",
   "name": "python3"
  },
  "language_info": {
   "codemirror_mode": {
    "name": "ipython",
    "version": 3
   },
   "file_extension": ".py",
   "mimetype": "text/x-python",
   "name": "python",
   "nbconvert_exporter": "python",
   "pygments_lexer": "ipython3",
   "version": "3.10.6"
  }
 },
 "nbformat": 4,
 "nbformat_minor": 5
}
