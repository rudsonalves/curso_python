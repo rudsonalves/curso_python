{
 "cells": [
  {
   "cell_type": "markdown",
   "id": "0ef0e009",
   "metadata": {},
   "source": [
    "# 5. String\n",
    "No python uma string é como uma tupla de caracteres, ou seja, como os números no Python uma string também é um imutável."
   ]
  },
  {
   "cell_type": "code",
   "execution_count": 15,
   "id": "0f9f4b1d",
   "metadata": {
    "tags": []
   },
   "outputs": [
    {
     "name": "stdout",
     "output_type": "stream",
     "text": [
      "João Walmiro Alves possui 18 caracteres\n"
     ]
    }
   ],
   "source": [
    "nome = 'João Walmiro Alves'\n",
    "length = len(nome)\n",
    "print(f'{nome} possui {length} caracteres')"
   ]
  },
  {
   "cell_type": "markdown",
   "id": "27f13ea8",
   "metadata": {},
   "source": [
    "o \"f\" à frente da string '{nome} possui {length} caracteres' diz ao print para substituir as variáveis entre chaves por seu valor."
   ]
  },
  {
   "cell_type": "markdown",
   "id": "fc7189b4-ea9f-45ec-a4b4-5dd1918bdcf0",
   "metadata": {
    "tags": []
   },
   "source": [
    "nome[5]"
   ]
  },
  {
   "cell_type": "code",
   "execution_count": 17,
   "id": "544cff27",
   "metadata": {
    "tags": []
   },
   "outputs": [
    {
     "ename": "TypeError",
     "evalue": "'str' object does not support item assignment",
     "output_type": "error",
     "traceback": [
      "\u001b[0;31m---------------------------------------------------------------------------\u001b[0m",
      "\u001b[0;31mTypeError\u001b[0m                                 Traceback (most recent call last)",
      "Cell \u001b[0;32mIn[17], line 1\u001b[0m\n\u001b[0;32m----> 1\u001b[0m \u001b[43mnome\u001b[49m\u001b[43m[\u001b[49m\u001b[38;5;241;43m5\u001b[39;49m\u001b[43m]\u001b[49m \u001b[38;5;241m=\u001b[39m \u001b[38;5;124m'\u001b[39m\u001b[38;5;124mP\u001b[39m\u001b[38;5;124m'\u001b[39m\n",
      "\u001b[0;31mTypeError\u001b[0m: 'str' object does not support item assignment"
     ]
    }
   ],
   "source": [
    "nome[5] = 'P'"
   ]
  },
  {
   "cell_type": "markdown",
   "id": "67c00e66",
   "metadata": {},
   "source": [
    "String é um imutável."
   ]
  },
  {
   "cell_type": "code",
   "execution_count": 18,
   "id": "ba816ed7",
   "metadata": {
    "tags": []
   },
   "outputs": [
    {
     "data": {
      "text/plain": [
       "<method-wrapper '__hash__' of str object at 0x7f5476c50690>"
      ]
     },
     "execution_count": 18,
     "metadata": {},
     "output_type": "execute_result"
    }
   ],
   "source": [
    "nome.__hash__"
   ]
  },
  {
   "cell_type": "code",
   "execution_count": 19,
   "id": "b5963c80",
   "metadata": {
    "tags": []
   },
   "outputs": [
    {
     "name": "stdout",
     "output_type": "stream",
     "text": [
      "joão walmiro alves\n"
     ]
    }
   ],
   "source": [
    "nome = nome.lower()\n",
    "print(nome)"
   ]
  },
  {
   "cell_type": "code",
   "execution_count": 20,
   "id": "75196c1b",
   "metadata": {
    "tags": []
   },
   "outputs": [
    {
     "data": {
      "text/plain": [
       "<method-wrapper '__hash__' of str object at 0x7f5476c53450>"
      ]
     },
     "execution_count": 20,
     "metadata": {},
     "output_type": "execute_result"
    }
   ],
   "source": [
    "nome.__hash__"
   ]
  },
  {
   "cell_type": "markdown",
   "id": "eebc19af",
   "metadata": {},
   "source": [
    "Quando alteramos uma String na verdade estamos criando uma nova String.\n",
    "Este 'criar uma nova variável' => instanciar uma nova variável."
   ]
  },
  {
   "cell_type": "markdown",
   "id": "9d307f94",
   "metadata": {},
   "source": [
    "## 5.1. Escapando Aspas"
   ]
  },
  {
   "cell_type": "code",
   "execution_count": 21,
   "id": "b72f02a4",
   "metadata": {
    "tags": []
   },
   "outputs": [
    {
     "ename": "SyntaxError",
     "evalue": "unterminated string literal (detected at line 1) (2589611244.py, line 1)",
     "output_type": "error",
     "traceback": [
      "\u001b[0;36m  Cell \u001b[0;32mIn[21], line 1\u001b[0;36m\u001b[0m\n\u001b[0;31m    'marca d'água'\u001b[0m\n\u001b[0m                 ^\u001b[0m\n\u001b[0;31mSyntaxError\u001b[0m\u001b[0;31m:\u001b[0m unterminated string literal (detected at line 1)\n"
     ]
    }
   ],
   "source": [
    "'marca d'água'"
   ]
  },
  {
   "cell_type": "code",
   "execution_count": 22,
   "id": "e41aecdb",
   "metadata": {
    "tags": []
   },
   "outputs": [
    {
     "name": "stdout",
     "output_type": "stream",
     "text": [
      "marca d'água\n",
      "Seu nome é \"Alechandre o Grande\", simplesmente ...\n"
     ]
    }
   ],
   "source": [
    "a = \"marca d'água\"\n",
    "b = 'Seu nome é \"Alechandre o Grande\", simplesmente ...'\n",
    "print(a)\n",
    "print(b)"
   ]
  },
  {
   "cell_type": "code",
   "execution_count": 23,
   "id": "76c011fd",
   "metadata": {
    "tags": []
   },
   "outputs": [],
   "source": [
    "c = 'marca d\\'água'\n",
    "d = \"Seu nome é \\\"Alechandre o Grande\\\", simplesmente ...\""
   ]
  },
  {
   "cell_type": "code",
   "execution_count": 24,
   "id": "56f2c9b8",
   "metadata": {
    "tags": []
   },
   "outputs": [
    {
     "data": {
      "text/plain": [
       "True"
      ]
     },
     "execution_count": 24,
     "metadata": {},
     "output_type": "execute_result"
    }
   ],
   "source": [
    "a == c"
   ]
  },
  {
   "cell_type": "code",
   "execution_count": 25,
   "id": "700b3503",
   "metadata": {
    "tags": []
   },
   "outputs": [
    {
     "data": {
      "text/plain": [
       "True"
      ]
     },
     "execution_count": 25,
     "metadata": {},
     "output_type": "execute_result"
    }
   ],
   "source": [
    "b == d"
   ]
  },
  {
   "cell_type": "markdown",
   "id": "cc5645ca",
   "metadata": {},
   "source": [
    "## 5.2. Texto em Multiplas Linhas e Caracteres de Controle"
   ]
  },
  {
   "cell_type": "code",
   "execution_count": 26,
   "id": "49e320e5",
   "metadata": {
    "tags": []
   },
   "outputs": [],
   "source": [
    "a = \"\"\"Isto é um texto\n",
    "em duas linhas!\"\"\""
   ]
  },
  {
   "cell_type": "code",
   "execution_count": 27,
   "id": "3bb3084a",
   "metadata": {
    "tags": []
   },
   "outputs": [
    {
     "name": "stdout",
     "output_type": "stream",
     "text": [
      "Isto é um texto\n",
      "em duas linhas!\n"
     ]
    }
   ],
   "source": [
    "print(a)"
   ]
  },
  {
   "cell_type": "code",
   "execution_count": 28,
   "id": "e84f4476",
   "metadata": {
    "tags": []
   },
   "outputs": [],
   "source": [
    "b = \"Isto é um texto\\nem duas linhas!\""
   ]
  },
  {
   "cell_type": "code",
   "execution_count": 29,
   "id": "190dc9c9",
   "metadata": {
    "tags": []
   },
   "outputs": [
    {
     "name": "stdout",
     "output_type": "stream",
     "text": [
      "Isto é um texto\n",
      "em duas linhas!\n"
     ]
    }
   ],
   "source": [
    "print(b)"
   ]
  },
  {
   "cell_type": "code",
   "execution_count": 30,
   "id": "4633f95b",
   "metadata": {
    "tags": []
   },
   "outputs": [
    {
     "data": {
      "text/plain": [
       "True"
      ]
     },
     "execution_count": 30,
     "metadata": {},
     "output_type": "execute_result"
    }
   ],
   "source": [
    "a == b"
   ]
  },
  {
   "cell_type": "code",
   "execution_count": 31,
   "id": "3f8aad7e",
   "metadata": {
    "tags": []
   },
   "outputs": [
    {
     "name": "stdout",
     "output_type": "stream",
     "text": [
      "Descrição \t Qt \t Valor\n"
     ]
    }
   ],
   "source": [
    "c = 'Descrição \\t Qt \\t Valor'\n",
    "print(c)"
   ]
  },
  {
   "cell_type": "markdown",
   "id": "ac077051",
   "metadata": {},
   "source": [
    "## 5.3. Acessando Partes/Elementos de uma String"
   ]
  },
  {
   "cell_type": "code",
   "execution_count": 32,
   "id": "87fe775b",
   "metadata": {
    "tags": []
   },
   "outputs": [],
   "source": [
    "nome = 'João Walmiro Alves'"
   ]
  },
  {
   "cell_type": "code",
   "execution_count": 33,
   "id": "53a18669",
   "metadata": {
    "tags": []
   },
   "outputs": [
    {
     "name": "stdout",
     "output_type": "stream",
     "text": [
      "J\n",
      "s\n"
     ]
    }
   ],
   "source": [
    "print(nome[0])\n",
    "print(nome[-1])"
   ]
  },
  {
   "cell_type": "code",
   "execution_count": 34,
   "id": "266c4984",
   "metadata": {
    "tags": []
   },
   "outputs": [
    {
     "name": "stdout",
     "output_type": "stream",
     "text": [
      "o\n",
      "e\n"
     ]
    }
   ],
   "source": [
    "print(nome[1])\n",
    "print(nome[-2])"
   ]
  },
  {
   "cell_type": "markdown",
   "id": "9b32e1ab",
   "metadata": {},
   "source": [
    "### 5.3.1. Faterando uma String (Slicing)"
   ]
  },
  {
   "cell_type": "code",
   "execution_count": 35,
   "id": "ab20e5e5",
   "metadata": {
    "tags": []
   },
   "outputs": [
    {
     "data": {
      "text/plain": [
       "'o Wal'"
      ]
     },
     "execution_count": 35,
     "metadata": {},
     "output_type": "execute_result"
    }
   ],
   "source": [
    "nome[3:8]"
   ]
  },
  {
   "cell_type": "code",
   "execution_count": 36,
   "id": "d717c620",
   "metadata": {
    "tags": []
   },
   "outputs": [
    {
     "data": {
      "text/plain": [
       "'João Walmiro Alves'"
      ]
     },
     "execution_count": 36,
     "metadata": {},
     "output_type": "execute_result"
    }
   ],
   "source": [
    "nome[:]"
   ]
  },
  {
   "cell_type": "code",
   "execution_count": 37,
   "id": "c006e9a9",
   "metadata": {
    "tags": []
   },
   "outputs": [
    {
     "data": {
      "text/plain": [
       "'13579'"
      ]
     },
     "execution_count": 37,
     "metadata": {},
     "output_type": "execute_result"
    }
   ],
   "source": [
    "numeros = '1234567890'\n",
    "numeros[::2]"
   ]
  },
  {
   "cell_type": "code",
   "execution_count": 38,
   "id": "6f9ef913",
   "metadata": {
    "tags": []
   },
   "outputs": [
    {
     "data": {
      "text/plain": [
       "'24680'"
      ]
     },
     "execution_count": 38,
     "metadata": {},
     "output_type": "execute_result"
    }
   ],
   "source": [
    "numeros[1::2]"
   ]
  },
  {
   "cell_type": "code",
   "execution_count": 39,
   "id": "6e153d4b",
   "metadata": {
    "tags": []
   },
   "outputs": [
    {
     "data": {
      "text/plain": [
       "'369'"
      ]
     },
     "execution_count": 39,
     "metadata": {},
     "output_type": "execute_result"
    }
   ],
   "source": [
    "numeros[2::3]"
   ]
  },
  {
   "cell_type": "code",
   "execution_count": 40,
   "id": "0ae4b679",
   "metadata": {
    "tags": []
   },
   "outputs": [
    {
     "data": {
      "text/plain": [
       "'0987654321'"
      ]
     },
     "execution_count": 40,
     "metadata": {},
     "output_type": "execute_result"
    }
   ],
   "source": [
    "numeros[::-1]"
   ]
  },
  {
   "cell_type": "code",
   "execution_count": 41,
   "id": "e67a8c51",
   "metadata": {
    "tags": []
   },
   "outputs": [
    {
     "data": {
      "text/plain": [
       "'08642'"
      ]
     },
     "execution_count": 41,
     "metadata": {},
     "output_type": "execute_result"
    }
   ],
   "source": [
    "numeros[::-2]"
   ]
  },
  {
   "cell_type": "markdown",
   "id": "ecf591c9",
   "metadata": {},
   "source": [
    "### 5.3.2. Linguagem Natural e Alguns Métodos de String"
   ]
  },
  {
   "cell_type": "code",
   "execution_count": 42,
   "id": "b0dba508",
   "metadata": {
    "tags": []
   },
   "outputs": [
    {
     "data": {
      "text/plain": [
       "False"
      ]
     },
     "execution_count": 42,
     "metadata": {},
     "output_type": "execute_result"
    }
   ],
   "source": [
    "'joão' in nome"
   ]
  },
  {
   "cell_type": "code",
   "execution_count": 43,
   "id": "46489246",
   "metadata": {
    "tags": []
   },
   "outputs": [
    {
     "data": {
      "text/plain": [
       "True"
      ]
     },
     "execution_count": 43,
     "metadata": {},
     "output_type": "execute_result"
    }
   ],
   "source": [
    "'joão' not in nome"
   ]
  },
  {
   "cell_type": "code",
   "execution_count": 44,
   "id": "5a3f8ab4",
   "metadata": {
    "tags": []
   },
   "outputs": [
    {
     "data": {
      "text/plain": [
       "True"
      ]
     },
     "execution_count": 44,
     "metadata": {},
     "output_type": "execute_result"
    }
   ],
   "source": [
    "'joão' in nome.lower()"
   ]
  },
  {
   "cell_type": "code",
   "execution_count": 45,
   "id": "a1409e86",
   "metadata": {
    "tags": []
   },
   "outputs": [
    {
     "data": {
      "text/plain": [
       "'joão walmiro alves'"
      ]
     },
     "execution_count": 45,
     "metadata": {},
     "output_type": "execute_result"
    }
   ],
   "source": [
    "nome.lower()"
   ]
  },
  {
   "cell_type": "code",
   "execution_count": 46,
   "id": "5c9b2f71",
   "metadata": {
    "tags": []
   },
   "outputs": [
    {
     "data": {
      "text/plain": [
       "'João Walmiro Alves'"
      ]
     },
     "execution_count": 46,
     "metadata": {},
     "output_type": "execute_result"
    }
   ],
   "source": [
    "nome"
   ]
  },
  {
   "cell_type": "code",
   "execution_count": 47,
   "id": "a65d7625",
   "metadata": {
    "tags": []
   },
   "outputs": [
    {
     "name": "stdout",
     "output_type": "stream",
     "text": [
      "['__add__', '__class__', '__contains__', '__delattr__', '__dir__', '__doc__', '__eq__', '__format__', '__ge__', '__getattribute__', '__getitem__', '__getnewargs__', '__gt__', '__hash__', '__init__', '__init_subclass__', '__iter__', '__le__', '__len__', '__lt__', '__mod__', '__mul__', '__ne__', '__new__', '__reduce__', '__reduce_ex__', '__repr__', '__rmod__', '__rmul__', '__setattr__', '__sizeof__', '__str__', '__subclasshook__', 'capitalize', 'casefold', 'center', 'count', 'encode', 'endswith', 'expandtabs', 'find', 'format', 'format_map', 'index', 'isalnum', 'isalpha', 'isascii', 'isdecimal', 'isdigit', 'isidentifier', 'islower', 'isnumeric', 'isprintable', 'isspace', 'istitle', 'isupper', 'join', 'ljust', 'lower', 'lstrip', 'maketrans', 'partition', 'removeprefix', 'removesuffix', 'replace', 'rfind', 'rindex', 'rjust', 'rpartition', 'rsplit', 'rstrip', 'split', 'splitlines', 'startswith', 'strip', 'swapcase', 'title', 'translate', 'upper', 'zfill']\n"
     ]
    }
   ],
   "source": [
    "print(dir(nome))"
   ]
  },
  {
   "cell_type": "code",
   "execution_count": 48,
   "id": "614a8b55",
   "metadata": {
    "tags": []
   },
   "outputs": [
    {
     "name": "stdout",
     "output_type": "stream",
     "text": [
      "Help on built-in function capitalize:\n",
      "\n",
      "capitalize() method of builtins.str instance\n",
      "    Return a capitalized version of the string.\n",
      "    \n",
      "    More specifically, make the first character have upper case and the rest lower\n",
      "    case.\n",
      "\n"
     ]
    }
   ],
   "source": [
    "help(nome.capitalize)"
   ]
  },
  {
   "cell_type": "code",
   "execution_count": 49,
   "id": "b4e5a06a",
   "metadata": {
    "tags": []
   },
   "outputs": [
    {
     "data": {
      "text/plain": [
       "'Seu nome é gabriel?'"
      ]
     },
     "execution_count": 49,
     "metadata": {},
     "output_type": "execute_result"
    }
   ],
   "source": [
    "frase = 'seu nome é Gabriel?'\n",
    "frase.capitalize()"
   ]
  },
  {
   "cell_type": "code",
   "execution_count": 50,
   "id": "1634d5f1",
   "metadata": {
    "tags": []
   },
   "outputs": [
    {
     "name": "stdout",
     "output_type": "stream",
     "text": [
      "Help on method_descriptor:\n",
      "\n",
      "isspace(self, /)\n",
      "    Return True if the string is a whitespace string, False otherwise.\n",
      "    \n",
      "    A string is whitespace if all characters in the string are whitespace and there\n",
      "    is at least one character in the string.\n",
      "\n"
     ]
    }
   ],
   "source": [
    "help(str.isspace)"
   ]
  },
  {
   "cell_type": "code",
   "execution_count": 51,
   "id": "52743861",
   "metadata": {
    "tags": []
   },
   "outputs": [
    {
     "data": {
      "text/plain": [
       "False"
      ]
     },
     "execution_count": 51,
     "metadata": {},
     "output_type": "execute_result"
    }
   ],
   "source": [
    "frase.isspace()"
   ]
  },
  {
   "cell_type": "code",
   "execution_count": 52,
   "id": "d613aa74",
   "metadata": {
    "tags": []
   },
   "outputs": [
    {
     "data": {
      "text/plain": [
       "True"
      ]
     },
     "execution_count": 52,
     "metadata": {},
     "output_type": "execute_result"
    }
   ],
   "source": [
    "'       '.isspace()"
   ]
  },
  {
   "cell_type": "code",
   "execution_count": 53,
   "id": "6e8b08d5",
   "metadata": {
    "tags": []
   },
   "outputs": [
    {
     "data": {
      "text/plain": [
       "'Rafael Ribeiro Alves'"
      ]
     },
     "execution_count": 53,
     "metadata": {},
     "output_type": "execute_result"
    }
   ],
   "source": [
    "nome = 'rudson ribeiro alves'\n",
    "nome.replace('rudson', 'rafael').title()"
   ]
  },
  {
   "cell_type": "code",
   "execution_count": 54,
   "id": "c3cc5c6e",
   "metadata": {
    "tags": []
   },
   "outputs": [
    {
     "data": {
      "text/plain": [
       "'rudson ribeiro alves'"
      ]
     },
     "execution_count": 54,
     "metadata": {},
     "output_type": "execute_result"
    }
   ],
   "source": [
    "nome"
   ]
  },
  {
   "cell_type": "code",
   "execution_count": 55,
   "id": "739e4be1",
   "metadata": {
    "tags": []
   },
   "outputs": [
    {
     "data": {
      "text/plain": [
       "'Rafael Ribeiro Alves'"
      ]
     },
     "execution_count": 55,
     "metadata": {},
     "output_type": "execute_result"
    }
   ],
   "source": [
    "nome = nome.replace('rudson', 'rafael').title()\n",
    "nome"
   ]
  },
  {
   "cell_type": "code",
   "execution_count": 56,
   "id": "f981846e",
   "metadata": {
    "tags": []
   },
   "outputs": [
    {
     "data": {
      "text/plain": [
       "3"
      ]
     },
     "execution_count": 56,
     "metadata": {},
     "output_type": "execute_result"
    }
   ],
   "source": [
    "nome.lower().count('a')"
   ]
  },
  {
   "cell_type": "markdown",
   "id": "785e0f47-c932-4ec6-a8cc-7315aa5c598f",
   "metadata": {},
   "source": [
    "## 5.4. Método format\n",
    "O método de string format serve para formatar a saída impressa"
   ]
  },
  {
   "cell_type": "code",
   "execution_count": 94,
   "id": "58bd516c-c2d9-4491-bdc8-36cfa3a80e96",
   "metadata": {
    "tags": []
   },
   "outputs": [],
   "source": [
    "nome = 'João Walmiro Alves'\n",
    "cpf = '453.567.788-34'\n",
    "idade = 50\n",
    "peso = 83.345"
   ]
  },
  {
   "cell_type": "code",
   "execution_count": 95,
   "id": "502c7fd8-3f9e-4a24-b820-c8bed50ad224",
   "metadata": {
    "tags": []
   },
   "outputs": [
    {
     "name": "stdout",
     "output_type": "stream",
     "text": [
      "Nome: João Walmiro Alves\n",
      "CPF: 453.567.788-34  Idade: 50\n"
     ]
    }
   ],
   "source": [
    "print('Nome: {}\\nCPF: {}  Idade: {}'.format(nome, cpf, idade))"
   ]
  },
  {
   "cell_type": "code",
   "execution_count": 96,
   "id": "c61a1d28-207e-4e77-b699-99969fa11efd",
   "metadata": {
    "tags": []
   },
   "outputs": [
    {
     "name": "stdout",
     "output_type": "stream",
     "text": [
      "O Sr João Walmiro Alves, de 50 anos, CPF 453.567.788-34...\n"
     ]
    }
   ],
   "source": [
    "print('O Sr {0}, de {2} anos, CPF {1}...'.format(nome, cpf, idade))"
   ]
  },
  {
   "cell_type": "code",
   "execution_count": 97,
   "id": "00ac70ea-eb36-491d-8a51-72d292b9da4e",
   "metadata": {
    "tags": []
   },
   "outputs": [
    {
     "name": "stdout",
     "output_type": "stream",
     "text": [
      "O Sr João Walmiro Alves, de 50 anos, CPF 453.567.788-34...\n"
     ]
    }
   ],
   "source": [
    "print('O Sr {n}, de {i} anos, CPF {c}...'.format(n = nome, c = cpf, i = idade))"
   ]
  },
  {
   "cell_type": "code",
   "execution_count": 98,
   "id": "c64da84c-f022-439b-9e68-a81539452d33",
   "metadata": {
    "tags": []
   },
   "outputs": [
    {
     "name": "stdout",
     "output_type": "stream",
     "text": [
      "O Sr João Walmiro Alves, de 50 anos, CPF 453.567.788-34...\n"
     ]
    }
   ],
   "source": [
    "print(f'O Sr {nome}, de {idade} anos, CPF {cpf}...')"
   ]
  },
  {
   "cell_type": "code",
   "execution_count": 99,
   "id": "af9bbae4-d76d-432c-858b-69d380ec9bf2",
   "metadata": {
    "tags": []
   },
   "outputs": [
    {
     "name": "stdout",
     "output_type": "stream",
     "text": [
      "O Sr João Walmiro Alves, de 50 anos, CPF 453.567.788-34, hoje com 83.345kg...\n"
     ]
    }
   ],
   "source": [
    "print(f'O Sr {nome}, de {idade} anos, CPF {cpf}, hoje com {peso}kg...')"
   ]
  },
  {
   "cell_type": "code",
   "execution_count": 100,
   "id": "b20d9dc0-e810-4113-98ec-282346649b89",
   "metadata": {
    "tags": []
   },
   "outputs": [
    {
     "name": "stdout",
     "output_type": "stream",
     "text": [
      "O Sr João Walmiro Alves, de 50 anos, CPF 453.567.788-34, hoje com 83.3kg...\n"
     ]
    }
   ],
   "source": [
    "print(f'O Sr {nome}, de {idade} anos, CPF {cpf}, hoje com {peso:.1f}kg...')"
   ]
  },
  {
   "cell_type": "code",
   "execution_count": 101,
   "id": "3254afca-ab74-46db-8f22-2c2d9f3d3733",
   "metadata": {
    "tags": []
   },
   "outputs": [
    {
     "name": "stdout",
     "output_type": "stream",
     "text": [
      "Nome:   João Walmiro Alves\n",
      "Idade:                  50\n",
      "CPF:        453.567.788-34\n",
      "Peso:               83.3kg\n"
     ]
    }
   ],
   "source": [
    "print(f'Nome: {nome:>20}\\nIdade:{idade:>20}\\nCPF:  {cpf:>20}\\nPeso: {peso:>18.1f}kg')"
   ]
  },
  {
   "cell_type": "code",
   "execution_count": 102,
   "id": "84ff9c1e-324a-4d7e-9fc0-e26c21259c7d",
   "metadata": {
    "tags": []
   },
   "outputs": [
    {
     "data": {
      "text/plain": [
       "20"
      ]
     },
     "execution_count": 102,
     "metadata": {},
     "output_type": "execute_result"
    }
   ],
   "source": [
    "len('                  50')"
   ]
  },
  {
   "cell_type": "code",
   "execution_count": 103,
   "id": "1aa0280f-2b57-4610-88a7-4fd44a083007",
   "metadata": {
    "tags": []
   },
   "outputs": [
    {
     "name": "stdout",
     "output_type": "stream",
     "text": [
      "Nome: João Walmiro Alves\n",
      "Idade:        50\n",
      "CPF:  453.567.788-34\n",
      "Peso:     83.3kg\n"
     ]
    }
   ],
   "source": [
    "print(f'Nome: {nome:>10}\\nIdade:{idade:>10}\\nCPF:  {cpf:>10}\\nPeso: {peso:>8.1f}kg')"
   ]
  },
  {
   "cell_type": "markdown",
   "id": "9a872433-6a5b-4e81-a70d-da084e74dfe9",
   "metadata": {},
   "source": [
    "### 5.4.1. Detalhes sobre o print"
   ]
  },
  {
   "cell_type": "code",
   "execution_count": 104,
   "id": "857c8b35-99fb-4708-a972-7ee4dbf87550",
   "metadata": {
    "tags": []
   },
   "outputs": [
    {
     "name": "stdout",
     "output_type": "stream",
     "text": [
      "Help on built-in function print in module builtins:\n",
      "\n",
      "print(...)\n",
      "    print(value, ..., sep=' ', end='\\n', file=sys.stdout, flush=False)\n",
      "    \n",
      "    Prints the values to a stream, or to sys.stdout by default.\n",
      "    Optional keyword arguments:\n",
      "    file:  a file-like object (stream); defaults to the current sys.stdout.\n",
      "    sep:   string inserted between values, default a space.\n",
      "    end:   string appended after the last value, default a newline.\n",
      "    flush: whether to forcibly flush the stream.\n",
      "\n"
     ]
    }
   ],
   "source": [
    "help(print)"
   ]
  },
  {
   "cell_type": "code",
   "execution_count": 85,
   "id": "66fe6a4e-6777-40a8-932f-680cad3e1aa5",
   "metadata": {
    "tags": []
   },
   "outputs": [
    {
     "name": "stdout",
     "output_type": "stream",
     "text": [
      "A B C\n",
      "A-B-C\n"
     ]
    }
   ],
   "source": [
    "print('A','B','C')\n",
    "print('A','B','C', sep='-')"
   ]
  },
  {
   "cell_type": "code",
   "execution_count": 106,
   "id": "95812346-6caf-456d-8eec-ae5ec54d1a2c",
   "metadata": {
    "tags": []
   },
   "outputs": [
    {
     "name": "stdout",
     "output_type": "stream",
     "text": [
      "A\n",
      "B\n",
      "C\n",
      "A B C\n"
     ]
    }
   ],
   "source": [
    "print('A')\n",
    "print('B')\n",
    "print('C')\n",
    "\n",
    "print('A ', end='')\n",
    "print('B ', end='')\n",
    "print('C')"
   ]
  },
  {
   "cell_type": "code",
   "execution_count": null,
   "id": "e596dd19-f7e7-4979-b67a-65d5ee51e907",
   "metadata": {},
   "outputs": [],
   "source": []
  }
 ],
 "metadata": {
  "kernelspec": {
   "display_name": "Python 3 (ipykernel)",
   "language": "python",
   "name": "python3"
  },
  "language_info": {
   "codemirror_mode": {
    "name": "ipython",
    "version": 3
   },
   "file_extension": ".py",
   "mimetype": "text/x-python",
   "name": "python",
   "nbconvert_exporter": "python",
   "pygments_lexer": "ipython3",
   "version": "3.10.6"
  }
 },
 "nbformat": 4,
 "nbformat_minor": 5
}
