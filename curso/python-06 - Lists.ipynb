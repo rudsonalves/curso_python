{
 "cells": [
  {
   "cell_type": "markdown",
   "id": "d0e09cea-3726-4554-9204-af8067285e86",
   "metadata": {},
   "source": [
    "# 6. Listas\n",
    "Listas são mutáveis e por isto seus métodos alteram seu conteúdo, o que não ocorre em Strings"
   ]
  },
  {
   "cell_type": "code",
   "execution_count": 10,
   "id": "ba3977cd-9859-43ec-b48d-eeb12fcc1e49",
   "metadata": {
    "tags": []
   },
   "outputs": [],
   "source": [
    "lista = [1,2,3,4]"
   ]
  },
  {
   "cell_type": "code",
   "execution_count": 11,
   "id": "44267c84-b2c8-4b50-a027-ffd4ef266bed",
   "metadata": {
    "tags": []
   },
   "outputs": [],
   "source": [
    "lista.reverse()"
   ]
  },
  {
   "cell_type": "code",
   "execution_count": 12,
   "id": "ca007afd-2b7f-4844-93b9-3a1e018367f3",
   "metadata": {
    "tags": []
   },
   "outputs": [
    {
     "data": {
      "text/plain": [
       "[4, 3, 2, 1]"
      ]
     },
     "execution_count": 12,
     "metadata": {},
     "output_type": "execute_result"
    }
   ],
   "source": [
    "lista"
   ]
  },
  {
   "cell_type": "code",
   "execution_count": 13,
   "id": "986a03cc-07f0-4c56-a521-22491747deff",
   "metadata": {
    "tags": []
   },
   "outputs": [],
   "source": [
    "lista.sort()"
   ]
  },
  {
   "cell_type": "code",
   "execution_count": 14,
   "id": "94bfbc87-c291-4e2e-ba6f-5868b98cd048",
   "metadata": {
    "tags": []
   },
   "outputs": [
    {
     "data": {
      "text/plain": [
       "[1, 2, 3, 4]"
      ]
     },
     "execution_count": 14,
     "metadata": {},
     "output_type": "execute_result"
    }
   ],
   "source": [
    "lista"
   ]
  },
  {
   "cell_type": "code",
   "execution_count": 15,
   "id": "a1c959e2-70fe-4142-b214-a3fea0e00dbb",
   "metadata": {
    "tags": []
   },
   "outputs": [
    {
     "data": {
      "text/plain": [
       "'ABCD'"
      ]
     },
     "execution_count": 15,
     "metadata": {},
     "output_type": "execute_result"
    }
   ],
   "source": [
    "letras = 'abcd'\n",
    "letras.upper()"
   ]
  },
  {
   "cell_type": "code",
   "execution_count": 16,
   "id": "0828f008-8801-486c-adc9-0d2f3ece3441",
   "metadata": {
    "tags": []
   },
   "outputs": [
    {
     "data": {
      "text/plain": [
       "'abcd'"
      ]
     },
     "execution_count": 16,
     "metadata": {},
     "output_type": "execute_result"
    }
   ],
   "source": [
    "letras"
   ]
  },
  {
   "cell_type": "code",
   "execution_count": 18,
   "id": "db1326fa-1c4f-41db-8c0f-cd7eacee6af4",
   "metadata": {
    "tags": []
   },
   "outputs": [
    {
     "data": {
      "text/plain": [
       "'Abcd'"
      ]
     },
     "execution_count": 18,
     "metadata": {},
     "output_type": "execute_result"
    }
   ],
   "source": [
    "letras.capitalize()"
   ]
  },
  {
   "cell_type": "code",
   "execution_count": 19,
   "id": "7c25b68f-322e-4c60-a023-5c23b49eab03",
   "metadata": {
    "tags": []
   },
   "outputs": [
    {
     "data": {
      "text/plain": [
       "'abcd'"
      ]
     },
     "execution_count": 19,
     "metadata": {},
     "output_type": "execute_result"
    }
   ],
   "source": [
    "letras"
   ]
  },
  {
   "cell_type": "code",
   "execution_count": 20,
   "id": "ab2e240a-10c6-4d71-ad3e-ed98876fa3e9",
   "metadata": {
    "tags": []
   },
   "outputs": [],
   "source": [
    "newLetras = letras.upper()"
   ]
  },
  {
   "cell_type": "code",
   "execution_count": 23,
   "id": "eed94a20-bc91-45fc-94c3-12ad49d74d0c",
   "metadata": {
    "tags": []
   },
   "outputs": [
    {
     "data": {
      "text/plain": [
       "'ABCD'"
      ]
     },
     "execution_count": 23,
     "metadata": {},
     "output_type": "execute_result"
    }
   ],
   "source": [
    "newLetras"
   ]
  },
  {
   "cell_type": "code",
   "execution_count": 24,
   "id": "ec5647a8-ae60-4554-be9d-b6267c09f3f4",
   "metadata": {
    "tags": []
   },
   "outputs": [
    {
     "data": {
      "text/plain": [
       "'abcd'"
      ]
     },
     "execution_count": 24,
     "metadata": {},
     "output_type": "execute_result"
    }
   ],
   "source": [
    "letras"
   ]
  },
  {
   "cell_type": "code",
   "execution_count": null,
   "id": "1f8c643c-9081-4f73-a2c0-97fbc0cacf83",
   "metadata": {},
   "outputs": [],
   "source": []
  }
 ],
 "metadata": {
  "kernelspec": {
   "display_name": "Python 3 (ipykernel)",
   "language": "python",
   "name": "python3"
  },
  "language_info": {
   "codemirror_mode": {
    "name": "ipython",
    "version": 3
   },
   "file_extension": ".py",
   "mimetype": "text/x-python",
   "name": "python",
   "nbconvert_exporter": "python",
   "pygments_lexer": "ipython3",
   "version": "3.10.6"
  }
 },
 "nbformat": 4,
 "nbformat_minor": 5
}
