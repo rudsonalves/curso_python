{
 "cells": [
  {
   "cell_type": "markdown",
   "id": "a092d822-5d7b-4ffa-aea9-acbb7f9ad1bf",
   "metadata": {},
   "source": [
    "# 10 - Match - Case\n",
    "\n",
    "A partir do python 3.10 foi adicionado mais uma estrutura de controle no python, o match-case. Este funciona como o switch-case de outras linguagens.\n",
    "\n",
    "Sua sintaxe é apresentada a seguir:\n",
    "\n",
    "```\n",
    "match valor\n",
    "    case <padrão_1>:\n",
    "        <comandos_1>\n",
    "    case <padrão_2>:\n",
    "        <comandos_2>\n",
    "    ...\n",
    "    case _:\n",
    "        <comandos_default>\n",
    "```\n",
    "\n",
    "O **case _** é o default, ou seja, se nenumha das opções acima forem resolvidas o **case _** será resolvido. \n",
    "\n",
    "A sentença match-case é equivalente a sequência if-elif-...-else:\n",
    "\n",
    "\n",
    "```\n",
    "if <valor == padrão_1>:\n",
    "    <comandos_1>\n",
    "elif <valor == padrão_2>:\n",
    "    <comandos_2>\n",
    "...\n",
    "else:\n",
    "    <comandos_default>\n",
    "```\n",
    "\n",
    "Ou seja, um match-case pode sim ser feito sentenças if. Mas, afinal qual a vantagem de se usar uma match-case?\n",
    "\n",
    "**Desempenho:** Pessoalemnte não testei o desempenho do match-case frente a uma sequência if, mas acretido que o match-case seja inferior, como ocorre na maioria das linguagens.\n",
    "\n",
    "**Legibilidade:** Legibilidade é o principal motivo para o uso do switch-case na maioria das linguagens e não esperaria algo diferente no python.\n",
    "\n",
    "Considere o código de uma função para transformar um dia da semana (1 a 7) em 'Final de Semana' e 'Dia Útil':"
   ]
  },
  {
   "cell_type": "code",
   "execution_count": 30,
   "id": "9cebe8d0-5ab9-4d26-9afb-910b3c89a25f",
   "metadata": {
    "tags": []
   },
   "outputs": [],
   "source": [
    "def diaDaSemanaIf(d):\n",
    "    if (d == 1) | (d == 7):\n",
    "        return 'Final de Semana'\n",
    "    elif 1 < d < 8:\n",
    "        return 'Dia Útil'\n",
    "    else:\n",
    "        return 'Dia Inválido'"
   ]
  },
  {
   "cell_type": "code",
   "execution_count": 31,
   "id": "a7433844-450c-4648-ac9b-26a93bee2824",
   "metadata": {
    "tags": []
   },
   "outputs": [
    {
     "name": "stdout",
     "output_type": "stream",
     "text": [
      "0: Dia Inválido\n",
      "1: Final de Semana\n",
      "2: Dia Útil\n",
      "3: Dia Útil\n",
      "4: Dia Útil\n",
      "5: Dia Útil\n",
      "6: Dia Útil\n",
      "7: Final de Semana\n",
      "8: Dia Inválido\n"
     ]
    }
   ],
   "source": [
    "for d in range(9):\n",
    "    print('{}: {}'.format(d, diaDaSemanaIf(d)))"
   ]
  },
  {
   "cell_type": "code",
   "execution_count": 32,
   "id": "880fdfd3-b2a0-4a37-9de4-c1853d36c9e5",
   "metadata": {
    "tags": []
   },
   "outputs": [],
   "source": [
    "def diaDaSemana(d):\n",
    "    match d:\n",
    "        case 1 | 7:\n",
    "            return 'Final de Semana'\n",
    "        case 2 | 3 | 4 | 5 | 6:\n",
    "            return 'Dia Útil'\n",
    "        case _: \n",
    "            return 'Dia Inválido'"
   ]
  },
  {
   "cell_type": "code",
   "execution_count": 33,
   "id": "4a6cd56b-abb7-4ad7-9e06-189df3c6a8ce",
   "metadata": {
    "tags": []
   },
   "outputs": [
    {
     "name": "stdout",
     "output_type": "stream",
     "text": [
      "0: Dia Inválido\n",
      "1: Final de Semana\n",
      "2: Dia Útil\n",
      "3: Dia Útil\n",
      "4: Dia Útil\n",
      "5: Dia Útil\n",
      "6: Dia Útil\n",
      "7: Final de Semana\n",
      "8: Dia Inválido\n"
     ]
    }
   ],
   "source": [
    "for d in range(9):\n",
    "    print('{}: {}'.format(d, diaDaSemana(d)))"
   ]
  },
  {
   "cell_type": "markdown",
   "id": "8a605708-a10c-483a-8412-23431693426f",
   "metadata": {},
   "source": [
    "## 10.1. Comparando o desempenho do match-case x if"
   ]
  },
  {
   "cell_type": "code",
   "execution_count": 47,
   "id": "66d81484-696f-4b48-aa9d-2bfd3d24069e",
   "metadata": {
    "tags": []
   },
   "outputs": [
    {
     "name": "stdout",
     "output_type": "stream",
     "text": [
      "diaDaSemanaIf: 3.724836587905884s\n"
     ]
    }
   ],
   "source": [
    "import time\n",
    "\n",
    "start = time.time()\n",
    "for i in range(30000000):\n",
    "    d = i % 9\n",
    "    a = diaDaSemanaIf(d)\n",
    "end = time.time()\n",
    "print('diaDaSemanaIf: {}s'.format(end-start))"
   ]
  },
  {
   "cell_type": "code",
   "execution_count": 48,
   "id": "dc8eceaf-f9c8-4cf6-bc00-e71bf72869e5",
   "metadata": {
    "tags": []
   },
   "outputs": [
    {
     "name": "stdout",
     "output_type": "stream",
     "text": [
      "diaDaSemanaIf: 4.142198324203491s\n"
     ]
    }
   ],
   "source": [
    "start = time.time()\n",
    "for i in range(30000000):\n",
    "    d = i % 9\n",
    "    a = diaDaSemana(d)\n",
    "end = time.time()\n",
    "print('diaDaSemanaIf: {}s'.format(end-start))"
   ]
  },
  {
   "cell_type": "code",
   "execution_count": null,
   "id": "e00cacf6-90c6-4c66-af78-f049c052efe9",
   "metadata": {},
   "outputs": [],
   "source": []
  }
 ],
 "metadata": {
  "kernelspec": {
   "display_name": "Python 3 (ipykernel)",
   "language": "python",
   "name": "python3"
  },
  "language_info": {
   "codemirror_mode": {
    "name": "ipython",
    "version": 3
   },
   "file_extension": ".py",
   "mimetype": "text/x-python",
   "name": "python",
   "nbconvert_exporter": "python",
   "pygments_lexer": "ipython3",
   "version": "3.10.6"
  }
 },
 "nbformat": 4,
 "nbformat_minor": 5
}
