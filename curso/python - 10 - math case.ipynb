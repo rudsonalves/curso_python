{
 "cells": [
  {
   "cell_type": "markdown",
   "id": "bd9db833",
   "metadata": {},
   "source": [
    "# 10. Math Case\n",
    "\n",
    "A partir da versão 3.10 do python foi adicionado a sentença math-case que funciona de fprm semelhante a switch-case de outras linguagens, como um sequência de ifs.\n",
    "\n",
    "Sua sintaxe é:\n",
    "\n",
    "```\n",
    "math <variável>:\n",
    "    case <condição_1>:\n",
    "        <comandos>\n",
    "        break\n",
    "    case <condição_2 | condição_3 ...>:\n",
    "        <comandos>\n",
    "        greak\n",
    "    default:\n",
    "        <comandos>\n",
    "        break\n",
    "\n",
    "```"
   ]
  },
  {
   "cell_type": "code",
   "execution_count": null,
   "id": "7f381f3f",
   "metadata": {},
   "outputs": [],
   "source": []
  }
 ],
 "metadata": {
  "kernelspec": {
   "display_name": "Python 3 (ipykernel)",
   "language": "python",
   "name": "python3"
  },
  "language_info": {
   "codemirror_mode": {
    "name": "ipython",
    "version": 3
   },
   "file_extension": ".py",
   "mimetype": "text/x-python",
   "name": "python",
   "nbconvert_exporter": "python",
   "pygments_lexer": "ipython3",
   "version": "3.10.6"
  }
 },
 "nbformat": 4,
 "nbformat_minor": 5
}
