{
 "cells": [
  {
   "cell_type": "markdown",
   "id": "6539f1d1-8a77-4f2e-9507-a81182671fed",
   "metadata": {},
   "source": [
    "# 2. Variáveis\n",
    "## 2.1 Declarando Variáveis\n",
    "No python as variáveis são declaradas por inferência."
   ]
  },
  {
   "cell_type": "code",
   "execution_count": 1,
   "id": "886a1711-040e-4e0d-b291-b14be97cfce9",
   "metadata": {
    "tags": []
   },
   "outputs": [
    {
     "name": "stdout",
     "output_type": "stream",
     "text": [
      "13.5\n",
      "aula aula aula aula aula aula aula aula aula aula \n"
     ]
    }
   ],
   "source": [
    "# o igual é o operador de atribuição\n",
    "a = 10\n",
    "b = 3.5\n",
    "c = 'aula '\n",
    "print(a + b)\n",
    "print(a * c)"
   ]
  },
  {
   "cell_type": "markdown",
   "id": "c3eca7a0-3cdf-40a9-9a97-4304bc08fbc4",
   "metadata": {},
   "source": [
    "## 2.1 Tipagem Dinâmica"
   ]
  },
  {
   "cell_type": "code",
   "execution_count": 2,
   "id": "a2204549-6ca4-4857-9ed9-8a2db6d88155",
   "metadata": {
    "tags": []
   },
   "outputs": [
    {
     "name": "stdout",
     "output_type": "stream",
     "text": [
      "10\n",
      "house\n"
     ]
    }
   ],
   "source": [
    "print(a)\n",
    "a = 'house'\n",
    "print(a)"
   ]
  },
  {
   "cell_type": "code",
   "execution_count": 3,
   "id": "723629fa-fd14-43e4-a9b8-621e937329a2",
   "metadata": {
    "tags": []
   },
   "outputs": [
    {
     "name": "stdout",
     "output_type": "stream",
     "text": [
      "<method-wrapper '__hash__' of int object at 0x7fe9b9050110>\n",
      "<method-wrapper '__hash__' of int object at 0x7fe9b9050110>\n",
      "<method-wrapper '__hash__' of int object at 0x7fe9b90501b0>\n",
      "<method-wrapper '__hash__' of str object at 0x7fe9b6baee30>\n"
     ]
    }
   ],
   "source": [
    "a = 2\n",
    "print(a.__hash__)\n",
    "b = a + 5\n",
    "print(a.__hash__)\n",
    "a = a + 5\n",
    "print(a.__hash__)\n",
    "a = 'python'\n",
    "print(a.__hash__)"
   ]
  },
  {
   "cell_type": "code",
   "execution_count": 4,
   "id": "f7e9d4de-f4b7-4d0c-a447-b7012231c91c",
   "metadata": {
    "tags": []
   },
   "outputs": [
    {
     "name": "stdout",
     "output_type": "stream",
     "text": [
      "['__add__', '__class__', '__contains__', '__delattr__', '__dir__', '__doc__', '__eq__', '__format__', '__ge__', '__getattribute__', '__getitem__', '__getnewargs__', '__gt__', '__hash__', '__init__', '__init_subclass__', '__iter__', '__le__', '__len__', '__lt__', '__mod__', '__mul__', '__ne__', '__new__', '__reduce__', '__reduce_ex__', '__repr__', '__rmod__', '__rmul__', '__setattr__', '__sizeof__', '__str__', '__subclasshook__', 'capitalize', 'casefold', 'center', 'count', 'encode', 'endswith', 'expandtabs', 'find', 'format', 'format_map', 'index', 'isalnum', 'isalpha', 'isascii', 'isdecimal', 'isdigit', 'isidentifier', 'islower', 'isnumeric', 'isprintable', 'isspace', 'istitle', 'isupper', 'join', 'ljust', 'lower', 'lstrip', 'maketrans', 'partition', 'removeprefix', 'removesuffix', 'replace', 'rfind', 'rindex', 'rjust', 'rpartition', 'rsplit', 'rstrip', 'split', 'splitlines', 'startswith', 'strip', 'swapcase', 'title', 'translate', 'upper', 'zfill']\n"
     ]
    }
   ],
   "source": [
    "print(dir(a))"
   ]
  },
  {
   "cell_type": "code",
   "execution_count": 6,
   "id": "2922a253-6aaf-47f6-b6de-2ce303eb6aff",
   "metadata": {
    "tags": []
   },
   "outputs": [
    {
     "name": "stdout",
     "output_type": "stream",
     "text": [
      "t\n"
     ]
    }
   ],
   "source": [
    "print(a[2])\n",
    "# uma string é uma lista de caracteres"
   ]
  },
  {
   "cell_type": "code",
   "execution_count": 9,
   "id": "c88bca8e-dd50-46c9-ae89-0ffa47f384e5",
   "metadata": {
    "tags": []
   },
   "outputs": [
    {
     "name": "stdout",
     "output_type": "stream",
     "text": [
      "<method-wrapper '__hash__' of int object at 0x7fe9b9050250>\n",
      "<method-wrapper '__hash__' of int object at 0x7fe9b9050250>\n"
     ]
    }
   ],
   "source": [
    "a = 12\n",
    "b = a\n",
    "print(a.__hash__)\n",
    "print(b.__hash__)"
   ]
  },
  {
   "cell_type": "code",
   "execution_count": 10,
   "id": "0cbeb0ad-096d-4f8c-ba43-ae91589a9674",
   "metadata": {
    "tags": []
   },
   "outputs": [
    {
     "name": "stdout",
     "output_type": "stream",
     "text": [
      "<method-wrapper '__hash__' of int object at 0x7fe9b9050250>\n",
      "<method-wrapper '__hash__' of int object at 0x7fe9b90502b0>\n"
     ]
    }
   ],
   "source": [
    "b = 15\n",
    "print(a.__hash__)\n",
    "print(b.__hash__)"
   ]
  },
  {
   "cell_type": "code",
   "execution_count": null,
   "id": "7bf4ef9a-2566-4492-ae3f-de702557f4d3",
   "metadata": {},
   "outputs": [],
   "source": []
  }
 ],
 "metadata": {
  "kernelspec": {
   "display_name": "Python 3 (ipykernel)",
   "language": "python",
   "name": "python3"
  },
  "language_info": {
   "codemirror_mode": {
    "name": "ipython",
    "version": 3
   },
   "file_extension": ".py",
   "mimetype": "text/x-python",
   "name": "python",
   "nbconvert_exporter": "python",
   "pygments_lexer": "ipython3",
   "version": "3.10.6"
  }
 },
 "nbformat": 4,
 "nbformat_minor": 5
}
