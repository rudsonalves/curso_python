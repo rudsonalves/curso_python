{
 "cells": [
  {
   "cell_type": "markdown",
   "id": "b103c39a-89ec-48d2-8549-58e1daab7158",
   "metadata": {},
   "source": [
    "# 11. Leitura e Gravação em Arquivos\n",
    "\n",
    "O processo de leitura e gravação em um arquivo acessa recursos do sistema e deve ser realizado com certos cuidados."
   ]
  },
  {
   "cell_type": "code",
   "execution_count": 1,
   "id": "2b5a642e-34b6-4136-8920-0c914d821429",
   "metadata": {
    "tags": []
   },
   "outputs": [],
   "source": [
    "valores = ('Ana', 28)"
   ]
  },
  {
   "cell_type": "code",
   "execution_count": 3,
   "id": "e8231a14-5013-42ad-9a1a-235f229b8467",
   "metadata": {
    "tags": []
   },
   "outputs": [
    {
     "name": "stdout",
     "output_type": "stream",
     "text": [
      "Ana 28\n"
     ]
    }
   ],
   "source": [
    "print(*valores)"
   ]
  },
  {
   "cell_type": "code",
   "execution_count": 4,
   "id": "6f79b589-ad5d-4a36-a493-b6a77b6eb6d8",
   "metadata": {
    "tags": []
   },
   "outputs": [
    {
     "name": "stdout",
     "output_type": "stream",
     "text": [
      "Ana 28\n"
     ]
    }
   ],
   "source": [
    "print(valores[0], valores[1])"
   ]
  },
  {
   "cell_type": "code",
   "execution_count": 6,
   "id": "f24eba3e-4c28-4355-b90b-2b7cedad12f0",
   "metadata": {
    "tags": []
   },
   "outputs": [
    {
     "name": "stdout",
     "output_type": "stream",
     "text": [
      "Ana possui 28 anos\n"
     ]
    }
   ],
   "source": [
    "print('{} possui {} anos'.format(*valores))"
   ]
  },
  {
   "cell_type": "markdown",
   "id": "76b38433",
   "metadata": {
    "tags": []
   },
   "source": [
    "## 11.1. Lendo Arquivo"
   ]
  },
  {
   "cell_type": "code",
   "execution_count": 76,
   "id": "d6aced6e-b970-4979-9125-f5903f535869",
   "metadata": {
    "tags": []
   },
   "outputs": [
    {
     "name": "stdout",
     "output_type": "stream",
     "text": [
      "Ana tem 28 anos\n",
      "Solange tem 25 anos\n",
      "Roberta tem 18 anos\n",
      "Carla tem 32 anos\n",
      "João tem 52 anos\n",
      "José tem 26 anos\n"
     ]
    }
   ],
   "source": [
    "file = open('pessoas.csv')\n",
    "\n",
    "data = file.read()\n",
    "file.close()\n",
    "\n",
    "# print(data)\n",
    "# print(data.splitlines())\n",
    "\n",
    "for line in data.splitlines()[1:]:\n",
    "    name, age = line.split(',')\n",
    "    print(f'{name} tem {age} anos')"
   ]
  },
  {
   "cell_type": "code",
   "execution_count": 50,
   "id": "ee27b59b-9d66-4de7-96a5-a82321a2b8d1",
   "metadata": {
    "tags": []
   },
   "outputs": [
    {
     "data": {
      "text/plain": [
       "'Olá    Mundo!'"
      ]
     },
     "execution_count": 50,
     "metadata": {},
     "output_type": "execute_result"
    }
   ],
   "source": [
    "# Método strip remover espaços à volta da string\n",
    "message = '  Olá    Mundo!   '\n",
    "message.strip()"
   ]
  },
  {
   "cell_type": "code",
   "execution_count": 49,
   "id": "bb7ee960-6c4f-4f6f-91c2-c12323ce8604",
   "metadata": {
    "tags": []
   },
   "outputs": [
    {
     "data": {
      "text/plain": [
       "'Olá Mundo'"
      ]
     },
     "execution_count": 49,
     "metadata": {},
     "output_type": "execute_result"
    }
   ],
   "source": [
    "message = '****  Olá Mundo ****'\n",
    "message.strip('*').strip()"
   ]
  },
  {
   "cell_type": "markdown",
   "id": "43a0b693-7f28-4b3d-8e0e-77e093830c19",
   "metadata": {
    "tags": []
   },
   "source": [
    "### 11.1.1. Modo Stream\n",
    "\n",
    "Leitura sequêncial de um arquivo."
   ]
  },
  {
   "cell_type": "code",
   "execution_count": 55,
   "id": "de74e330-4f6a-49d8-a4e9-24a69509bb7f",
   "metadata": {
    "tags": []
   },
   "outputs": [
    {
     "name": "stdout",
     "output_type": "stream",
     "text": [
      "Ana tem 28 anos\n",
      "Solange tem 25 anos\n",
      "Roberta tem 18 anos\n",
      "Carla tem 32 anos\n",
      "João tem 52 anos\n",
      "José tem 26 anos\n"
     ]
    }
   ],
   "source": [
    "# Modo Stream\n",
    "file = open('pessoas.csv')\n",
    "firstLine = True\n",
    "\n",
    "for record in file:\n",
    "    if firstLine:\n",
    "        firstLine = False\n",
    "        continue\n",
    "    print('{} tem {} anos'.format(*record.strip().split(',')))\n",
    "    \n",
    "file.close()"
   ]
  },
  {
   "cell_type": "markdown",
   "id": "4b503ba7-9ceb-4695-9f5e-fdf464ce2b33",
   "metadata": {},
   "source": [
    "No modo Stream o arquivo é lido por demanda enquanto que no primeiro código todo o arquivo deve ser lido para a memória.\n",
    "\n",
    "### 11.1.2. Testando Erros\n",
    "\n",
    "Sempre que se realiza uma ação sujeita a erro é de praxe empregar um bloco try-except, de sintaxe:\n",
    "\n",
    "```\n",
    "try:\n",
    "    <comandos_1>\n",
    "except [<error_type_1>]:\n",
    "    <comandos_2>\n",
    "except [<error_type_2>]:\n",
    "    <comandos_2>\n",
    ".\n",
    ".\n",
    ".\n",
    "finally:\n",
    "    <comandos_finally>\n",
    "```"
   ]
  },
  {
   "cell_type": "code",
   "execution_count": 77,
   "id": "216dda31-1bad-416c-852a-354bd91bb060",
   "metadata": {
    "tags": []
   },
   "outputs": [
    {
     "name": "stdout",
     "output_type": "stream",
     "text": [
      "Ana tem 28 anos\n",
      "Solange tem 25 anos\n",
      "Roberta tem 18 anos\n",
      "Carla tem 32 anos\n",
      "João tem 52 anos\n",
      "José tem 26 anos\n",
      "Fim!!!\n",
      "Arquivo fechado!\n"
     ]
    }
   ],
   "source": [
    "# Modo Stream\n",
    "\n",
    "try:\n",
    "    file = open('pessoas.csv')\n",
    "    firstLine = True\n",
    "\n",
    "    for record in file:\n",
    "        if firstLine:\n",
    "            firstLine = False\n",
    "            continue\n",
    "        print('{} tem {} anos'.format(*record.strip().split(',')))\n",
    "        \n",
    "except IndexError:\n",
    "    print('Erro na formatação!')\n",
    "finally:\n",
    "    file.close()\n",
    "    print('Fim!!!')\n",
    "    \n",
    "if file.closed:\n",
    "    print('Arquivo fechado!')"
   ]
  },
  {
   "cell_type": "markdown",
   "id": "ec4c8613-2cea-4dc3-94ad-d537df4cf3b5",
   "metadata": {},
   "source": [
    "### 11.1.3. Lendo Arquivo com um With"
   ]
  },
  {
   "cell_type": "code",
   "execution_count": 72,
   "id": "9889e0e8-de8f-4e77-8d17-29af7e07b38c",
   "metadata": {
    "tags": []
   },
   "outputs": [
    {
     "name": "stdout",
     "output_type": "stream",
     "text": [
      "Ana tem 28 anos\n",
      "Solange tem 25 anos\n",
      "Roberta tem 18 anos\n",
      "Carla tem 32 anos\n",
      "João tem 52 anos\n",
      "José tem 26 anos\n",
      "Arquivo já foi fechado!\n"
     ]
    }
   ],
   "source": [
    "# Modo Stream\n",
    "\n",
    "with open('pessoas.csv') as file:\n",
    "    firstLine = True\n",
    "\n",
    "    for record in file:\n",
    "        if firstLine:\n",
    "            firstLine = False\n",
    "            continue\n",
    "        print('{} tem {} anos'.format(*record.strip().split(',')))\n",
    "        \n",
    "if file.closed:\n",
    "    print('Arquivo já foi fechado!')"
   ]
  },
  {
   "cell_type": "markdown",
   "id": "ba9f281b-c701-48df-97c8-a233ea6bcb17",
   "metadata": {
    "tags": []
   },
   "source": [
    "## 11.2. Escrever Arquivo com With"
   ]
  },
  {
   "cell_type": "code",
   "execution_count": 85,
   "id": "011b91a0-f3ef-4ad6-a0f7-baa856dd299b",
   "metadata": {
    "tags": []
   },
   "outputs": [
    {
     "name": "stdout",
     "output_type": "stream",
     "text": [
      "Arquivo já foi fechado!\n"
     ]
    }
   ],
   "source": [
    "with open('pessoas.csv') as file:\n",
    "    with open('pessoas.txt', 'w') as outFile:\n",
    "        firstLine = True\n",
    "\n",
    "        for record in file:\n",
    "            if firstLine:\n",
    "                firstLine = False\n",
    "                continue\n",
    "            print('Nome: {}, Idade: {}'.format(*record.strip().split(',')), file = outFile)\n",
    "        \n",
    "if file.closed & outFile.closed:\n",
    "    print('Arquivos já foram fechado!')"
   ]
  },
  {
   "cell_type": "code",
   "execution_count": 83,
   "id": "000d7aea-4cf1-4041-9eaa-0df312c13765",
   "metadata": {
    "tags": []
   },
   "outputs": [
    {
     "name": "stdout",
     "output_type": "stream",
     "text": [
      "Help on built-in function print in module builtins:\n",
      "\n",
      "print(...)\n",
      "    print(value, ..., sep=' ', end='\\n', file=sys.stdout, flush=False)\n",
      "    \n",
      "    Prints the values to a stream, or to sys.stdout by default.\n",
      "    Optional keyword arguments:\n",
      "    file:  a file-like object (stream); defaults to the current sys.stdout.\n",
      "    sep:   string inserted between values, default a space.\n",
      "    end:   string appended after the last value, default a newline.\n",
      "    flush: whether to forcibly flush the stream.\n",
      "\n"
     ]
    }
   ],
   "source": [
    "help(print)"
   ]
  },
  {
   "cell_type": "code",
   "execution_count": 86,
   "id": "1070b6f4-33f5-4ff6-b906-ad89754da8eb",
   "metadata": {
    "tags": []
   },
   "outputs": [
    {
     "name": "stdout",
     "output_type": "stream",
     "text": [
      "Help on function open in module io:\n",
      "\n",
      "open(file, mode='r', buffering=-1, encoding=None, errors=None, newline=None, closefd=True, opener=None)\n",
      "    Open file and return a stream.  Raise OSError upon failure.\n",
      "    \n",
      "    file is either a text or byte string giving the name (and the path\n",
      "    if the file isn't in the current working directory) of the file to\n",
      "    be opened or an integer file descriptor of the file to be\n",
      "    wrapped. (If a file descriptor is given, it is closed when the\n",
      "    returned I/O object is closed, unless closefd is set to False.)\n",
      "    \n",
      "    mode is an optional string that specifies the mode in which the file\n",
      "    is opened. It defaults to 'r' which means open for reading in text\n",
      "    mode.  Other common values are 'w' for writing (truncating the file if\n",
      "    it already exists), 'x' for creating and writing to a new file, and\n",
      "    'a' for appending (which on some Unix systems, means that all writes\n",
      "    append to the end of the file regardless of the current seek position).\n",
      "    In text mode, if encoding is not specified the encoding used is platform\n",
      "    dependent: locale.getpreferredencoding(False) is called to get the\n",
      "    current locale encoding. (For reading and writing raw bytes use binary\n",
      "    mode and leave encoding unspecified.) The available modes are:\n",
      "    \n",
      "    ========= ===============================================================\n",
      "    Character Meaning\n",
      "    --------- ---------------------------------------------------------------\n",
      "    'r'       open for reading (default)\n",
      "    'w'       open for writing, truncating the file first\n",
      "    'x'       create a new file and open it for writing\n",
      "    'a'       open for writing, appending to the end of the file if it exists\n",
      "    'b'       binary mode\n",
      "    't'       text mode (default)\n",
      "    '+'       open a disk file for updating (reading and writing)\n",
      "    'U'       universal newline mode (deprecated)\n",
      "    ========= ===============================================================\n",
      "    \n",
      "    The default mode is 'rt' (open for reading text). For binary random\n",
      "    access, the mode 'w+b' opens and truncates the file to 0 bytes, while\n",
      "    'r+b' opens the file without truncation. The 'x' mode implies 'w' and\n",
      "    raises an `FileExistsError` if the file already exists.\n",
      "    \n",
      "    Python distinguishes between files opened in binary and text modes,\n",
      "    even when the underlying operating system doesn't. Files opened in\n",
      "    binary mode (appending 'b' to the mode argument) return contents as\n",
      "    bytes objects without any decoding. In text mode (the default, or when\n",
      "    't' is appended to the mode argument), the contents of the file are\n",
      "    returned as strings, the bytes having been first decoded using a\n",
      "    platform-dependent encoding or using the specified encoding if given.\n",
      "    \n",
      "    'U' mode is deprecated and will raise an exception in future versions\n",
      "    of Python.  It has no effect in Python 3.  Use newline to control\n",
      "    universal newlines mode.\n",
      "    \n",
      "    buffering is an optional integer used to set the buffering policy.\n",
      "    Pass 0 to switch buffering off (only allowed in binary mode), 1 to select\n",
      "    line buffering (only usable in text mode), and an integer > 1 to indicate\n",
      "    the size of a fixed-size chunk buffer.  When no buffering argument is\n",
      "    given, the default buffering policy works as follows:\n",
      "    \n",
      "    * Binary files are buffered in fixed-size chunks; the size of the buffer\n",
      "      is chosen using a heuristic trying to determine the underlying device's\n",
      "      \"block size\" and falling back on `io.DEFAULT_BUFFER_SIZE`.\n",
      "      On many systems, the buffer will typically be 4096 or 8192 bytes long.\n",
      "    \n",
      "    * \"Interactive\" text files (files for which isatty() returns True)\n",
      "      use line buffering.  Other text files use the policy described above\n",
      "      for binary files.\n",
      "    \n",
      "    encoding is the name of the encoding used to decode or encode the\n",
      "    file. This should only be used in text mode. The default encoding is\n",
      "    platform dependent, but any encoding supported by Python can be\n",
      "    passed.  See the codecs module for the list of supported encodings.\n",
      "    \n",
      "    errors is an optional string that specifies how encoding errors are to\n",
      "    be handled---this argument should not be used in binary mode. Pass\n",
      "    'strict' to raise a ValueError exception if there is an encoding error\n",
      "    (the default of None has the same effect), or pass 'ignore' to ignore\n",
      "    errors. (Note that ignoring encoding errors can lead to data loss.)\n",
      "    See the documentation for codecs.register or run 'help(codecs.Codec)'\n",
      "    for a list of the permitted encoding error strings.\n",
      "    \n",
      "    newline controls how universal newlines works (it only applies to text\n",
      "    mode). It can be None, '', '\\n', '\\r', and '\\r\\n'.  It works as\n",
      "    follows:\n",
      "    \n",
      "    * On input, if newline is None, universal newlines mode is\n",
      "      enabled. Lines in the input can end in '\\n', '\\r', or '\\r\\n', and\n",
      "      these are translated into '\\n' before being returned to the\n",
      "      caller. If it is '', universal newline mode is enabled, but line\n",
      "      endings are returned to the caller untranslated. If it has any of\n",
      "      the other legal values, input lines are only terminated by the given\n",
      "      string, and the line ending is returned to the caller untranslated.\n",
      "    \n",
      "    * On output, if newline is None, any '\\n' characters written are\n",
      "      translated to the system default line separator, os.linesep. If\n",
      "      newline is '' or '\\n', no translation takes place. If newline is any\n",
      "      of the other legal values, any '\\n' characters written are translated\n",
      "      to the given string.\n",
      "    \n",
      "    If closefd is False, the underlying file descriptor will be kept open\n",
      "    when the file is closed. This does not work when a file name is given\n",
      "    and must be True in that case.\n",
      "    \n",
      "    A custom opener can be used by passing a callable as *opener*. The\n",
      "    underlying file descriptor for the file object is then obtained by\n",
      "    calling *opener* with (*file*, *flags*). *opener* must return an open\n",
      "    file descriptor (passing os.open as *opener* results in functionality\n",
      "    similar to passing None).\n",
      "    \n",
      "    open() returns a file object whose type depends on the mode, and\n",
      "    through which the standard file operations such as reading and writing\n",
      "    are performed. When open() is used to open a file in a text mode ('w',\n",
      "    'r', 'wt', 'rt', etc.), it returns a TextIOWrapper. When used to open\n",
      "    a file in a binary mode, the returned class varies: in read binary\n",
      "    mode, it returns a BufferedReader; in write binary and append binary\n",
      "    modes, it returns a BufferedWriter, and in read/write mode, it returns\n",
      "    a BufferedRandom.\n",
      "    \n",
      "    It is also possible to use a string or bytearray as a file for both\n",
      "    reading and writing. For strings StringIO can be used like a file\n",
      "    opened in a text mode, and for bytes a BytesIO can be used like a file\n",
      "    opened in a binary mode.\n",
      "\n"
     ]
    }
   ],
   "source": [
    "help(open)"
   ]
  },
  {
   "cell_type": "code",
   "execution_count": null,
   "id": "28b2c819-a215-44e8-8f03-68c00e88fcd6",
   "metadata": {},
   "outputs": [],
   "source": []
  }
 ],
 "metadata": {
  "kernelspec": {
   "display_name": "Python 3 (ipykernel)",
   "language": "python",
   "name": "python3"
  },
  "language_info": {
   "codemirror_mode": {
    "name": "ipython",
    "version": 3
   },
   "file_extension": ".py",
   "mimetype": "text/x-python",
   "name": "python",
   "nbconvert_exporter": "python",
   "pygments_lexer": "ipython3",
   "version": "3.10.6"
  }
 },
 "nbformat": 4,
 "nbformat_minor": 5
}
