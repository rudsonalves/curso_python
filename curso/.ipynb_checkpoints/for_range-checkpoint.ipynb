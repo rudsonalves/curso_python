{
 "cells": [
  {
   "cell_type": "markdown",
   "id": "c2a60364",
   "metadata": {},
   "source": [
    "# For - range\n",
    "\n",
    "class range(object)\n",
    " |  range(stop) -> range object\n",
    " |  range(start, stop[, step]) -> range object\n",
    " |  \n",
    " |  Return an object that produces a sequence of integers from start (inclusive)\n",
    " |  to stop (exclusive) by step.  range(i, j) produces i, i+1, i+2, ..., j-1.\n",
    " |  start defaults to 0, and stop is omitted!  range(4) produces 0, 1, 2, 3.\n",
    " |  These are exactly the valid indices for a list of 4 elements.\n",
    " |  When step is given, it specifies the increment (or decrement)."
   ]
  },
  {
   "cell_type": "code",
   "execution_count": 6,
   "id": "c7c86864",
   "metadata": {},
   "outputs": [],
   "source": [
    "import random"
   ]
  },
  {
   "cell_type": "code",
   "execution_count": 16,
   "id": "4b0db633",
   "metadata": {},
   "outputs": [
    {
     "name": "stdout",
     "output_type": "stream",
     "text": [
      "[2, 2, 1, 4]\n",
      "1\n",
      "8\n"
     ]
    }
   ],
   "source": [
    "\n",
    "def dice6():\n",
    "    return random.randint(1, 6)\n",
    "\n",
    "d6 = []\n",
    "\n",
    "for i in range(4):\n",
    "    d6.append(dice6())\n",
    "\n",
    "min = 99\n",
    "sum = 0\n",
    "for dice in d6:\n",
    "    sum += dice\n",
    "    if min > dice:\n",
    "        min = dice\n",
    "\n",
    "print(d6)\n",
    "print(min)\n",
    "print(sum - min)"
   ]
  },
  {
   "cell_type": "code",
   "execution_count": 17,
   "id": "34fc67f3",
   "metadata": {},
   "outputs": [],
   "source": [
    "#2. Deve retornar uma lista com as 6 estatíticas\n",
    "\n",
    "person = [12,5,3,6,7,8]"
   ]
  },
  {
   "cell_type": "code",
   "execution_count": 35,
   "id": "d6fb71a0",
   "metadata": {},
   "outputs": [],
   "source": [
    "def faixaEtaria(idade):\n",
    "    if 0 < idade < 18:\n",
    "        return 'Menor de idade'\n",
    "    elif idade in range(18, 65):\n",
    "        return 'Idade produtiva'\n",
    "    elif idade in range(65, 100):\n",
    "        return 'Hora de aposentar'\n",
    "    elif idade > 99:\n",
    "        return 'Centenário'\n",
    "    else:\n",
    "        return 'Idade indevida'"
   ]
  },
  {
   "cell_type": "code",
   "execution_count": 36,
   "id": "9410ea55",
   "metadata": {},
   "outputs": [
    {
     "data": {
      "text/plain": [
       "'Idade indevida'"
      ]
     },
     "execution_count": 36,
     "metadata": {},
     "output_type": "execute_result"
    }
   ],
   "source": [
    "faixaEtaria(-3)"
   ]
  },
  {
   "cell_type": "code",
   "execution_count": 31,
   "id": "82954756",
   "metadata": {},
   "outputs": [
    {
     "data": {
      "text/plain": [
       "'Hora de aposentar'"
      ]
     },
     "execution_count": 31,
     "metadata": {},
     "output_type": "execute_result"
    }
   ],
   "source": [
    "faixaEtaria(66)"
   ]
  },
  {
   "cell_type": "code",
   "execution_count": 25,
   "id": "454dee3a",
   "metadata": {},
   "outputs": [
    {
     "data": {
      "text/plain": [
       "'Idade indevida'"
      ]
     },
     "execution_count": 25,
     "metadata": {},
     "output_type": "execute_result"
    }
   ],
   "source": [
    "faixaEtaria(64)"
   ]
  },
  {
   "cell_type": "code",
   "execution_count": 26,
   "id": "f9b9dd91",
   "metadata": {},
   "outputs": [],
   "source": [
    "def faixaEtaria(idade):\n",
    "    if 0 < idade < 18:\n",
    "        return 'Menor de idade'\n",
    "    elif idade <= 65:\n",
    "        return 'Idade produtiva'\n",
    "    elif idade < 100:\n",
    "        return 'Hora de aposentar'\n",
    "    elif idade >= 100 :\n",
    "        return 'Centenário'\n",
    "    else:\n",
    "        return 'Idade indevida'"
   ]
  },
  {
   "cell_type": "code",
   "execution_count": 34,
   "id": "a61d8b79",
   "metadata": {},
   "outputs": [
    {
     "data": {
      "text/plain": [
       "'Idade produtiva'"
      ]
     },
     "execution_count": 34,
     "metadata": {},
     "output_type": "execute_result"
    }
   ],
   "source": [
    "faixaEtaria(-3)"
   ]
  },
  {
   "cell_type": "code",
   "execution_count": null,
   "id": "58673d08",
   "metadata": {},
   "outputs": [],
   "source": []
  }
 ],
 "metadata": {
  "kernelspec": {
   "display_name": "Python 3 (ipykernel)",
   "language": "python",
   "name": "python3"
  },
  "language_info": {
   "codemirror_mode": {
    "name": "ipython",
    "version": 3
   },
   "file_extension": ".py",
   "mimetype": "text/x-python",
   "name": "python",
   "nbconvert_exporter": "python",
   "pygments_lexer": "ipython3",
   "version": "3.10.6"
  }
 },
 "nbformat": 4,
 "nbformat_minor": 5
}
