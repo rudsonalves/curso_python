{
 "cells": [
  {
   "cell_type": "markdown",
   "id": "9e0de9da-80ec-4ae1-9f77-3d2d0acbc21e",
   "metadata": {},
   "source": [
    "# 8. If - elif - else\n",
    "\n",
    "```\n",
    "#!/bin/python3\n",
    "#\n",
    "\n",
    "def conversorNotas(nota):\n",
    "    if nota > 10:\n",
    "        return 'Nota inválida!'\n",
    "    elif nota > 8.4:\n",
    "        return 'A'\n",
    "    elif nota > 7.4:\n",
    "        return 'B'\n",
    "    elif nota > 4.9:\n",
    "        return 'C'\n",
    "    elif nota > 2.9:\n",
    "        return 'D'\n",
    "    else:\n",
    "        return 'F'\n",
    "\n",
    "\n",
    "if __name__ == '__main__':\n",
    "    strOut = 'Nota {} => {}'\n",
    "\n",
    "    notas = [2.3, 4.5, 6.5, 7.5, 8.5, 9.5, 11.0]\n",
    "\n",
    "    for nota in notas:\n",
    "        print(strOut.format(nota, conversorNotas(nota)))\n",
    "    \n",
    "```\n",
    "\n",
    "Usando o range:"
   ]
  },
  {
   "cell_type": "code",
   "execution_count": 1,
   "id": "acb95d7d-08e2-4134-a2af-e03e76a8f4bf",
   "metadata": {
    "tags": []
   },
   "outputs": [],
   "source": [
    "a = range(10)"
   ]
  },
  {
   "cell_type": "code",
   "execution_count": 2,
   "id": "ed591318-a657-46c3-8ad8-e9e6b20b7615",
   "metadata": {
    "tags": []
   },
   "outputs": [
    {
     "data": {
      "text/plain": [
       "range"
      ]
     },
     "execution_count": 2,
     "metadata": {},
     "output_type": "execute_result"
    }
   ],
   "source": [
    "type(a)"
   ]
  },
  {
   "cell_type": "code",
   "execution_count": 3,
   "id": "ad78cc60-fd27-447d-8b58-163f08eaa818",
   "metadata": {
    "tags": []
   },
   "outputs": [
    {
     "name": "stdout",
     "output_type": "stream",
     "text": [
      "range(0, 10)\n"
     ]
    }
   ],
   "source": [
    "print(a)"
   ]
  },
  {
   "cell_type": "code",
   "execution_count": 4,
   "id": "4e8f9a3d-5505-4e80-a380-c57abe363403",
   "metadata": {
    "tags": []
   },
   "outputs": [
    {
     "name": "stdout",
     "output_type": "stream",
     "text": [
      "Help on class range in module builtins:\n",
      "\n",
      "class range(object)\n",
      " |  range(stop) -> range object\n",
      " |  range(start, stop[, step]) -> range object\n",
      " |  \n",
      " |  Return an object that produces a sequence of integers from start (inclusive)\n",
      " |  to stop (exclusive) by step.  range(i, j) produces i, i+1, i+2, ..., j-1.\n",
      " |  start defaults to 0, and stop is omitted!  range(4) produces 0, 1, 2, 3.\n",
      " |  These are exactly the valid indices for a list of 4 elements.\n",
      " |  When step is given, it specifies the increment (or decrement).\n",
      " |  \n",
      " |  Methods defined here:\n",
      " |  \n",
      " |  __bool__(self, /)\n",
      " |      True if self else False\n",
      " |  \n",
      " |  __contains__(self, key, /)\n",
      " |      Return key in self.\n",
      " |  \n",
      " |  __eq__(self, value, /)\n",
      " |      Return self==value.\n",
      " |  \n",
      " |  __ge__(self, value, /)\n",
      " |      Return self>=value.\n",
      " |  \n",
      " |  __getattribute__(self, name, /)\n",
      " |      Return getattr(self, name).\n",
      " |  \n",
      " |  __getitem__(self, key, /)\n",
      " |      Return self[key].\n",
      " |  \n",
      " |  __gt__(self, value, /)\n",
      " |      Return self>value.\n",
      " |  \n",
      " |  __hash__(self, /)\n",
      " |      Return hash(self).\n",
      " |  \n",
      " |  __iter__(self, /)\n",
      " |      Implement iter(self).\n",
      " |  \n",
      " |  __le__(self, value, /)\n",
      " |      Return self<=value.\n",
      " |  \n",
      " |  __len__(self, /)\n",
      " |      Return len(self).\n",
      " |  \n",
      " |  __lt__(self, value, /)\n",
      " |      Return self<value.\n",
      " |  \n",
      " |  __ne__(self, value, /)\n",
      " |      Return self!=value.\n",
      " |  \n",
      " |  __reduce__(...)\n",
      " |      Helper for pickle.\n",
      " |  \n",
      " |  __repr__(self, /)\n",
      " |      Return repr(self).\n",
      " |  \n",
      " |  __reversed__(...)\n",
      " |      Return a reverse iterator.\n",
      " |  \n",
      " |  count(...)\n",
      " |      rangeobject.count(value) -> integer -- return number of occurrences of value\n",
      " |  \n",
      " |  index(...)\n",
      " |      rangeobject.index(value) -> integer -- return index of value.\n",
      " |      Raise ValueError if the value is not present.\n",
      " |  \n",
      " |  ----------------------------------------------------------------------\n",
      " |  Static methods defined here:\n",
      " |  \n",
      " |  __new__(*args, **kwargs) from builtins.type\n",
      " |      Create and return a new object.  See help(type) for accurate signature.\n",
      " |  \n",
      " |  ----------------------------------------------------------------------\n",
      " |  Data descriptors defined here:\n",
      " |  \n",
      " |  start\n",
      " |  \n",
      " |  step\n",
      " |  \n",
      " |  stop\n",
      "\n"
     ]
    }
   ],
   "source": [
    "help(range)"
   ]
  },
  {
   "cell_type": "code",
   "execution_count": 5,
   "id": "663382bc-6135-4bad-a497-a476a183dba4",
   "metadata": {
    "tags": []
   },
   "outputs": [
    {
     "data": {
      "text/plain": [
       "True"
      ]
     },
     "execution_count": 5,
     "metadata": {},
     "output_type": "execute_result"
    }
   ],
   "source": [
    "1 in range(10)"
   ]
  },
  {
   "cell_type": "code",
   "execution_count": 6,
   "id": "5be778ee-6884-47d0-b1b6-9d2fee123049",
   "metadata": {
    "tags": []
   },
   "outputs": [
    {
     "data": {
      "text/plain": [
       "True"
      ]
     },
     "execution_count": 6,
     "metadata": {},
     "output_type": "execute_result"
    }
   ],
   "source": [
    "0 in range(10)"
   ]
  },
  {
   "cell_type": "code",
   "execution_count": 7,
   "id": "673a58a7-5292-47ca-8fe3-38c7c8fad896",
   "metadata": {
    "tags": []
   },
   "outputs": [
    {
     "data": {
      "text/plain": [
       "False"
      ]
     },
     "execution_count": 7,
     "metadata": {},
     "output_type": "execute_result"
    }
   ],
   "source": [
    "10 in range(10)"
   ]
  },
  {
   "cell_type": "code",
   "execution_count": 8,
   "id": "f8abb275-0465-4b4b-8463-22afdecebc3d",
   "metadata": {
    "tags": []
   },
   "outputs": [
    {
     "data": {
      "text/plain": [
       "True"
      ]
     },
     "execution_count": 8,
     "metadata": {},
     "output_type": "execute_result"
    }
   ],
   "source": [
    "9 in range(10)"
   ]
  },
  {
   "cell_type": "code",
   "execution_count": 11,
   "id": "b7bd769f-f847-40cf-a7f6-eaa0b8cc1c3a",
   "metadata": {
    "tags": []
   },
   "outputs": [
    {
     "data": {
      "text/plain": [
       "False"
      ]
     },
     "execution_count": 11,
     "metadata": {},
     "output_type": "execute_result"
    }
   ],
   "source": [
    "5.5 in range(10)"
   ]
  },
  {
   "cell_type": "markdown",
   "id": "f4f0d2ed-ac21-4a8e-9632-0d8c40299325",
   "metadata": {},
   "source": [
    "o range(10) vai gerar os valores 0, 1, 2, 3, 4, 5, 6, 7, 8 e 9, e não gera fraçoes. Por isto 5.5 não está contido no range(10.\n",
    "\n",
    "O range suporta apenas números inteiros como parâmetros."
   ]
  },
  {
   "cell_type": "code",
   "execution_count": 17,
   "id": "2b5c1607-e7b8-459d-8aa1-b64cbb4cd2f3",
   "metadata": {
    "tags": []
   },
   "outputs": [
    {
     "ename": "TypeError",
     "evalue": "'float' object cannot be interpreted as an integer",
     "output_type": "error",
     "traceback": [
      "\u001b[0;31m---------------------------------------------------------------------------\u001b[0m",
      "\u001b[0;31mTypeError\u001b[0m                                 Traceback (most recent call last)",
      "Cell \u001b[0;32mIn[17], line 1\u001b[0m\n\u001b[0;32m----> 1\u001b[0m \u001b[38;5;28;43mrange\u001b[39;49m\u001b[43m(\u001b[49m\u001b[38;5;241;43m0\u001b[39;49m\u001b[43m,\u001b[49m\u001b[43m \u001b[49m\u001b[38;5;241;43m1\u001b[39;49m\u001b[43m,\u001b[49m\u001b[43m \u001b[49m\u001b[38;5;241;43m0.1\u001b[39;49m\u001b[43m)\u001b[49m\n",
      "\u001b[0;31mTypeError\u001b[0m: 'float' object cannot be interpreted as an integer"
     ]
    }
   ],
   "source": [
    "range(0, 1, 0.1)"
   ]
  },
  {
   "cell_type": "markdown",
   "id": "51d866b4-9b22-4039-8e1e-e8865c90028e",
   "metadata": {},
   "source": [
    "##### Exemplo:\n",
    "\n",
    "``` \n",
    "#!/bin/python3\n",
    "#\n",
    "\n",
    "def faixaEtaria(idade):\n",
    "    if 0 <= idade < 18:\n",
    "        return 'Menor de Idade'\n",
    "    elif idade in range(18, 65):\n",
    "        return 'Adulto'\n",
    "    elif idade in range(65, 100):\n",
    "        return 'Melhor Idade'\n",
    "    elif idade > 100:\n",
    "        return 'Centenário'\n",
    "    else:\n",
    "        return 'Idade Inválida'\n",
    "\n",
    "\n",
    "if __name__ == '__main__':\n",
    "    idades = [-4, 2, 5, 18, 45, 67, 102]\n",
    "\n",
    "    strOut = 'Idade de {} anos é {}.'\n",
    "    for idade in idades:\n",
    "        print(strOut.format(idade, faixaEtaria(idade)))\n",
    "\n",
    "\n",
    "```"
   ]
  },
  {
   "cell_type": "code",
   "execution_count": null,
   "id": "496e46df-412c-4db4-be5b-81ae69166144",
   "metadata": {},
   "outputs": [],
   "source": []
  }
 ],
 "metadata": {
  "kernelspec": {
   "display_name": "Python 3 (ipykernel)",
   "language": "python",
   "name": "python3"
  },
  "language_info": {
   "codemirror_mode": {
    "name": "ipython",
    "version": 3
   },
   "file_extension": ".py",
   "mimetype": "text/x-python",
   "name": "python",
   "nbconvert_exporter": "python",
   "pygments_lexer": "ipython3",
   "version": "3.10.6"
  }
 },
 "nbformat": 4,
 "nbformat_minor": 5
}
