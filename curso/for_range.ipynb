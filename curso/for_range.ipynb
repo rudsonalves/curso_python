{
 "cells": [
  {
   "cell_type": "markdown",
   "id": "19fca67a",
   "metadata": {},
   "source": [
    "# For - range\n",
    "\n",
    "class range(object)\n",
    " |  range(stop) -> range object\n",
    " |  range(start, stop[, step]) -> range object\n",
    " |  \n",
    " |  Return an object that produces a sequence of integers from start (inclusive)\n",
    " |  to stop (exclusive) by step.  range(i, j) produces i, i+1, i+2, ..., j-1.\n",
    " |  start defaults to 0, and stop is omitted!  range(4) produces 0, 1, 2, 3.\n",
    " |  These are exactly the valid indices for a list of 4 elements.\n",
    " |  When step is given, it specifies the increment (or decrement)."
   ]
  },
  {
   "cell_type": "code",
   "execution_count": 6,
   "id": "230e35f4",
   "metadata": {},
   "outputs": [],
   "source": [
    "import random"
   ]
  },
  {
   "cell_type": "code",
   "execution_count": 16,
   "id": "9da8aa80",
   "metadata": {},
   "outputs": [
    {
     "name": "stdout",
     "output_type": "stream",
     "text": [
      "[2, 2, 1, 4]\n",
      "1\n",
      "8\n"
     ]
    }
   ],
   "source": [
    "\n",
    "def dice6():\n",
    "    return random.randint(1, 6)\n",
    "\n",
    "d6 = []\n",
    "\n",
    "for i in range(4):\n",
    "    d6.append(dice6())\n",
    "\n",
    "min = 99\n",
    "sum = 0\n",
    "for dice in d6:\n",
    "    sum += dice\n",
    "    if min > dice:\n",
    "        min = dice\n",
    "\n",
    "print(d6)\n",
    "print(min)\n",
    "print(sum - min)"
   ]
  },
  {
   "cell_type": "code",
   "execution_count": 17,
   "id": "3cca5228",
   "metadata": {},
   "outputs": [],
   "source": [
    "#2. Deve retornar uma lista com as 6 estatíticas\n",
    "\n",
    "person = [12,5,3,6,7,8]"
   ]
  },
  {
   "cell_type": "code",
   "execution_count": null,
   "id": "66ed8f76",
   "metadata": {},
   "outputs": [],
   "source": [
    "printPerson(person)"
   ]
  }
 ],
 "metadata": {
  "kernelspec": {
   "display_name": "Python 3 (ipykernel)",
   "language": "python",
   "name": "python3"
  },
  "language_info": {
   "codemirror_mode": {
    "name": "ipython",
    "version": 3
   },
   "file_extension": ".py",
   "mimetype": "text/x-python",
   "name": "python",
   "nbconvert_exporter": "python",
   "pygments_lexer": "ipython3",
   "version": "3.10.6"
  }
 },
 "nbformat": 4,
 "nbformat_minor": 5
}
