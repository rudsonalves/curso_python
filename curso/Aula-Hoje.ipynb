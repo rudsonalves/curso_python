{
 "cells": [
  {
   "cell_type": "markdown",
   "id": "312255d7",
   "metadata": {},
   "source": [
    "# 10 - Match - Case\n",
    "\n",
    "A partir do python 3.10 foi adicionado mais uma estrutura de controle no python, o match-case. Este funciona como o switch-case de outras linguagens."
   ]
  },
  {
   "cell_type": "code",
   "execution_count": 20,
   "id": "01fc59e8",
   "metadata": {},
   "outputs": [],
   "source": [
    "def diaDaSemanaIf(d):\n",
    "    if d == 1:\n",
    "        return 'Domingo'\n",
    "    elif d == 2:\n",
    "        return 'Segunda'\n",
    "    elif d == 3:\n",
    "        return 'Terça'\n",
    "    elif d == 4:\n",
    "        return 'Quarta'\n",
    "    elif d == 5:\n",
    "        return 'Quinta'\n",
    "    elif d == 6:\n",
    "        return 'Sexta'\n",
    "    elif d == 7:\n",
    "        return 'Sábado'\n",
    "    else:\n",
    "        return 'Dia indefinido!'"
   ]
  },
  {
   "cell_type": "code",
   "execution_count": 21,
   "id": "332c4bfc",
   "metadata": {},
   "outputs": [
    {
     "name": "stdout",
     "output_type": "stream",
     "text": [
      "0 Dia indefinido!\n",
      "1 Domingo\n",
      "2 Segunda\n",
      "3 Terça\n",
      "4 Quarta\n",
      "5 Quinta\n",
      "6 Sexta\n",
      "7 Sábado\n",
      "8 Dia indefinido!\n",
      "9 Dia indefinido!\n"
     ]
    }
   ],
   "source": [
    "for d in range(10):\n",
    "    print(d, diaDaSemanaIf(d))"
   ]
  },
  {
   "cell_type": "code",
   "execution_count": 22,
   "id": "314dcde6",
   "metadata": {},
   "outputs": [],
   "source": [
    "def diaDaSemanaMatch(d):\n",
    "    match d:\n",
    "        case 1:\n",
    "            return 'Domingo'\n",
    "        case 2:\n",
    "            return 'Segunda'\n",
    "        case 3:\n",
    "            return 'Terça'\n",
    "        case 4:\n",
    "            return 'Quarta'\n",
    "        case 5:\n",
    "            return 'Quinta'\n",
    "        case 6:\n",
    "            return 'Sexta'\n",
    "        case 7:\n",
    "            return 'Sábado'\n",
    "        case _:\n",
    "            return 'Dia indefinido!'"
   ]
  },
  {
   "cell_type": "code",
   "execution_count": 23,
   "id": "81ae3cbf",
   "metadata": {},
   "outputs": [
    {
     "name": "stdout",
     "output_type": "stream",
     "text": [
      "0 Dia indefinido!\n",
      "1 Domingo\n",
      "2 Segunda\n",
      "3 Terça\n",
      "4 Quarta\n",
      "5 Quinta\n",
      "6 Sexta\n",
      "7 Sábado\n",
      "8 Dia indefinido!\n",
      "9 Dia indefinido!\n"
     ]
    }
   ],
   "source": [
    "for d in range(10):\n",
    "    print(d, diaDaSemanaMatch(d))"
   ]
  },
  {
   "cell_type": "code",
   "execution_count": 12,
   "id": "5c06ebd8",
   "metadata": {},
   "outputs": [],
   "source": [
    "def diaDeTrabalho(d):\n",
    "    match d:\n",
    "        case 1 | 7:\n",
    "            return 'fim de semana'\n",
    "        case 2 | 3 | 4 | 5 | 6:\n",
    "            return 'dia de trabalho'\n",
    "        case _:\n",
    "            return 'dia indefinido!'"
   ]
  },
  {
   "cell_type": "code",
   "execution_count": 13,
   "id": "9cd09891",
   "metadata": {},
   "outputs": [
    {
     "name": "stdout",
     "output_type": "stream",
     "text": [
      "0 dia indefinido!\n",
      "1 fim de semana\n",
      "2 dia de trabalho\n",
      "3 dia de trabalho\n",
      "4 dia de trabalho\n",
      "5 dia de trabalho\n",
      "6 dia de trabalho\n",
      "7 fim de semana\n",
      "8 dia indefinido!\n",
      "9 dia indefinido!\n"
     ]
    }
   ],
   "source": [
    "for d in range(10):\n",
    "    print(d, diaDeTrabalho(d))"
   ]
  },
  {
   "cell_type": "markdown",
   "id": "6295eaf8",
   "metadata": {},
   "source": [
    "Ou seja, um match-case pode sim ser feito sentenças if. Mas, afinal qual a vantagem de se usar uma match-case?\n",
    "\n",
    " - **Desempenho:** Geralmente é menor que o dos if;\n",
    " - somente aceita argumentos explícitos;\n",
    " - **Legibilidade:** Legibilidade é o principal motivo para o uso do switch-case na maioria das linguagens e não esperaria algo diferente no python."
   ]
  },
  {
   "cell_type": "markdown",
   "id": "2e0402d1",
   "metadata": {},
   "source": [
    "## 10.1. Comparando o desempenho do match-case x if"
   ]
  },
  {
   "cell_type": "code",
   "execution_count": 26,
   "id": "8c03dda7",
   "metadata": {},
   "outputs": [
    {
     "name": "stdout",
     "output_type": "stream",
     "text": [
      "diaDaSemanaIf: 3.0322675704956055\n",
      "diaDaSemanaMatch: 2.9798927307128906\n"
     ]
    }
   ],
   "source": [
    "import time\n",
    "\n",
    "start = time.time()\n",
    "for i in range(30000000):\n",
    "#     d = i % 9\n",
    "    x = diaDaSemanaIf(d)\n",
    "end = time.time()\n",
    "\n",
    "print('diaDaSemanaIf:', (end-start))\n",
    "\n",
    "start = time.time()\n",
    "for i in range(30000000):\n",
    "#     d = i % 9\n",
    "    x = diaDaSemanaMatch(d)\n",
    "end = time.time()\n",
    "\n",
    "print('diaDaSemanaMatch:', (end-start))"
   ]
  },
  {
   "cell_type": "code",
   "execution_count": 28,
   "id": "f5d46d78",
   "metadata": {},
   "outputs": [
    {
     "data": {
      "text/plain": [
       "True"
      ]
     },
     "execution_count": 28,
     "metadata": {},
     "output_type": "execute_result"
    }
   ],
   "source": [
    "d in range(1,10)"
   ]
  },
  {
   "cell_type": "code",
   "execution_count": 30,
   "id": "f507f7f9",
   "metadata": {},
   "outputs": [
    {
     "data": {
      "text/plain": [
       "True"
      ]
     },
     "execution_count": 30,
     "metadata": {},
     "output_type": "execute_result"
    }
   ],
   "source": [
    "Lista = [1,2,3,4,5,6]\n",
    "5 in Lista"
   ]
  },
  {
   "cell_type": "markdown",
   "id": "6848d761",
   "metadata": {},
   "source": [
    "# 11. Leitura e Escrita em Arquivos\n",
    "\n",
    "O processo de leitura e gravação em um arquivo acessa recursos do sistema e deve ser realizado com certos cuidados.\n",
    "\n",
    "Sempre se deve ater a fechar um arquivo aberto, quando este não for mais necessário.\n",
    "\n",
    "Antes um pequeno detalhe:"
   ]
  },
  {
   "cell_type": "code",
   "execution_count": 31,
   "id": "74d05088",
   "metadata": {},
   "outputs": [],
   "source": [
    "valores = ('Ana', 26)"
   ]
  },
  {
   "cell_type": "code",
   "execution_count": 34,
   "id": "3de1970c",
   "metadata": {},
   "outputs": [
    {
     "name": "stdout",
     "output_type": "stream",
     "text": [
      "Ana possui 26 anos\n"
     ]
    }
   ],
   "source": [
    "print('{} possui {} anos'.format(valores[0], valores[1]))"
   ]
  },
  {
   "cell_type": "code",
   "execution_count": 35,
   "id": "5225aab5",
   "metadata": {},
   "outputs": [
    {
     "name": "stdout",
     "output_type": "stream",
     "text": [
      "('Ana', 26)\n"
     ]
    }
   ],
   "source": [
    "print(valores) # imprime a tupla"
   ]
  },
  {
   "cell_type": "code",
   "execution_count": 37,
   "id": "7dfa561f",
   "metadata": {},
   "outputs": [
    {
     "name": "stdout",
     "output_type": "stream",
     "text": [
      "Ana 26\n"
     ]
    }
   ],
   "source": [
    "print(valores[0], valores[1]) # imprime os valores da tupla"
   ]
  },
  {
   "cell_type": "code",
   "execution_count": 38,
   "id": "7bd956db",
   "metadata": {},
   "outputs": [
    {
     "name": "stdout",
     "output_type": "stream",
     "text": [
      "Ana 26\n"
     ]
    }
   ],
   "source": [
    "print(*valores) # desempacotar o conteúdo da tupla/lista/set/..."
   ]
  },
  {
   "cell_type": "code",
   "execution_count": 39,
   "id": "d9ee8e9b",
   "metadata": {},
   "outputs": [
    {
     "name": "stdout",
     "output_type": "stream",
     "text": [
      "Ana possui 26 anos\n"
     ]
    }
   ],
   "source": [
    "print('{} possui {} anos'.format(*valores))"
   ]
  },
  {
   "cell_type": "markdown",
   "id": "f86256d8",
   "metadata": {},
   "source": [
    "## 11.1. Arquivos CSV\n",
    "\n",
    "Arquivos csv são tabelas de valores como\n",
    "```\n",
    "Nome   Idade  Peso\n",
    "Ana     23    54.3\n",
    "Pedro   34    84.5\n",
    "...\n",
    "```\n",
    "\n",
    "Arquivo CSV destes dados seria algo como\n",
    "\n",
    "```\n",
    "Nome,Idade,Peso\n",
    "Ana,23,54.3\n",
    "Pedro,34,84.5\n",
    "...\n",
    "```"
   ]
  },
  {
   "cell_type": "markdown",
   "id": "7a92cadd",
   "metadata": {},
   "source": [
    "## 11.2. Ler um Arquivo\n",
    "\n",
    "Help on function open in module io:\n",
    "\n",
    "open(file, mode='r', buffering=-1, encoding=None, errors=None, newline=None, closefd=True, opener=None)\n",
    "    Open file and return a stream.  Raise OSError upon failure.\n",
    "    \n",
    "    file is either a text or byte string giving the name (and the path\n",
    "    if the file isn't in the current working directory) of the file to\n",
    "    be opened or an integer file descriptor of the file to be\n",
    "    wrapped. (If a file descriptor is given, it is closed when the\n",
    "    returned I/O object is closed, unless closefd is set to False.)\n",
    "    ..."
   ]
  },
  {
   "cell_type": "code",
   "execution_count": 61,
   "id": "e0af85bd",
   "metadata": {},
   "outputs": [
    {
     "name": "stdout",
     "output_type": "stream",
     "text": [
      "Nome,Idade\n",
      "Ana,28\n",
      "Solange,25\n",
      "Roberta,18\n",
      "Carla,32\n",
      "João,52\n",
      "José,26\n"
     ]
    }
   ],
   "source": [
    "file = open('pessoas.csv')\n",
    "data = file.read()\n",
    "file.close()\n",
    "\n",
    "print(data)"
   ]
  },
  {
   "cell_type": "code",
   "execution_count": 50,
   "id": "d4383229",
   "metadata": {},
   "outputs": [
    {
     "name": "stdout",
     "output_type": "stream",
     "text": [
      "Ana possui 28 anos\n",
      "Solange possui 25 anos\n",
      "Roberta possui 18 anos\n",
      "Carla possui 32 anos\n",
      "João possui 52 anos\n",
      "José possui 26 anos\n"
     ]
    }
   ],
   "source": [
    "file = open('pessoas.csv')\n",
    "data = file.read()\n",
    "file.close()\n",
    "\n",
    "# print(data.splitlines())\n",
    "\n",
    "firstLine = True\n",
    "lines = data.splitlines()\n",
    "\n",
    "for line in lines:\n",
    "    if firstLine:\n",
    "        firstLine = False\n",
    "        continue\n",
    "        \n",
    "    name, age = line.split(',')\n",
    "    print(f'{name} possui {age} anos')"
   ]
  },
  {
   "cell_type": "code",
   "execution_count": 53,
   "id": "bc67c769",
   "metadata": {},
   "outputs": [
    {
     "name": "stdout",
     "output_type": "stream",
     "text": [
      "Ana possui 28 anos\n",
      "Solange possui 25 anos\n",
      "Roberta possui 18 anos\n",
      "Carla possui 32 anos\n",
      "João possui 52 anos\n",
      "José possui 26 anos\n"
     ]
    }
   ],
   "source": [
    "file = open('pessoas.csv')\n",
    "data = file.read()\n",
    "file.close()\n",
    "\n",
    "# print(data.splitlines())\n",
    "\n",
    "lines = data.splitlines()\n",
    "\n",
    "for line in lines[1:]:\n",
    "    name, age = line.split(',')\n",
    "    print(f'{name} possui {age} anos')"
   ]
  },
  {
   "cell_type": "markdown",
   "id": "7f57d615",
   "metadata": {},
   "source": [
    "**Strip em Strings**"
   ]
  },
  {
   "cell_type": "code",
   "execution_count": 55,
   "id": "8dcecee2",
   "metadata": {},
   "outputs": [
    {
     "data": {
      "text/plain": [
       "'Olá   Mundo!'"
      ]
     },
     "execution_count": 55,
     "metadata": {},
     "output_type": "execute_result"
    }
   ],
   "source": [
    "msg = '  Olá   Mundo!   '\n",
    "msg.strip()"
   ]
  },
  {
   "cell_type": "code",
   "execution_count": 57,
   "id": "36a6de64",
   "metadata": {},
   "outputs": [
    {
     "data": {
      "text/plain": [
       "'  Olá   Mundo!   '"
      ]
     },
     "execution_count": 57,
     "metadata": {},
     "output_type": "execute_result"
    }
   ],
   "source": [
    "msg = '***  Olá   Mundo!   ***'\n",
    "msg.strip('*')"
   ]
  },
  {
   "cell_type": "code",
   "execution_count": 58,
   "id": "64aac641",
   "metadata": {},
   "outputs": [
    {
     "data": {
      "text/plain": [
       "'Olá   Mundo!'"
      ]
     },
     "execution_count": 58,
     "metadata": {},
     "output_type": "execute_result"
    }
   ],
   "source": [
    "msg.strip('*').strip()"
   ]
  },
  {
   "cell_type": "markdown",
   "id": "1444b7ed",
   "metadata": {},
   "source": [
    "### 11.2.1. Modo Stream\n",
    "\n",
    "Leitura sequencial do arquivo"
   ]
  },
  {
   "cell_type": "code",
   "execution_count": 66,
   "id": "0cb49974",
   "metadata": {},
   "outputs": [
    {
     "name": "stdout",
     "output_type": "stream",
     "text": [
      "Ana possui 28 anos\n",
      "Solange possui 25 anos\n",
      "Roberta possui 18 anos\n",
      "Carla possui 32 anos\n",
      "João possui 52 anos\n",
      "José possui 26 anos\n"
     ]
    }
   ],
   "source": [
    "arquivo = open('pessoas.csv')\n",
    "\n",
    "pl = True\n",
    "\n",
    "for linha in arquivo:\n",
    "    if pl:\n",
    "        pl = False\n",
    "        continue\n",
    "        \n",
    "    nome, idade = linha.split(',')\n",
    "    print(f'{nome} possui {idade.strip()} anos')\n",
    "\n",
    "\n",
    "arquivo.close()"
   ]
  },
  {
   "cell_type": "markdown",
   "id": "ccb9997f",
   "metadata": {},
   "source": [
    "### 11.2.2. Lendo arquivo com o With\n",
    "\n",
    "Não necessita de fazer um close() pois o arquivo é fechado ao final do bloco with."
   ]
  },
  {
   "cell_type": "code",
   "execution_count": 68,
   "id": "62f13413",
   "metadata": {},
   "outputs": [
    {
     "name": "stdout",
     "output_type": "stream",
     "text": [
      "Ana tem 28 anos\n",
      "Solange tem 25 anos\n",
      "Roberta tem 18 anos\n",
      "Carla tem 32 anos\n",
      "João tem 52 anos\n",
      "José tem 26 anos\n"
     ]
    }
   ],
   "source": [
    "with open('pessoas.csv') as file:\n",
    "    firstLine = True\n",
    "    \n",
    "    for record in file:\n",
    "        if firstLine:\n",
    "            firstLine = False\n",
    "            continue\n",
    "            \n",
    "        name, age = record.strip().split(',')\n",
    "            \n",
    "        print(f'{name} tem {age} anos')\n",
    "    "
   ]
  },
  {
   "cell_type": "markdown",
   "id": "862077e4",
   "metadata": {},
   "source": [
    "## 11.3. Escrever Arquivo com With"
   ]
  },
  {
   "cell_type": "code",
   "execution_count": 73,
   "id": "388f8e2d",
   "metadata": {},
   "outputs": [],
   "source": [
    "with open('pessoas.csv') as file:\n",
    "    with open('pessoas.txt', 'a') as output:\n",
    "        firstLine = True\n",
    "\n",
    "        for record in file:\n",
    "            if firstLine:\n",
    "                firstLine = False\n",
    "                continue\n",
    "\n",
    "            name, age = record.strip().split(',')\n",
    "\n",
    "            print(f'!{name} tem {age} anos!', file = output)"
   ]
  },
  {
   "cell_type": "code",
   "execution_count": null,
   "id": "f2749e77",
   "metadata": {},
   "outputs": [],
   "source": []
  }
 ],
 "metadata": {
  "kernelspec": {
   "display_name": "Python 3 (ipykernel)",
   "language": "python",
   "name": "python3"
  },
  "language_info": {
   "codemirror_mode": {
    "name": "ipython",
    "version": 3
   },
   "file_extension": ".py",
   "mimetype": "text/x-python",
   "name": "python",
   "nbconvert_exporter": "python",
   "pygments_lexer": "ipython3",
   "version": "3.10.6"
  }
 },
 "nbformat": 4,
 "nbformat_minor": 5
}
