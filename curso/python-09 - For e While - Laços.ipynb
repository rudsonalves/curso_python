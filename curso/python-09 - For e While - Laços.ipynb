{
 "cells": [
  {
   "cell_type": "markdown",
   "id": "1b69f5d6",
   "metadata": {},
   "source": [
    "# 9. Laços de Repetição\n",
    "\n",
    "Neste capítulo será tratado dois tipos de laços de repetição:\n",
    "\n",
    " - While: um laço de reperições indeterminadas;\n",
    " - For: um laço de repetições definidas.\n",
    "\n",
    "## 9.1. While\n",
    "\n",
    "O laço while permite fazer laços de uma quantidade de repetições indeterminadas, podendo variar de nunhuma a infinitas repetições.\n",
    "\n",
    "Sua sintaxe é simplesmente:\n",
    "\n",
    "```\n",
    "    while <condição booleana>:\n",
    "        <bloco de comandos>\n",
    "```\n",
    "\n",
    "O laço se repete enquanto a <condição booleana> (True/False) for verdadeira.\n",
    "\n",
    "```\n",
    "nomes = ['Rafael', 'Fernando', 'Sandro', 'Ricardo', 'Estéfano']\n",
    "index = 0\n",
    "\n",
    "while index < len(nomes):\n",
    "    print(nomes[index])\n",
    "    index++\n",
    "```\n",
    "\n",
    "Um laço infinito\n",
    "\n",
    "```\n",
    "print('Fibonacci infinito')\n",
    "\n",
    "a, b = 1, 1\n",
    "\n",
    "print(a, b, end='')\n",
    "\n",
    "while True;\n",
    "    a, b = b, (a + b)\n",
    "    print(b, end='')\n",
    "```\n",
    "\n",
    "Este laço while se repetirá indefinidamente até que um CNTRL+ENTER seja teclado no terminal (ou um ALT+SHIFT+M no VSCode).\n",
    "\n",
    "### 9.1.1. Desafio\n",
    "\n",
    "Fazer um código de um jogo de terminal para adivinhar um número randômico de 1 a 100:\n",
    "\n",
    "\n",
    "```\n",
    "#!/bin/python3\n",
    "#\n",
    "import random\n",
    "\n",
    "secretNumber = random.randint(1, 100)\n",
    "tryNumber = 0\n",
    "\n",
    "while secretNumber != tryNumber:\n",
    "    strNum = input('Entre com um inteiro de 1 a 100: ')\n",
    "    tryNumber = int(strNum)\n",
    "\n",
    "    if secretNumber > tryNumber:\n",
    "        print(f'Número secreto é maior que {tryNumber}')\n",
    "    elif secretNumber < tryNumber:\n",
    "        print(f'Número secreto é menor que {tryNumber}')\n",
    "\n",
    "print(f'Parabéns! O número secreto é {secretNumber}')\n",
    "\n",
    "```"
   ]
  },
  {
   "cell_type": "markdown",
   "id": "839638e2",
   "metadata": {},
   "source": [
    "## 9.2. For\n",
    "\n",
    "Diferente do laço While, no laço for o número de repetições é determinado pelo número de interadores que o laço estiver rodando. \n",
    "\n",
    "Os interadores no laço for são tipicamente uma lista, conjunto, tupla ou um interador como a função range.\n",
    "\n",
    "### 9.2.1. For - List/Tuple/Set/...\n",
    "\n",
    "O for - list/tuple/set/... percorre todos os elementos da list/tuple/set/...\n",
    "\n",
    "#### 9.2.1.1. For - List"
   ]
  },
  {
   "cell_type": "code",
   "execution_count": 5,
   "id": "0a8809d2",
   "metadata": {
    "tags": []
   },
   "outputs": [
    {
     "name": "stdout",
     "output_type": "stream",
     "text": [
      "Rafael possui 6 caracteres.\n",
      "Roberto possui 7 caracteres.\n",
      "Ana possui 3 caracteres.\n",
      "Solange possui 7 caracteres.\n",
      "Leonardo possui 8 caracteres.\n"
     ]
    }
   ],
   "source": [
    "names = ['Rafael', 'Roberto', 'Ana', 'Solange', 'Leonardo']\n",
    "\n",
    "for name in names:\n",
    "    print('{0} possui {1} caracteres.'.format(name, len(name)))"
   ]
  },
  {
   "cell_type": "markdown",
   "id": "bdfad979",
   "metadata": {},
   "source": [
    "#### 9.2.1.2. For - Dict\n",
    "\n",
    "No próximo exemplo o laço for percorre as chaves do dicionário record (chave de um dicionário é um set, conjunto):"
   ]
  },
  {
   "cell_type": "code",
   "execution_count": 6,
   "id": "5d1a3415",
   "metadata": {
    "tags": []
   },
   "outputs": [
    {
     "name": "stdout",
     "output_type": "stream",
     "text": [
      "Rafael possui 25 anos\n",
      "Roberto possui 18 anos\n",
      "Ana possui 34 anos\n",
      "Solange possui 46 anos\n",
      "Leonardo possui 8 anos\n"
     ]
    }
   ],
   "source": [
    "record = {'Rafael': 25, 'Roberto': 18, 'Ana': 34, 'Solange': 46, 'Leonardo': 8}\n",
    "\n",
    "for name in record.keys():\n",
    "    print('{} possui {} anos'.format(name, record[name]))"
   ]
  },
  {
   "cell_type": "markdown",
   "id": "4b08461f",
   "metadata": {},
   "source": [
    "Por padrão o for percorre as chaves do dicionário, dispensando a necessidade de chamar o método key():"
   ]
  },
  {
   "cell_type": "code",
   "execution_count": 7,
   "id": "54b29e79",
   "metadata": {
    "tags": []
   },
   "outputs": [
    {
     "name": "stdout",
     "output_type": "stream",
     "text": [
      "Rafael possui 25 anos\n",
      "Roberto possui 18 anos\n",
      "Ana possui 34 anos\n",
      "Solange possui 46 anos\n",
      "Leonardo possui 8 anos\n"
     ]
    }
   ],
   "source": [
    "for name in record:\n",
    "    print('{} possui {} anos'.format(name, record[name]))"
   ]
  },
  {
   "cell_type": "markdown",
   "id": "a6ca5cde",
   "metadata": {},
   "source": [
    "No laço com um dicionário é possível percorrer também o valor ou mesmo o conjunto chave x valor."
   ]
  },
  {
   "cell_type": "code",
   "execution_count": 8,
   "id": "4a593b16",
   "metadata": {
    "tags": []
   },
   "outputs": [
    {
     "name": "stdout",
     "output_type": "stream",
     "text": [
      "Idade: 25 anos\n",
      "Idade: 18 anos\n",
      "Idade: 34 anos\n",
      "Idade: 46 anos\n",
      "Idade: 8 anos\n"
     ]
    }
   ],
   "source": [
    "record = {'Rafael': 25, 'Roberto': 18, 'Ana': 34, 'Solange': 46, 'Leonardo': 8}\n",
    "\n",
    "for age in record.values():\n",
    "    print(f'Idade: {age} anos')"
   ]
  },
  {
   "cell_type": "code",
   "execution_count": 9,
   "id": "778d5aae",
   "metadata": {
    "tags": []
   },
   "outputs": [
    {
     "name": "stdout",
     "output_type": "stream",
     "text": [
      "Rafael possui 25 anos\n",
      "Roberto possui 18 anos\n",
      "Ana possui 34 anos\n",
      "Solange possui 46 anos\n",
      "Leonardo possui 8 anos\n"
     ]
    }
   ],
   "source": [
    "record = {'Rafael': 25, 'Roberto': 18, 'Ana': 34, 'Solange': 46, 'Leonardo': 8}\n",
    "\n",
    "for name, age in record.items():\n",
    "    print(f'{name} possui {age} anos')"
   ]
  },
  {
   "cell_type": "markdown",
   "id": "21ab28ac",
   "metadata": {},
   "source": [
    "#### 9.2.1.3. For - String (List of Char)\n",
    "\n",
    "No próximo exemplo o laço for percorre as letras de uma palavra (list):"
   ]
  },
  {
   "cell_type": "code",
   "execution_count": 10,
   "id": "267eed3a",
   "metadata": {
    "tags": []
   },
   "outputs": [
    {
     "name": "stdout",
     "output_type": "stream",
     "text": [
      "J\n",
      "o\n",
      "ã\n",
      "o\n",
      " \n",
      "W\n",
      "a\n",
      "l\n",
      "m\n",
      "i\n",
      "r\n",
      "o\n",
      " \n",
      "A\n",
      "l\n",
      "v\n",
      "e\n",
      "s\n"
     ]
    }
   ],
   "source": [
    "name = 'João Walmiro Alves'\n",
    "for letter in name:\n",
    "    print(letter)"
   ]
  },
  {
   "cell_type": "markdown",
   "id": "448eec6b",
   "metadata": {},
   "source": [
    "#### 9.2.1.4. For - Set\n",
    "\n",
    "Para terminar um for sobre um set:"
   ]
  },
  {
   "cell_type": "code",
   "execution_count": 65,
   "id": "32e0c1b7",
   "metadata": {},
   "outputs": [
    {
     "name": "stdout",
     "output_type": "stream",
     "text": [
      "e\n",
      "a\n",
      "ã\n",
      "l\n",
      "s\n",
      "o\n",
      "J\n",
      "i\n",
      "r\n",
      "W\n",
      "m\n",
      "A\n",
      "v\n",
      " \n"
     ]
    }
   ],
   "source": [
    "for letter in set('João Walmiro Alves'):\n",
    "    print(letter)"
   ]
  },
  {
   "cell_type": "markdown",
   "id": "b04b9e97",
   "metadata": {},
   "source": [
    "Oberve que não há repetição de elementos e que a ordem dos caracteres não é preservada, já que um set é uma lista de elementos únicos e desordenada."
   ]
  },
  {
   "cell_type": "markdown",
   "id": "81f2472d",
   "metadata": {},
   "source": [
    "## 9.3. For - Range\n",
    "\n",
    "Outra forma de fazer laços for é com o uso da função range, que retorna um interador de inteiros."
   ]
  },
  {
   "cell_type": "code",
   "execution_count": 66,
   "id": "c70937c0",
   "metadata": {},
   "outputs": [
    {
     "name": "stdout",
     "output_type": "stream",
     "text": [
      "0\n",
      "1\n",
      "2\n",
      "3\n",
      "4\n",
      "5\n",
      "6\n",
      "7\n",
      "8\n",
      "9\n"
     ]
    }
   ],
   "source": [
    "for number in range(10):\n",
    "    print(number)"
   ]
  },
  {
   "cell_type": "code",
   "execution_count": 67,
   "id": "34d72727",
   "metadata": {},
   "outputs": [
    {
     "name": "stdout",
     "output_type": "stream",
     "text": [
      "A\n",
      "l\n",
      "b\n",
      "e\n",
      "r\n",
      "t\n",
      "o\n",
      " \n",
      "S\n",
      "a\n",
      "n\n",
      "t\n",
      "o\n",
      "s\n",
      " \n",
      "D\n",
      "u\n",
      "m\n",
      "o\n",
      "n\n",
      "t\n"
     ]
    }
   ],
   "source": [
    "name = 'Alberto Santos Dumont'\n",
    "for index in range(len(name)):\n",
    "    print(name[index])"
   ]
  },
  {
   "cell_type": "markdown",
   "id": "bbb7cd43",
   "metadata": {},
   "source": [
    "### 9.3.1. Desafio"
   ]
  },
  {
   "cell_type": "code",
   "execution_count": 2,
   "id": "3eb39fc1-564d-4253-82b2-6cd8177fe294",
   "metadata": {
    "tags": []
   },
   "outputs": [
    {
     "name": "stdout",
     "output_type": "stream",
     "text": [
      "2 x  1 =   2\n",
      "2 x  2 =   4\n",
      "2 x  3 =   6\n",
      "2 x  4 =   8\n",
      "2 x  5 =  10\n",
      "2 x  6 =  12\n",
      "2 x  7 =  14\n",
      "2 x  8 =  16\n",
      "2 x  9 =  18\n",
      "2 x 10 =  20\n"
     ]
    }
   ],
   "source": [
    "mult = 2\n",
    "for number in range(1, 11):\n",
    "        print('{} x {:2} = {:3}'.format(mult, number, mult*number))"
   ]
  },
  {
   "cell_type": "markdown",
   "id": "c5072080-90e5-45ec-ba09-d016fed2577d",
   "metadata": {},
   "source": [
    "Transforme este código em uma função que imprime a taboada de um valor passado:"
   ]
  },
  {
   "cell_type": "code",
   "execution_count": 3,
   "id": "92be90f4",
   "metadata": {
    "tags": []
   },
   "outputs": [],
   "source": [
    "def tabuada(mult):\n",
    "    for number in range(1, 11):\n",
    "        print('{} x {:2} = {:3}'.format(mult, number, mult*number))"
   ]
  },
  {
   "cell_type": "code",
   "execution_count": 69,
   "id": "083fd6ae",
   "metadata": {},
   "outputs": [
    {
     "name": "stdout",
     "output_type": "stream",
     "text": [
      "5 x  1 =   5\n",
      "5 x  2 =  10\n",
      "5 x  3 =  15\n",
      "5 x  4 =  20\n",
      "5 x  5 =  25\n",
      "5 x  6 =  30\n",
      "5 x  7 =  35\n",
      "5 x  8 =  40\n",
      "5 x  9 =  45\n",
      "5 x 10 =  50\n"
     ]
    }
   ],
   "source": [
    "tabuada(5)"
   ]
  },
  {
   "cell_type": "markdown",
   "id": "3d1b8e95",
   "metadata": {},
   "source": [
    "## 9.4. Break e Continue\n",
    "\n",
    "Os comando break e continue permitem interromper o laço de formas distintas:\n",
    "\n",
    " 1. break - interrompe a execução do laço atual, forçando a saída do laço for/while mais interno;\n",
    " 2. continue - interrompe a execução do laço atual, sem sair do laço for/while, apenas prosseguindo para a próxima interação do laço."
   ]
  },
  {
   "cell_type": "code",
   "execution_count": 70,
   "id": "62e59422",
   "metadata": {},
   "outputs": [
    {
     "name": "stdout",
     "output_type": "stream",
     "text": [
      "*** 1\n",
      "*** 2\n",
      "3 é multiplo de 3\n",
      "*** 4\n",
      "*** 5\n",
      "6 é multiplo de 3\n",
      "*** 7\n",
      "*** 8\n",
      "9 é multiplo de 3\n",
      "*** 10\n",
      "*** 11\n",
      "12 é multiplo de 3\n",
      "13 é múltiplo de 13\n",
      "Fim\n"
     ]
    }
   ],
   "source": [
    "for i in range(1, 100):\n",
    "    if i % 13 == 0:\n",
    "        print(f'{i} é múltiplo de 13')\n",
    "        break\n",
    "        \n",
    "    if i % 3 == 0:\n",
    "        print(f'{i} é multiplo de 3')\n",
    "        continue\n",
    "        \n",
    "    print(f'*** {i}')\n",
    "\n",
    "print('Fim')"
   ]
  },
  {
   "cell_type": "markdown",
   "id": "31f68b54",
   "metadata": {},
   "source": [
    "### 9.5. For - Else\n",
    "\n",
    "O último for é com a sentença else. Sua sintaxe é apresentada a seguir:\n",
    "\n",
    "```\n",
    "for i in list/set/...:\n",
    "    <comandos>\n",
    "else:\n",
    "    <comandos_else>\n",
    "```\n",
    "\n",
    "Os comandos do bloco else serão executados normalmente se o for não for interrompido por um break."
   ]
  },
  {
   "cell_type": "code",
   "execution_count": 71,
   "id": "3159944f",
   "metadata": {},
   "outputs": [
    {
     "name": "stdout",
     "output_type": "stream",
     "text": [
      "0\n",
      "1\n",
      "2\n",
      "3\n",
      "4\n",
      "5\n",
      "6\n",
      "7\n",
      "8\n",
      "9\n",
      "Fim\n"
     ]
    }
   ],
   "source": [
    "for i in range(10):\n",
    "    print(i)\n",
    "else:\n",
    "    print('Fim')"
   ]
  },
  {
   "cell_type": "code",
   "execution_count": 72,
   "id": "3ea44358",
   "metadata": {},
   "outputs": [
    {
     "name": "stdout",
     "output_type": "stream",
     "text": [
      "0\n",
      "1\n",
      "2\n",
      "3\n",
      "4\n"
     ]
    }
   ],
   "source": [
    "for i in range(10):\n",
    "    if i == 5:\n",
    "        break\n",
    "    print(i)\n",
    "else:\n",
    "    print('Fim')"
   ]
  },
  {
   "cell_type": "code",
   "execution_count": 1,
   "id": "639af145",
   "metadata": {},
   "outputs": [
    {
     "name": "stdout",
     "output_type": "stream",
     "text": [
      "Não acertou!\n"
     ]
    }
   ],
   "source": [
    "from random import randint\n",
    "\n",
    "\n",
    "def dice6():\n",
    "    return randint(1, 6)\n",
    "\n",
    "\n",
    "if __name__ == '__main__':\n",
    "    for i in range(1, 7):\n",
    "        if i % 2 == 1:\n",
    "            continue\n",
    "            \n",
    "        if dice6() == i:\n",
    "            print(f'Sorteou um {i}')\n",
    "            break\n",
    "    else:\n",
    "        print('Não acertou!')"
   ]
  },
  {
   "cell_type": "markdown",
   "id": "13e90669",
   "metadata": {},
   "source": [
    "### Mais um Exemplo"
   ]
  },
  {
   "cell_type": "code",
   "execution_count": 8,
   "id": "b4143ee2",
   "metadata": {},
   "outputs": [],
   "source": [
    "forbiddenWords = ['futebol', 'religião', 'política']\n",
    "\n",
    "phrases = [\n",
    "    'João gosta de futebol e política.',\n",
    "    'A praia estava ótima hoje.'\n",
    "]"
   ]
  },
  {
   "cell_type": "markdown",
   "id": "d3660991",
   "metadata": {},
   "source": [
    "O objetivo é identificar se uma ou mais das palavras em words estão contidas nas frases em phases."
   ]
  },
  {
   "cell_type": "code",
   "execution_count": 9,
   "id": "0a6e1f5a",
   "metadata": {},
   "outputs": [
    {
     "name": "stdout",
     "output_type": "stream",
     "text": [
      "Frase \"João gosta de futebol e política.\" possui a palavra proibida \"futebol\"\n",
      "Texto autorizado: \"A praia estava ótima hoje.\"\n"
     ]
    }
   ],
   "source": [
    "for phrase in phrases:\n",
    "    found = False\n",
    "    for word in phrase.lower().split():\n",
    "        if word in forbiddenWords:\n",
    "            print(f'Frase \"{phrase}\" possui a palavra proibida \"{word}\"')\n",
    "            found = True\n",
    "            break\n",
    "            \n",
    "    if not found:\n",
    "        print(f'Texto autorizado: \"{phrase}\"')"
   ]
  },
  {
   "cell_type": "code",
   "execution_count": 4,
   "id": "37cb1b87",
   "metadata": {
    "tags": []
   },
   "outputs": [
    {
     "ename": "NameError",
     "evalue": "name 'phrases' is not defined",
     "output_type": "error",
     "traceback": [
      "\u001b[0;31m---------------------------------------------------------------------------\u001b[0m",
      "\u001b[0;31mNameError\u001b[0m                                 Traceback (most recent call last)",
      "Cell \u001b[0;32mIn[4], line 1\u001b[0m\n\u001b[0;32m----> 1\u001b[0m \u001b[38;5;28;01mfor\u001b[39;00m phrase \u001b[38;5;129;01min\u001b[39;00m \u001b[43mphrases\u001b[49m:\n\u001b[1;32m      2\u001b[0m     \u001b[38;5;28;01mfor\u001b[39;00m word \u001b[38;5;129;01min\u001b[39;00m phrase\u001b[38;5;241m.\u001b[39mlower()\u001b[38;5;241m.\u001b[39msplit():\n\u001b[1;32m      3\u001b[0m         \u001b[38;5;28;01mif\u001b[39;00m word \u001b[38;5;129;01min\u001b[39;00m forbiddenWords:\n",
      "\u001b[0;31mNameError\u001b[0m: name 'phrases' is not defined"
     ]
    }
   ],
   "source": [
    "for phrase in phrases:\n",
    "    for word in phrase.lower().split():\n",
    "        if word in forbiddenWords:\n",
    "            print(f'Frase \"{phrase}\" possui a palavra proibida \"{word}\"')\n",
    "            break   \n",
    "    else:\n",
    "        print(f'Texto autorizado: \"{phrase}\"')"
   ]
  }
 ],
 "metadata": {
  "kernelspec": {
   "display_name": "Python 3 (ipykernel)",
   "language": "python",
   "name": "python3"
  },
  "language_info": {
   "codemirror_mode": {
    "name": "ipython",
    "version": 3
   },
   "file_extension": ".py",
   "mimetype": "text/x-python",
   "name": "python",
   "nbconvert_exporter": "python",
   "pygments_lexer": "ipython3",
   "version": "3.10.6"
  }
 },
 "nbformat": 4,
 "nbformat_minor": 5
}
