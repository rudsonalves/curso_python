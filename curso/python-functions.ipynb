{
 "cells": [
  {
   "cell_type": "code",
   "execution_count": 1,
   "id": "6cdb8a66-8b69-40ed-9cdd-7d5af963cc4a",
   "metadata": {
    "tags": []
   },
   "outputs": [],
   "source": [
    "def listMethods(command):\n",
    "    newList = []\n",
    "    for d in dir(command):\n",
    "        (newList.append(d) if '_' not in d else None)\n",
    "    \n",
    "    for i in range(len(newList)//3):\n",
    "        index = 3*i\n",
    "        if index < len(newList):\n",
    "            print('{:<15} {:<15} {:<15}'.format(newList[index], newList[index+1], newList[index+2]))\n",
    "    \n",
    "    \n",
    "    if len(newList)%3 == 2:\n",
    "        print('{:<15} {:<15}'.format(newList[-2], newList[-1]))\n",
    "    elif len(newList)%3 == 1:\n",
    "        print('{:<15}'.format(newList[-1]))\n",
    "        "
   ]
  },
  {
   "cell_type": "code",
   "execution_count": 2,
   "id": "07c8bb57-5a63-4e94-8b93-649765a55965",
   "metadata": {
    "tags": []
   },
   "outputs": [
    {
     "name": "stdout",
     "output_type": "stream",
     "text": [
      "append          clear           copy           \n",
      "count           extend          index          \n",
      "insert          pop             remove         \n",
      "reverse         sort           \n"
     ]
    }
   ],
   "source": [
    "listMethods(list)"
   ]
  },
  {
   "cell_type": "code",
   "execution_count": 3,
   "id": "6f13a92f-7d9a-4db1-acfe-c6aee61fd4f3",
   "metadata": {
    "tags": []
   },
   "outputs": [],
   "source": [
    "def listMethods(command):\n",
    "    newList = [ value for value in dir(command) if '_' not in value ]\n",
    "    \n",
    "    for i in range(len(newList)//3):\n",
    "        index = 3*i\n",
    "        if index < len(newList):\n",
    "            print('{:<15} {:<15} {:<15}'.format(newList[index], newList[index+1], newList[index+2]))\n",
    "    \n",
    "    \n",
    "    if len(newList)%3 == 2:\n",
    "        print('{:<15} {:<15}'.format(newList[-2], newList[-1]))\n",
    "    elif len(newList)%3 == 1:\n",
    "        print('{:<15}'.format(newList[-1]))"
   ]
  },
  {
   "cell_type": "code",
   "execution_count": 5,
   "id": "4905eab5-c5ef-42cf-8a16-d1ba9cc3bfa1",
   "metadata": {
    "tags": []
   },
   "outputs": [
    {
     "name": "stdout",
     "output_type": "stream",
     "text": [
      "append         clear          copy           count          \n",
      "extend         index          insert         pop            \n",
      "remove         reverse        sort           "
     ]
    }
   ],
   "source": [
    "listMethods(list)"
   ]
  },
  {
   "cell_type": "code",
   "execution_count": 1,
   "id": "24152f1b-d3c9-4595-8711-629f925a881d",
   "metadata": {
    "tags": []
   },
   "outputs": [],
   "source": [
    "def listMethods(command, colluns = 3):\n",
    "    newList = [ value for value in dir(command) if '_' not in value ]\n",
    "    \n",
    "    for index in range(len(newList)):\n",
    "        if (index+1) % colluns == 0:\n",
    "            print('{:<15}'.format(newList[index]))\n",
    "        else:\n",
    "            print('{:<15}'.format(newList[index]), end='')"
   ]
  },
  {
   "cell_type": "code",
   "execution_count": 2,
   "id": "4681e651-0993-4856-ac1d-6ce787fc8573",
   "metadata": {
    "tags": []
   },
   "outputs": [
    {
     "name": "stdout",
     "output_type": "stream",
     "text": [
      "capitalize     casefold       center         count          encode         \n",
      "endswith       expandtabs     find           format         index          \n",
      "isalnum        isalpha        isascii        isdecimal      isdigit        \n",
      "isidentifier   islower        isnumeric      isprintable    isspace        \n",
      "istitle        isupper        join           ljust          lower          \n",
      "lstrip         maketrans      partition      removeprefix   removesuffix   \n",
      "replace        rfind          rindex         rjust          rpartition     \n",
      "rsplit         rstrip         split          splitlines     startswith     \n",
      "strip          swapcase       title          translate      upper          \n",
      "zfill          "
     ]
    }
   ],
   "source": [
    "listMethods(str, 5)"
   ]
  },
  {
   "cell_type": "code",
   "execution_count": 13,
   "id": "49329e54-f810-41f5-aacd-6f9a12c40650",
   "metadata": {
    "tags": []
   },
   "outputs": [
    {
     "name": "stdout",
     "output_type": "stream",
     "text": [
      "append         clear          copy           count          \n",
      "extend         index          insert         pop            \n",
      "remove         reverse        sort           "
     ]
    }
   ],
   "source": [
    "listMethods(colluns=4, command=list)"
   ]
  },
  {
   "cell_type": "code",
   "execution_count": null,
   "id": "3cf1b1cf-4038-4c12-a374-518fd017f021",
   "metadata": {},
   "outputs": [],
   "source": []
  }
 ],
 "metadata": {
  "kernelspec": {
   "display_name": "Python 3 (ipykernel)",
   "language": "python",
   "name": "python3"
  },
  "language_info": {
   "codemirror_mode": {
    "name": "ipython",
    "version": 3
   },
   "file_extension": ".py",
   "mimetype": "text/x-python",
   "name": "python",
   "nbconvert_exporter": "python",
   "pygments_lexer": "ipython3",
   "version": "3.10.6"
  }
 },
 "nbformat": 4,
 "nbformat_minor": 5
}
