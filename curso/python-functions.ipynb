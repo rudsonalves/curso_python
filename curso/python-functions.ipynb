{
 "cells": [
  {
   "cell_type": "code",
   "execution_count": 1,
   "id": "6cdb8a66-8b69-40ed-9cdd-7d5af963cc4a",
   "metadata": {
    "tags": []
   },
   "outputs": [],
   "source": [
    "def listMethods(command):\n",
    "    newList = []\n",
    "    for d in dir(command):\n",
    "        (newList.append(d) if '_' not in d else None)\n",
    "    \n",
    "    for i in range(len(newList)//3):\n",
    "        index = 3*i\n",
    "        if index < len(newList):\n",
    "            print('{:<15} {:<15} {:<15}'.format(newList[index], newList[index+1], newList[index+2]))\n",
    "    \n",
    "    \n",
    "    if len(newList)%3 == 2:\n",
    "        print('{:<15} {:<15}'.format(newList[-2], newList[-1]))\n",
    "    elif len(newList)%3 == 1:\n",
    "        print('{:<15}'.format(newList[-1]))\n",
    "        "
   ]
  },
  {
   "cell_type": "code",
   "execution_count": 2,
   "id": "07c8bb57-5a63-4e94-8b93-649765a55965",
   "metadata": {
    "tags": []
   },
   "outputs": [
    {
     "name": "stdout",
     "output_type": "stream",
     "text": [
      "append          clear           copy           \n",
      "count           extend          index          \n",
      "insert          pop             remove         \n",
      "reverse         sort           \n"
     ]
    }
   ],
   "source": [
    "listMethods(list)"
   ]
  },
  {
   "cell_type": "code",
   "execution_count": 3,
   "id": "6f13a92f-7d9a-4db1-acfe-c6aee61fd4f3",
   "metadata": {
    "tags": []
   },
   "outputs": [],
   "source": [
    "def listMethods(command):\n",
    "    newList = [ value for value in dir(command) if '_' not in value ]\n",
    "    \n",
    "    for i in range(len(newList)//3):\n",
    "        index = 3*i\n",
    "        if index < len(newList):\n",
    "            print('{:<15} {:<15} {:<15}'.format(newList[index], newList[index+1], newList[index+2]))\n",
    "    \n",
    "    \n",
    "    if len(newList)%3 == 2:\n",
    "        print('{:<15} {:<15}'.format(newList[-2], newList[-1]))\n",
    "    elif len(newList)%3 == 1:\n",
    "        print('{:<15}'.format(newList[-1]))"
   ]
  },
  {
   "cell_type": "code",
   "execution_count": 5,
   "id": "4905eab5-c5ef-42cf-8a16-d1ba9cc3bfa1",
   "metadata": {
    "tags": []
   },
   "outputs": [
    {
     "name": "stdout",
     "output_type": "stream",
     "text": [
      "append         clear          copy           count          \n",
      "extend         index          insert         pop            \n",
      "remove         reverse        sort           "
     ]
    }
   ],
   "source": [
    "listMethods(list)"
   ]
  },
  {
   "cell_type": "code",
   "execution_count": 1,
   "id": "24152f1b-d3c9-4595-8711-629f925a881d",
   "metadata": {
    "tags": []
   },
   "outputs": [],
   "source": [
    "def listMethods(command, colluns = 3):\n",
    "    newList = [ value for value in dir(command) if '_' not in value ]\n",
    "    \n",
    "    for index in range(len(newList)):\n",
    "        if (index+1) % colluns == 0:\n",
    "            print('{:<15}'.format(newList[index]))\n",
    "        else:\n",
    "            print('{:<15}'.format(newList[index]), end='')"
   ]
  },
  {
   "cell_type": "code",
   "execution_count": 2,
   "id": "4681e651-0993-4856-ac1d-6ce787fc8573",
   "metadata": {
    "tags": []
   },
   "outputs": [
    {
     "name": "stdout",
     "output_type": "stream",
     "text": [
      "capitalize     casefold       center         count          encode         \n",
      "endswith       expandtabs     find           format         index          \n",
      "isalnum        isalpha        isascii        isdecimal      isdigit        \n",
      "isidentifier   islower        isnumeric      isprintable    isspace        \n",
      "istitle        isupper        join           ljust          lower          \n",
      "lstrip         maketrans      partition      removeprefix   removesuffix   \n",
      "replace        rfind          rindex         rjust          rpartition     \n",
      "rsplit         rstrip         split          splitlines     startswith     \n",
      "strip          swapcase       title          translate      upper          \n",
      "zfill          "
     ]
    }
   ],
   "source": [
    "listMethods(str, 5)"
   ]
  },
  {
   "cell_type": "code",
   "execution_count": 13,
   "id": "49329e54-f810-41f5-aacd-6f9a12c40650",
   "metadata": {
    "tags": []
   },
   "outputs": [
    {
     "name": "stdout",
     "output_type": "stream",
     "text": [
      "append         clear          copy           count          \n",
      "extend         index          insert         pop            \n",
      "remove         reverse        sort           "
     ]
    }
   ],
   "source": [
    "listMethods(colluns=4, command=list)"
   ]
  },
  {
   "cell_type": "code",
   "execution_count": 84,
   "id": "3cf1b1cf-4038-4c12-a374-518fd017f021",
   "metadata": {},
   "outputs": [],
   "source": [
    "PROIBIDAS = {'futebol', 'religião', 'política'}\n",
    "texto = [\n",
    "    'João gosta de política e de futebol.',\n",
    "    'A praia foi divertida.'\n",
    "]"
   ]
  },
  {
   "cell_type": "code",
   "execution_count": 85,
   "id": "100ea138-8b9b-4fc2-b8ec-88e2e23fcec3",
   "metadata": {
    "tags": []
   },
   "outputs": [
    {
     "name": "stdout",
     "output_type": "stream",
     "text": [
      "No: \"João gosta de política e de futebol.\"\n",
      "OK: \"A praia foi divertida.\"\n"
     ]
    }
   ],
   "source": [
    "for f in texto:\n",
    "    if not PROIBIDAS.intersection(f.lower().split()):\n",
    "        print(f'OK: \"{f}\"')\n",
    "    else:\n",
    "        print(f'No: \"{f}\"')"
   ]
  },
  {
   "cell_type": "code",
   "execution_count": 86,
   "id": "a4d83923-e187-4df7-b360-28ca04eae1b1",
   "metadata": {
    "tags": []
   },
   "outputs": [
    {
     "data": {
      "text/plain": [
       "set()"
      ]
     },
     "execution_count": 86,
     "metadata": {},
     "output_type": "execute_result"
    }
   ],
   "source": [
    "PROIBIDAS.intersection(texto[1].lower().split())"
   ]
  },
  {
   "cell_type": "code",
   "execution_count": 10,
   "id": "4e71f495-4de6-4d16-9dad-4064ffaa2f29",
   "metadata": {
    "tags": []
   },
   "outputs": [
    {
     "data": {
      "text/plain": [
       "['a', 'praia', 'foi', 'divertida.']"
      ]
     },
     "execution_count": 10,
     "metadata": {},
     "output_type": "execute_result"
    }
   ],
   "source": [
    "texto[1].lower().split()"
   ]
  },
  {
   "cell_type": "code",
   "execution_count": 30,
   "id": "c383649d-29a3-46a2-8e0d-24574735c364",
   "metadata": {
    "tags": []
   },
   "outputs": [],
   "source": [
    "def fibonacci(maxNumber):\n",
    "    previusNumber = 0\n",
    "    lastNumber = 1\n",
    "    fib = [previusNumber, lastNumber]\n",
    "\n",
    "    \n",
    "    while lastNumber < maxNumber:\n",
    "        nextNumber = previusNumber + lastNumber\n",
    "        fib.append(nextNumber)\n",
    "        \n",
    "        previusNumber = lastNumber\n",
    "        lastNumber = nextNumber\n",
    "        \n",
    "    return fib[:-1]"
   ]
  },
  {
   "cell_type": "code",
   "execution_count": 31,
   "id": "c914eab1-627e-4f9c-aa3a-6446ac6c0bba",
   "metadata": {
    "tags": []
   },
   "outputs": [
    {
     "data": {
      "text/plain": [
       "[0, 1, 1, 2, 3, 5, 8, 13, 21, 34, 55, 89, 144, 233, 377, 610, 987]"
      ]
     },
     "execution_count": 31,
     "metadata": {},
     "output_type": "execute_result"
    }
   ],
   "source": [
    "fibonacci(1000)"
   ]
  },
  {
   "cell_type": "code",
   "execution_count": 76,
   "id": "3ae48af9-eb93-4330-9623-7491fb343896",
   "metadata": {
    "tags": []
   },
   "outputs": [],
   "source": [
    "def fibonacci(maxNumber):\n",
    "    #previusNumber, lastNumber = 0, 1\n",
    "    #fib = [previusNumber, lastNumber]\n",
    "    \n",
    "    fib = [0, 1]\n",
    "    previusNumber, lastNumber = fib\n",
    "    \n",
    "    while lastNumber < maxNumber:\n",
    "        previusNumber, lastNumber = lastNumber, previusNumber + lastNumber\n",
    "        fib.append(lastNumber)\n",
    "        \n",
    "        \n",
    "    return fib[:-1]"
   ]
  },
  {
   "cell_type": "code",
   "execution_count": 77,
   "id": "2179eeb6-3fee-4603-81b8-695b4e971e11",
   "metadata": {
    "tags": []
   },
   "outputs": [
    {
     "data": {
      "text/plain": [
       "[0, 1, 1, 2, 3, 5, 8, 13, 21, 34, 55, 89, 144, 233, 377, 610, 987]"
      ]
     },
     "execution_count": 77,
     "metadata": {},
     "output_type": "execute_result"
    }
   ],
   "source": [
    "fibonacci(1000)"
   ]
  },
  {
   "cell_type": "code",
   "execution_count": 78,
   "id": "f9ed4ec7-c4e5-46b7-8eaf-b569b2bfc81c",
   "metadata": {
    "tags": []
   },
   "outputs": [],
   "source": [
    "def fibonacci(maxNumber):\n",
    "    fib = [0, 1]\n",
    "    \n",
    "    while fib[-1] < maxNumber:\n",
    "        fib.append(fib[-2] + fib[-1])\n",
    "        \n",
    "        \n",
    "    return fib[:-1]"
   ]
  },
  {
   "cell_type": "code",
   "execution_count": 79,
   "id": "6750cd0e-de71-4df0-98ca-6bb92fcaafde",
   "metadata": {
    "tags": []
   },
   "outputs": [
    {
     "data": {
      "text/plain": [
       "[0, 1, 1, 2, 3, 5, 8, 13, 21, 34, 55, 89, 144, 233, 377, 610, 987]"
      ]
     },
     "execution_count": 79,
     "metadata": {},
     "output_type": "execute_result"
    }
   ],
   "source": [
    "fibonacci(1000)"
   ]
  },
  {
   "cell_type": "code",
   "execution_count": 80,
   "id": "e66fbc2b-718e-4d92-9384-19906922d3df",
   "metadata": {
    "tags": []
   },
   "outputs": [
    {
     "data": {
      "text/plain": [
       "6"
      ]
     },
     "execution_count": 80,
     "metadata": {},
     "output_type": "execute_result"
    }
   ],
   "source": [
    "sum([1,2,3])"
   ]
  },
  {
   "cell_type": "code",
   "execution_count": 82,
   "id": "dce4fd60-ac5c-4d78-a07e-82c5a3f91681",
   "metadata": {
    "tags": []
   },
   "outputs": [],
   "source": [
    "def fibonacci(maxNumber):\n",
    "    fib = [0, 1]\n",
    "    \n",
    "    while fib[-1] < maxNumber:\n",
    "        fib.append(sum(fib[-2:]))\n",
    "        \n",
    "        \n",
    "    return fib[:-1]"
   ]
  },
  {
   "cell_type": "code",
   "execution_count": 83,
   "id": "adeb77d6-d71b-4c33-a87c-a67a6225e10c",
   "metadata": {
    "tags": []
   },
   "outputs": [
    {
     "data": {
      "text/plain": [
       "[0, 1, 1, 2, 3, 5, 8, 13, 21, 34, 55, 89, 144, 233, 377, 610, 987]"
      ]
     },
     "execution_count": 83,
     "metadata": {},
     "output_type": "execute_result"
    }
   ],
   "source": [
    "fibonacci(1000)"
   ]
  },
  {
   "cell_type": "code",
   "execution_count": null,
   "id": "f3e6e90a-44c2-472d-a093-537b37654e66",
   "metadata": {},
   "outputs": [],
   "source": []
  },
  {
   "cell_type": "code",
   "execution_count": 92,
   "id": "27434283-bffe-4f00-9bd8-82431039bc34",
   "metadata": {
    "tags": []
   },
   "outputs": [],
   "source": [
    "PRIME = (1, 2, 3, 5, 7, 11)\n",
    "\n",
    "def isPrime(n):\n",
    "    isPrime = True\n",
    "    maxPrime = PRIME[-1]**2\n",
    "    \n",
    "    if n in PRIME:\n",
    "        return f'{n} é primo'\n",
    "    \n",
    "    if n > maxPrime:\n",
    "        return 'N deve ser menor que {}'.format(maxPrime)\n",
    "    \n",
    "    for p in PRIME[1:]:\n",
    "        if (n % p == 0):\n",
    "            return f'{n} não é primo pois é divisível por {p}'\n",
    "    else:\n",
    "        return f'{n} é primo'\n"
   ]
  },
  {
   "cell_type": "code",
   "execution_count": 93,
   "id": "6fa90da4-c404-47d1-abd5-683c75b598ee",
   "metadata": {
    "tags": []
   },
   "outputs": [
    {
     "name": "stdout",
     "output_type": "stream",
     "text": [
      "1 é primo\n",
      "2 é primo\n",
      "3 é primo\n",
      "4 não é primo pois é divisível por 2\n",
      "5 é primo\n",
      "6 não é primo pois é divisível por 2\n",
      "7 é primo\n",
      "8 não é primo pois é divisível por 2\n",
      "9 não é primo pois é divisível por 3\n",
      "10 não é primo pois é divisível por 2\n",
      "11 é primo\n",
      "12 não é primo pois é divisível por 2\n",
      "13 é primo\n",
      "14 não é primo pois é divisível por 2\n",
      "15 não é primo pois é divisível por 3\n",
      "16 não é primo pois é divisível por 2\n",
      "17 é primo\n",
      "18 não é primo pois é divisível por 2\n",
      "19 é primo\n",
      "20 não é primo pois é divisível por 2\n",
      "21 não é primo pois é divisível por 3\n",
      "22 não é primo pois é divisível por 2\n",
      "23 é primo\n",
      "24 não é primo pois é divisível por 2\n",
      "25 não é primo pois é divisível por 5\n",
      "26 não é primo pois é divisível por 2\n",
      "27 não é primo pois é divisível por 3\n",
      "28 não é primo pois é divisível por 2\n",
      "29 é primo\n",
      "30 não é primo pois é divisível por 2\n",
      "31 é primo\n",
      "32 não é primo pois é divisível por 2\n",
      "33 não é primo pois é divisível por 3\n",
      "34 não é primo pois é divisível por 2\n",
      "35 não é primo pois é divisível por 5\n",
      "36 não é primo pois é divisível por 2\n",
      "37 é primo\n",
      "38 não é primo pois é divisível por 2\n",
      "39 não é primo pois é divisível por 3\n",
      "40 não é primo pois é divisível por 2\n",
      "41 é primo\n",
      "42 não é primo pois é divisível por 2\n",
      "43 é primo\n",
      "44 não é primo pois é divisível por 2\n",
      "45 não é primo pois é divisível por 3\n",
      "46 não é primo pois é divisível por 2\n",
      "47 é primo\n",
      "48 não é primo pois é divisível por 2\n",
      "49 não é primo pois é divisível por 7\n",
      "50 não é primo pois é divisível por 2\n",
      "51 não é primo pois é divisível por 3\n",
      "52 não é primo pois é divisível por 2\n",
      "53 é primo\n",
      "54 não é primo pois é divisível por 2\n",
      "55 não é primo pois é divisível por 5\n",
      "56 não é primo pois é divisível por 2\n",
      "57 não é primo pois é divisível por 3\n",
      "58 não é primo pois é divisível por 2\n",
      "59 é primo\n",
      "60 não é primo pois é divisível por 2\n",
      "61 é primo\n",
      "62 não é primo pois é divisível por 2\n",
      "63 não é primo pois é divisível por 3\n",
      "64 não é primo pois é divisível por 2\n",
      "65 não é primo pois é divisível por 5\n",
      "66 não é primo pois é divisível por 2\n",
      "67 é primo\n",
      "68 não é primo pois é divisível por 2\n",
      "69 não é primo pois é divisível por 3\n",
      "70 não é primo pois é divisível por 2\n",
      "71 é primo\n",
      "72 não é primo pois é divisível por 2\n",
      "73 é primo\n",
      "74 não é primo pois é divisível por 2\n",
      "75 não é primo pois é divisível por 3\n",
      "76 não é primo pois é divisível por 2\n",
      "77 não é primo pois é divisível por 7\n",
      "78 não é primo pois é divisível por 2\n",
      "79 é primo\n",
      "80 não é primo pois é divisível por 2\n",
      "81 não é primo pois é divisível por 3\n",
      "82 não é primo pois é divisível por 2\n",
      "83 é primo\n",
      "84 não é primo pois é divisível por 2\n",
      "85 não é primo pois é divisível por 5\n",
      "86 não é primo pois é divisível por 2\n",
      "87 não é primo pois é divisível por 3\n",
      "88 não é primo pois é divisível por 2\n",
      "89 é primo\n",
      "90 não é primo pois é divisível por 2\n",
      "91 não é primo pois é divisível por 7\n",
      "92 não é primo pois é divisível por 2\n",
      "93 não é primo pois é divisível por 3\n",
      "94 não é primo pois é divisível por 2\n",
      "95 não é primo pois é divisível por 5\n",
      "96 não é primo pois é divisível por 2\n",
      "97 é primo\n",
      "98 não é primo pois é divisível por 2\n",
      "99 não é primo pois é divisível por 3\n",
      "100 não é primo pois é divisível por 2\n",
      "101 é primo\n",
      "102 não é primo pois é divisível por 2\n",
      "103 é primo\n",
      "104 não é primo pois é divisível por 2\n",
      "105 não é primo pois é divisível por 3\n",
      "106 não é primo pois é divisível por 2\n",
      "107 é primo\n",
      "108 não é primo pois é divisível por 2\n",
      "109 é primo\n",
      "110 não é primo pois é divisível por 2\n",
      "111 não é primo pois é divisível por 3\n",
      "112 não é primo pois é divisível por 2\n",
      "113 é primo\n",
      "114 não é primo pois é divisível por 2\n",
      "115 não é primo pois é divisível por 5\n",
      "116 não é primo pois é divisível por 2\n",
      "117 não é primo pois é divisível por 3\n",
      "118 não é primo pois é divisível por 2\n",
      "119 não é primo pois é divisível por 7\n",
      "120 não é primo pois é divisível por 2\n",
      "121 não é primo pois é divisível por 11\n",
      "N deve ser menor que 121\n",
      "N deve ser menor que 121\n",
      "N deve ser menor que 121\n",
      "N deve ser menor que 121\n",
      "N deve ser menor que 121\n",
      "N deve ser menor que 121\n",
      "N deve ser menor que 121\n",
      "N deve ser menor que 121\n"
     ]
    }
   ],
   "source": [
    "for i in range(1, 130):\n",
    "    print(isPrime(i))"
   ]
  },
  {
   "cell_type": "code",
   "execution_count": 122,
   "id": "af9c5d6d-4e30-49d5-8d28-d386e4590ffc",
   "metadata": {
    "tags": []
   },
   "outputs": [],
   "source": [
    "def fibonacci(n):\n",
    "    fib = [0, 1]\n",
    "    \n",
    "    while len(fib) < n:\n",
    "        fib.append(sum(fib[-2:]))        \n",
    "\n",
    "    return fib"
   ]
  },
  {
   "cell_type": "code",
   "execution_count": 123,
   "id": "cf3ff83d-5b3d-4b5d-be77-cdb9232c1f80",
   "metadata": {
    "tags": []
   },
   "outputs": [
    {
     "data": {
      "text/plain": [
       "[0, 1, 1, 2, 3, 5, 8, 13, 21, 34, 55, 89]"
      ]
     },
     "execution_count": 123,
     "metadata": {},
     "output_type": "execute_result"
    }
   ],
   "source": [
    "fibonacci(12)"
   ]
  },
  {
   "cell_type": "code",
   "execution_count": 113,
   "id": "be50dc13-f0e9-47aa-82b8-af6c400c2e48",
   "metadata": {
    "tags": []
   },
   "outputs": [],
   "source": [
    "PRIME = (1, 2, 3, 5, 7)\n",
    "\n",
    "def primes(n):\n",
    "    primesList = list(PRIME)\n",
    "    if n <= len(primesList):\n",
    "        return primesList[:n]\n",
    "    \n",
    "    number = primesList[-1] + 2\n",
    "    \n",
    "    while len(primesList) < n:\n",
    "        for prime in primesList[2:]:\n",
    "            if (number % prime == 0):\n",
    "                number += 2\n",
    "                break\n",
    "        else:\n",
    "            primesList.append(number)\n",
    "\n",
    "    return primesList"
   ]
  },
  {
   "cell_type": "code",
   "execution_count": 119,
   "id": "8a17bebd-4a22-449c-9d33-614b81f293e5",
   "metadata": {
    "tags": []
   },
   "outputs": [
    {
     "name": "stdout",
     "output_type": "stream",
     "text": [
      "[1, 2, 3, 5, 7, 11, 13, 17, 19, 23, 29, 31, 37, 41, 43, 47, 53, 59, 61, 67]\n"
     ]
    }
   ],
   "source": [
    "print(primes(20))"
   ]
  },
  {
   "cell_type": "code",
   "execution_count": null,
   "id": "4bb24603-d0e8-41aa-8a92-4467128971cc",
   "metadata": {},
   "outputs": [],
   "source": []
  }
 ],
 "metadata": {
  "kernelspec": {
   "display_name": "Python 3 (ipykernel)",
   "language": "python",
   "name": "python3"
  },
  "language_info": {
   "codemirror_mode": {
    "name": "ipython",
    "version": 3
   },
   "file_extension": ".py",
   "mimetype": "text/x-python",
   "name": "python",
   "nbconvert_exporter": "python",
   "pygments_lexer": "ipython3",
   "version": "3.10.6"
  }
 },
 "nbformat": 4,
 "nbformat_minor": 5
}
