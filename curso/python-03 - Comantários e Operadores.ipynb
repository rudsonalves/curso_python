{
 "cells": [
  {
   "cell_type": "markdown",
   "id": "1ad3b92e-2913-42b1-a117-7145594485de",
   "metadata": {},
   "source": [
    "# 3. Comentários"
   ]
  },
  {
   "cell_type": "code",
   "execution_count": 1,
   "id": "723cb3ad-0973-4ea2-9fe7-89a58e703788",
   "metadata": {
    "tags": []
   },
   "outputs": [
    {
     "name": "stdout",
     "output_type": "stream",
     "text": [
      "Saldo: $1774.32\n"
     ]
    },
    {
     "data": {
      "text/plain": [
       "'\\nIsto também é um comentário de \\nmais de uma linha.\\n'"
      ]
     },
     "execution_count": 1,
     "metadata": {},
     "output_type": "execute_result"
    }
   ],
   "source": [
    "# Aplicativo financeiro\n",
    "# por Gabriel Bortolini\n",
    "# de 28/03/2023\n",
    "\n",
    "salario = 3423.23\n",
    "\n",
    "# Cálculo das despesas\n",
    "aluguel = 1533.23\n",
    "contaEnergia = 115.68\n",
    "\n",
    "'''\n",
    "Isto é um comentário de mais \n",
    "de uma linha.\n",
    "'''\n",
    "\n",
    "despesas = aluguel + contaEnergia\n",
    "saldo = salario - despesas\n",
    "print('Saldo: ${}'.format(saldo))\n",
    "\n",
    "\"\"\"\n",
    "Isto também é um comentário de \n",
    "mais de uma linha.\n",
    "\"\"\""
   ]
  },
  {
   "cell_type": "markdown",
   "id": "9ef59510-0d4e-4aab-bfaa-34d2b483b641",
   "metadata": {},
   "source": [
    "# 4. Operadores\n",
    "## 4.1. Operadores Aritméticos"
   ]
  },
  {
   "cell_type": "code",
   "execution_count": 2,
   "id": "07767df3-12ed-42fd-8a43-c96255d482af",
   "metadata": {
    "tags": []
   },
   "outputs": [
    {
     "name": "stdout",
     "output_type": "stream",
     "text": [
      "5\n",
      "-4\n",
      "7.0\n",
      "3.3333333333333335\n",
      "3\n",
      "3.0\n",
      "8\n",
      "256\n",
      "2\n",
      "5\n"
     ]
    }
   ],
   "source": [
    "print(2 + 3)\n",
    "print(2 - 6)\n",
    "print(2 * 3.5)\n",
    "print(10 / 3)\n",
    "print(10 // 3)\n",
    "print(10.5 // 3)\n",
    "print(2 ** 3)\n",
    "print(2 ** 8)\n",
    "print(5 % 3)\n",
    "print(12 % 7)"
   ]
  },
  {
   "cell_type": "markdown",
   "id": "7f7b62f1-415f-40b8-ac58-60b2a94530e1",
   "metadata": {
    "tags": []
   },
   "source": [
    "### Exercício 1\n",
    "Determine o percentual do salário está comprometido com as despesas"
   ]
  },
  {
   "cell_type": "code",
   "execution_count": 3,
   "id": "99b9e0e0-b1ae-4354-b6bb-bf2c1b51e395",
   "metadata": {
    "tags": []
   },
   "outputs": [
    {
     "name": "stdout",
     "output_type": "stream",
     "text": [
      "Saldo: $1774.32\n",
      "Suas despesas correspondem a $48.16825045351904% do seu salário\n"
     ]
    }
   ],
   "source": [
    "# Aplicativo financeiro\n",
    "# por Gabriel Bortolini\n",
    "# de 28/03/2023\n",
    "\n",
    "salario = 3423.23\n",
    "\n",
    "# Cálculo das despesas\n",
    "aluguel = 1533.23\n",
    "contaEnergia = 115.68\n",
    "\n",
    "'''\n",
    "Isto é um comentário de mais \n",
    "de uma linha.\n",
    "'''\n",
    "\n",
    "despesas = aluguel + contaEnergia\n",
    "saldo = salario - despesas\n",
    "\n",
    "persentualComprometido = 100*despesas/salario\n",
    "\n",
    "print('Saldo: ${}'.format(saldo))\n",
    "print('Suas despesas correspondem a ${}% do seu salário'.format(persentualComprometido))"
   ]
  },
  {
   "cell_type": "markdown",
   "id": "f7d6dd5f-9cde-4259-8699-bf37b79f5a03",
   "metadata": {
    "tags": []
   },
   "source": [
    "## 4.2. Operadores Relacionais"
   ]
  },
  {
   "cell_type": "code",
   "execution_count": 4,
   "id": "e21e210b-0d24-4853-9a7e-3a31c64904f3",
   "metadata": {
    "tags": []
   },
   "outputs": [
    {
     "name": "stdout",
     "output_type": "stream",
     "text": [
      " 6 > 4: True\n",
      "3 == 4: False\n",
      "3 >= 3: True\n",
      "3 != 5: True\n",
      "3 != 3: False\n",
      "3 == '3': False\n"
     ]
    }
   ],
   "source": [
    "print(' 6 > 4: ' + str(6 > 4))\n",
    "print('3 == 4: ' + str(3 == 4))\n",
    "print('3 >= 3: ' + str(3 >= 3))\n",
    "print('3 != 5: ' + str(3 != 5))\n",
    "print('3 != 3: ' + str(3 != 3))\n",
    "print(\"3 == '3': \" + str(3 == '3')) "
   ]
  },
  {
   "cell_type": "markdown",
   "id": "166793bb-6d8b-4df0-90a1-a7446494b62d",
   "metadata": {
    "tags": []
   },
   "source": [
    "## 4.3. Operadores de Atribuição"
   ]
  },
  {
   "cell_type": "code",
   "execution_count": 5,
   "id": "480aaf99-76f7-4bb8-afba-cdc8d139e449",
   "metadata": {
    "tags": []
   },
   "outputs": [
    {
     "name": "stdout",
     "output_type": "stream",
     "text": [
      "10\n",
      "14\n",
      "2\n",
      "256\n",
      "1\n",
      "6\n",
      "2.0\n"
     ]
    }
   ],
   "source": [
    "a = 4\n",
    "a = a + 6\n",
    "print(a)\n",
    "a += 4\n",
    "print(a)\n",
    "a %= 3\n",
    "print(a)\n",
    "a **= 8\n",
    "print(a)\n",
    "a //= 256\n",
    "print(a)\n",
    "a *= 6\n",
    "print(a)\n",
    "a /= 3\n",
    "print(a)"
   ]
  },
  {
   "cell_type": "markdown",
   "id": "03345118-315d-41a4-9110-60ecf014bddb",
   "metadata": {},
   "source": [
    "## 4.4. Operadores Lógicos\n",
    "### 4.4.1. Tabela Verdade OR"
   ]
  },
  {
   "cell_type": "code",
   "execution_count": 37,
   "id": "191a55b2-3bb0-4c8e-bcf5-873f8371f0b1",
   "metadata": {
    "tags": []
   },
   "outputs": [
    {
     "name": "stdout",
     "output_type": "stream",
     "text": [
      "0 | 0: False\n",
      "0 | 1: True\n",
      "1 | 0: True\n",
      "1 | 1: True\n"
     ]
    }
   ],
   "source": [
    "print('0 | 0: {}'.format(False or False))\n",
    "print('0 | 1: {}'.format(False or True))\n",
    "print('1 | 0: {}'.format(True or False))\n",
    "print('1 | 1: {}'.format(True or True))"
   ]
  },
  {
   "cell_type": "code",
   "execution_count": 31,
   "id": "4b4a604e-e229-4d5c-98a2-d5251e663686",
   "metadata": {
    "tags": []
   },
   "outputs": [
    {
     "name": "stdout",
     "output_type": "stream",
     "text": [
      "False\n",
      "True\n",
      "True\n",
      "True\n"
     ]
    }
   ],
   "source": [
    "print(3 < 2 or 4 != 4)\n",
    "print(3 < 2 or 4 == 4)\n",
    "print(3 > 2 or 4 != 4)\n",
    "print(3 > 2 or 4 == 4)"
   ]
  },
  {
   "cell_type": "code",
   "execution_count": 32,
   "id": "2d54630c-a2cb-4ae6-bb4a-5f7bc31ae1e3",
   "metadata": {
    "tags": []
   },
   "outputs": [
    {
     "name": "stdout",
     "output_type": "stream",
     "text": [
      "False\n",
      "True\n",
      "True\n",
      "True\n"
     ]
    }
   ],
   "source": [
    "print((3 < 2) | (4 != 4))\n",
    "print((3 < 2) | (4 == 4))\n",
    "print((3 > 2) | (4 != 4))\n",
    "print((3 > 2) | (4 == 4))"
   ]
  },
  {
   "cell_type": "markdown",
   "id": "728126cf-8ba4-41a7-bb29-62be48e83b54",
   "metadata": {},
   "source": [
    "### 4.4.2. Tabela Verdade AND"
   ]
  },
  {
   "cell_type": "code",
   "execution_count": 33,
   "id": "e37c2251-cd67-44b9-a67e-2dc4b60fb29d",
   "metadata": {
    "tags": []
   },
   "outputs": [
    {
     "name": "stdout",
     "output_type": "stream",
     "text": [
      "Tabela Verdade AND:\n",
      "0 & 0: False\n",
      "0 & 1: False\n",
      "1 & 0: False\n",
      "1 & 1: True\n"
     ]
    }
   ],
   "source": [
    "print('0 & 0: {}'.format(False and False))\n",
    "print('0 & 1: {}'.format(False and True))\n",
    "print('1 & 0: {}'.format(True and False))\n",
    "print('1 & 1: {}'.format(True and True))"
   ]
  },
  {
   "cell_type": "code",
   "execution_count": 34,
   "id": "acaf72ab-991c-4281-9171-9a9956417170",
   "metadata": {
    "tags": []
   },
   "outputs": [
    {
     "name": "stdout",
     "output_type": "stream",
     "text": [
      "False\n",
      "False\n",
      "False\n",
      "True\n"
     ]
    }
   ],
   "source": [
    "print(3 < 2 and 4 != 4)\n",
    "print(3 < 2 and 4 == 4)\n",
    "print(3 > 2 and 4 != 4)\n",
    "print(3 > 2 and 4 == 4)"
   ]
  },
  {
   "cell_type": "code",
   "execution_count": 36,
   "id": "93a1ff9b-cf76-4b31-8f30-1991dff4ad0e",
   "metadata": {
    "tags": []
   },
   "outputs": [
    {
     "name": "stdout",
     "output_type": "stream",
     "text": [
      "False\n",
      "False\n",
      "False\n",
      "True\n"
     ]
    }
   ],
   "source": [
    "print((3 < 2) & (4 != 4))\n",
    "print((3 < 2) & (4 == 4))\n",
    "print((3 > 2) & (4 != 4))\n",
    "print((3 > 2) & (4 == 4))"
   ]
  },
  {
   "cell_type": "markdown",
   "id": "14ea7fbb-f403-42ac-8eca-f32f888b78fe",
   "metadata": {
    "tags": []
   },
   "source": [
    "### 4.4.3. Tabela Verdade XOR"
   ]
  },
  {
   "cell_type": "code",
   "execution_count": 39,
   "id": "2cd85d68-d581-421e-93ca-064ad2b390fb",
   "metadata": {
    "tags": []
   },
   "outputs": [
    {
     "name": "stdout",
     "output_type": "stream",
     "text": [
      "0 xor 0: False\n",
      "0 xor 1: True\n",
      "1 xor 0: True\n",
      "1 xor 1: False\n"
     ]
    }
   ],
   "source": [
    "print('0 xor 0: {}'.format(False != False))\n",
    "print('0 xor 1: {}'.format(False != True))\n",
    "print('1 xor 0: {}'.format(True != False))\n",
    "print('1 xor 1: {}'.format(True != True))"
   ]
  },
  {
   "cell_type": "markdown",
   "id": "875e3d07-9c79-4524-a108-58251d24aafd",
   "metadata": {
    "tags": []
   },
   "source": [
    "### 4.4.4. Tabela Verdade NOT"
   ]
  },
  {
   "cell_type": "code",
   "execution_count": 41,
   "id": "b76814ab-a335-4b14-aa24-a2d1beeac1f4",
   "metadata": {
    "tags": []
   },
   "outputs": [
    {
     "data": {
      "text/plain": [
       "True"
      ]
     },
     "execution_count": 41,
     "metadata": {},
     "output_type": "execute_result"
    }
   ],
   "source": [
    "not True\n",
    "not False"
   ]
  },
  {
   "cell_type": "code",
   "execution_count": 42,
   "id": "741137ee-eec0-4cb7-acd6-0c93d7937fc3",
   "metadata": {
    "tags": []
   },
   "outputs": [
    {
     "data": {
      "text/plain": [
       "True"
      ]
     },
     "execution_count": 42,
     "metadata": {},
     "output_type": "execute_result"
    }
   ],
   "source": [
    "not 0"
   ]
  },
  {
   "cell_type": "code",
   "execution_count": 43,
   "id": "24c198e4-2e1d-4c3a-a405-7b5b3ed8dc45",
   "metadata": {
    "tags": []
   },
   "outputs": [
    {
     "data": {
      "text/plain": [
       "False"
      ]
     },
     "execution_count": 43,
     "metadata": {},
     "output_type": "execute_result"
    }
   ],
   "source": [
    "not 1"
   ]
  },
  {
   "cell_type": "code",
   "execution_count": 44,
   "id": "41d18a60-06fa-4e9e-9183-a70defff28fe",
   "metadata": {
    "tags": []
   },
   "outputs": [
    {
     "data": {
      "text/plain": [
       "True"
      ]
     },
     "execution_count": 44,
     "metadata": {},
     "output_type": "execute_result"
    }
   ],
   "source": [
    "not ''"
   ]
  },
  {
   "cell_type": "code",
   "execution_count": 45,
   "id": "51d43012-b5ac-4eb2-9ca7-70ebe09c6095",
   "metadata": {
    "tags": []
   },
   "outputs": [
    {
     "data": {
      "text/plain": [
       "False"
      ]
     },
     "execution_count": 45,
     "metadata": {},
     "output_type": "execute_result"
    }
   ],
   "source": [
    "not 'werw'"
   ]
  },
  {
   "cell_type": "markdown",
   "id": "76921736-cd57-421e-86be-db29be09a25c",
   "metadata": {
    "tags": []
   },
   "source": [
    "### 4.4.5. Operadores Binários"
   ]
  },
  {
   "cell_type": "code",
   "execution_count": 46,
   "id": "d73f703f-1648-4829-8896-b61374b97fd8",
   "metadata": {
    "tags": []
   },
   "outputs": [
    {
     "data": {
      "text/plain": [
       "True"
      ]
     },
     "execution_count": 46,
     "metadata": {},
     "output_type": "execute_result"
    }
   ],
   "source": [
    "True | False # Operador OR"
   ]
  },
  {
   "cell_type": "code",
   "execution_count": 47,
   "id": "27964492-89e2-4a8b-8917-c4c8460de9d1",
   "metadata": {
    "tags": []
   },
   "outputs": [
    {
     "data": {
      "text/plain": [
       "False"
      ]
     },
     "execution_count": 47,
     "metadata": {},
     "output_type": "execute_result"
    }
   ],
   "source": [
    "True & False # Operador AND"
   ]
  },
  {
   "cell_type": "code",
   "execution_count": 48,
   "id": "4ededdb6-86f2-4dab-967b-4756df4a1ba4",
   "metadata": {
    "tags": []
   },
   "outputs": [
    {
     "data": {
      "text/plain": [
       "True"
      ]
     },
     "execution_count": 48,
     "metadata": {},
     "output_type": "execute_result"
    }
   ],
   "source": [
    "True ^ False # Operador XOR"
   ]
  },
  {
   "cell_type": "code",
   "execution_count": 73,
   "id": "a8fed421-6d41-4f15-8835-b366398751f8",
   "metadata": {
    "tags": []
   },
   "outputs": [
    {
     "data": {
      "text/plain": [
       "1"
      ]
     },
     "execution_count": 73,
     "metadata": {},
     "output_type": "execute_result"
    }
   ],
   "source": [
    "1 & 0\n",
    "0 & 1\n",
    "1 & 1"
   ]
  },
  {
   "cell_type": "code",
   "execution_count": 76,
   "id": "739536d6-dff1-46e3-9dcd-f49050683bd4",
   "metadata": {
    "tags": []
   },
   "outputs": [
    {
     "data": {
      "text/plain": [
       "2"
      ]
     },
     "execution_count": 76,
     "metadata": {},
     "output_type": "execute_result"
    }
   ],
   "source": [
    "#  3 = 11\n",
    "#  2 = 10\n",
    "#  e = 10\n",
    "3 & 2"
   ]
  },
  {
   "cell_type": "markdown",
   "id": "989e6807-b026-465d-b5a5-43905e5ada94",
   "metadata": {},
   "source": [
    "### Exercício 2"
   ]
  },
  {
   "cell_type": "code",
   "execution_count": 86,
   "id": "313765d6-e484-4ef8-a744-3bcd29580313",
   "metadata": {
    "tags": []
   },
   "outputs": [
    {
     "name": "stdout",
     "output_type": "stream",
     "text": [
      "TV 50pol: False\n",
      "TV 32pol: False\n",
      " Sorvete: False\n",
      "   Saúde: True\n",
      "\n",
      "TV 50: False  TV 32: False  Sorvete: False  Saúde: True\n"
     ]
    }
   ],
   "source": [
    "# T   Q    TV   Sorvete   Saúde\n",
    "# V   V    50'     V        F\n",
    "# V   F    32'     V        F\n",
    "# F   V    32'     V        F\n",
    "# F   F     -      F        V\n",
    "\n",
    "trabalhoTerca = False\n",
    "trabalhoQuinta = False\n",
    "\n",
    "tv50 = trabalhoTerca and trabalhoQuinta\n",
    "tv32 = trabalhoTerca != trabalhoQuinta\n",
    "sorvete = trabalhoTerca or trabalhoQuinta\n",
    "saude = not sorvete\n",
    "\n",
    "print('TV 50pol: {}'.format(tv50))\n",
    "print('TV 32pol: {}'.format(tv32))\n",
    "print(' Sorvete: {}'.format(sorvete))\n",
    "print('   Saúde: {}'.format(saude))\n",
    "print('\\nTV 50: {0}  TV 32: {1}  Sorvete: {2}  Saúde: {3}'.format(tv50, tv32, sorvete, saude))"
   ]
  },
  {
   "cell_type": "code",
   "execution_count": null,
   "id": "faab8429-1e02-482c-8452-7b5cd81ed15c",
   "metadata": {},
   "outputs": [],
   "source": []
  }
 ],
 "metadata": {
  "kernelspec": {
   "display_name": "Python 3 (ipykernel)",
   "language": "python",
   "name": "python3"
  },
  "language_info": {
   "codemirror_mode": {
    "name": "ipython",
    "version": 3
   },
   "file_extension": ".py",
   "mimetype": "text/x-python",
   "name": "python",
   "nbconvert_exporter": "python",
   "pygments_lexer": "ipython3",
   "version": "3.10.6"
  }
 },
 "nbformat": 4,
 "nbformat_minor": 5
}
