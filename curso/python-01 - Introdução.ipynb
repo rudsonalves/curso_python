{
 "cells": [
  {
   "cell_type": "markdown",
   "id": "3a6d00d8-34af-4062-8cf4-24417a3f6e90",
   "metadata": {
    "tags": []
   },
   "source": [
    "# 1. Introdução\n",
    "## 1.1 Tipos Numéricos"
   ]
  },
  {
   "cell_type": "code",
   "execution_count": 1,
   "id": "9c7ea062-bffc-4571-8590-132fd7031cb3",
   "metadata": {
    "tags": []
   },
   "outputs": [
    {
     "name": "stdout",
     "output_type": "stream",
     "text": [
      "3\n",
      "3.1\n",
      "2.5\n"
     ]
    }
   ],
   "source": [
    "print(1+2)\n",
    "print(1.1+2)\n",
    "print(5/2)"
   ]
  },
  {
   "cell_type": "markdown",
   "id": "93d5fda8-38b5-4821-8030-dcbd4b9876fd",
   "metadata": {},
   "source": [
    "## 1.2 Tipo String"
   ]
  },
  {
   "cell_type": "code",
   "execution_count": 2,
   "id": "09f594b4-9848-4648-9716-55bcb49be6bb",
   "metadata": {
    "tags": []
   },
   "outputs": [
    {
     "name": "stdout",
     "output_type": "stream",
     "text": [
      "python é legal\n",
      "python legal\n"
     ]
    }
   ],
   "source": [
    "print('python é legal')\n",
    "print(\"python legal\")"
   ]
  },
  {
   "cell_type": "code",
   "execution_count": 3,
   "id": "2ab7b75e-a309-4273-8bcb-b05e6fd67aca",
   "metadata": {
    "tags": []
   },
   "outputs": [
    {
     "name": "stdout",
     "output_type": "stream",
     "text": [
      "Python legal\n",
      "Python é muito muito muito legal\n"
     ]
    }
   ],
   "source": [
    "print('Python' + ' legal')\n",
    "print('Python é ' + 3 * 'muito ' + 'legal')\n",
    "# print(3 + '3') => uma ambiguidade"
   ]
  },
  {
   "cell_type": "markdown",
   "id": "7275e31c-8c32-4777-acd4-7de72b447fc9",
   "metadata": {},
   "source": [
    "## 1.3 Tipo Lista"
   ]
  },
  {
   "cell_type": "code",
   "execution_count": 4,
   "id": "f38f541f-82ab-4be3-b082-cac1930b339a",
   "metadata": {
    "tags": []
   },
   "outputs": [
    {
     "name": "stdout",
     "output_type": "stream",
     "text": [
      "1\n",
      "['__add__', '__class__', '__class_getitem__', '__contains__', '__delattr__', '__delitem__', '__dir__', '__doc__', '__eq__', '__format__', '__ge__', '__getattribute__', '__getitem__', '__gt__', '__hash__', '__iadd__', '__imul__', '__init__', '__init_subclass__', '__iter__', '__le__', '__len__', '__lt__', '__mul__', '__ne__', '__new__', '__reduce__', '__reduce_ex__', '__repr__', '__reversed__', '__rmul__', '__setattr__', '__setitem__', '__sizeof__', '__str__', '__subclasshook__', 'append', 'clear', 'copy', 'count', 'extend', 'index', 'insert', 'pop', 'remove', 'reverse', 'sort']\n"
     ]
    }
   ],
   "source": [
    "a = [6,2,9,1,0,5]\n",
    "print(a[3])\n",
    "print(dir(a))"
   ]
  },
  {
   "cell_type": "code",
   "execution_count": 5,
   "id": "58e735b0-8ca5-416e-a0da-8b0d6ce6803a",
   "metadata": {
    "tags": []
   },
   "outputs": [
    {
     "name": "stdout",
     "output_type": "stream",
     "text": [
      "[0, 1, 2, 5, 6, 9]\n",
      "[9, 6, 5, 2, 1, 0]\n",
      "[]\n"
     ]
    }
   ],
   "source": [
    "a.sort()\n",
    "print(a)\n",
    "a.reverse()\n",
    "print(a)\n",
    "a.clear()\n",
    "print(a)"
   ]
  },
  {
   "cell_type": "code",
   "execution_count": 6,
   "id": "22efb433-171a-4386-b482-9138d1c14375",
   "metadata": {
    "tags": []
   },
   "outputs": [
    {
     "name": "stdout",
     "output_type": "stream",
     "text": [
      "[2, 4]\n"
     ]
    }
   ],
   "source": [
    "a.clear()\n",
    "a.append(2)\n",
    "a.append(4)\n",
    "print(a)"
   ]
  },
  {
   "cell_type": "code",
   "execution_count": 7,
   "id": "032187d8-137a-4c9f-a85c-b646a8cba78e",
   "metadata": {
    "tags": []
   },
   "outputs": [
    {
     "name": "stdout",
     "output_type": "stream",
     "text": [
      "[2, 4, 'Python', 3.5]\n"
     ]
    }
   ],
   "source": [
    "a.append('Python')\n",
    "a.append(3.5)\n",
    "print(a)"
   ]
  },
  {
   "cell_type": "markdown",
   "id": "3c75b986-c806-4b8e-8e54-5df1662bfc8f",
   "metadata": {},
   "source": [
    "## 1.4 Tipo Dicionário"
   ]
  },
  {
   "cell_type": "code",
   "execution_count": 8,
   "id": "c7f71fa8-f08a-4611-9a5b-338b80c6bec7",
   "metadata": {
    "tags": []
   },
   "outputs": [
    {
     "name": "stdout",
     "output_type": "stream",
     "text": [
      "{'name': 'Hulk', 'age': 28, 'height': 1.86}\n",
      "28\n",
      "Hulk\n"
     ]
    }
   ],
   "source": [
    "p = {'name': 'Hulk', 'age': 28, 'height': 1.86}\n",
    "print(p)\n",
    "print(p['age'])\n",
    "print(p['name'])"
   ]
  },
  {
   "cell_type": "markdown",
   "id": "c6729ab9-8ac2-40e2-a25d-952a1956e88c",
   "metadata": {},
   "source": [
    "## 1.5 Tipo Conjuntos (Set)"
   ]
  },
  {
   "cell_type": "code",
   "execution_count": 9,
   "id": "1069b21a-c4cf-49d5-9570-81515465a2fe",
   "metadata": {
    "tags": []
   },
   "outputs": [
    {
     "name": "stdout",
     "output_type": "stream",
     "text": [
      "{1, 2, 3, 5}\n",
      "['__and__', '__class__', '__class_getitem__', '__contains__', '__delattr__', '__dir__', '__doc__', '__eq__', '__format__', '__ge__', '__getattribute__', '__gt__', '__hash__', '__iand__', '__init__', '__init_subclass__', '__ior__', '__isub__', '__iter__', '__ixor__', '__le__', '__len__', '__lt__', '__ne__', '__new__', '__or__', '__rand__', '__reduce__', '__reduce_ex__', '__repr__', '__ror__', '__rsub__', '__rxor__', '__setattr__', '__sizeof__', '__str__', '__sub__', '__subclasshook__', '__xor__', 'add', 'clear', 'copy', 'difference', 'difference_update', 'discard', 'intersection', 'intersection_update', 'isdisjoint', 'issubset', 'issuperset', 'pop', 'remove', 'symmetric_difference', 'symmetric_difference_update', 'union', 'update']\n",
      "{1, 2, 3, 5, 6}\n"
     ]
    }
   ],
   "source": [
    "c = {1,2,3,5}\n",
    "print(c)\n",
    "print(dir(c))\n",
    "c.add(2)\n",
    "c.add(6)\n",
    "print(c)"
   ]
  },
  {
   "cell_type": "markdown",
   "id": "438f12e6-ea98-47cd-b6e7-5c898a95c245",
   "metadata": {},
   "source": [
    "## 1.6 Tipo Booleano e Nulo (None)"
   ]
  },
  {
   "cell_type": "code",
   "execution_count": 10,
   "id": "f499b919-04ee-4186-a44a-2ed9bb520ba0",
   "metadata": {
    "tags": []
   },
   "outputs": [],
   "source": [
    "a = True\n",
    "b = False\n",
    "c = None"
   ]
  },
  {
   "cell_type": "code",
   "execution_count": 11,
   "id": "9d0abbbd-5f1b-4a17-b4ba-d2a7bc54b46a",
   "metadata": {
    "tags": []
   },
   "outputs": [
    {
     "name": "stdout",
     "output_type": "stream",
     "text": [
      "False\n",
      "True\n"
     ]
    }
   ],
   "source": [
    "print(a == b)\n",
    "print(a != b)"
   ]
  },
  {
   "cell_type": "code",
   "execution_count": 12,
   "id": "1b34dd64-84ad-48f9-8ad3-8fbf05fa5f04",
   "metadata": {
    "tags": []
   },
   "outputs": [
    {
     "name": "stdout",
     "output_type": "stream",
     "text": [
      "True\n",
      "False\n"
     ]
    }
   ],
   "source": [
    "print(a | b)\n",
    "print(a & b)"
   ]
  },
  {
   "cell_type": "code",
   "execution_count": 13,
   "id": "9df117f0-7f78-4fcd-878c-bcfe7f18c3f1",
   "metadata": {
    "tags": []
   },
   "outputs": [
    {
     "name": "stdout",
     "output_type": "stream",
     "text": [
      "True\n"
     ]
    }
   ],
   "source": [
    "print(not(b) & a)"
   ]
  }
 ],
 "metadata": {
  "kernelspec": {
   "display_name": "Python 3 (ipykernel)",
   "language": "python",
   "name": "python3"
  },
  "language_info": {
   "codemirror_mode": {
    "name": "ipython",
    "version": 3
   },
   "file_extension": ".py",
   "mimetype": "text/x-python",
   "name": "python",
   "nbconvert_exporter": "python",
   "pygments_lexer": "ipython3",
   "version": "3.10.6"
  }
 },
 "nbformat": 4,
 "nbformat_minor": 5
}
