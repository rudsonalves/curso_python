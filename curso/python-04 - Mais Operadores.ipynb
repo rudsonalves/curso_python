{
 "cells": [
  {
   "cell_type": "markdown",
   "id": "e20c5b0c-f128-4dd5-aa32-fcbdf2087489",
   "metadata": {},
   "source": [
    "## 4.5. Operadores Ternários"
   ]
  },
  {
   "cell_type": "code",
   "execution_count": 6,
   "id": "dc53c31b-cbb9-4b75-ba08-3bcd26d0ee22",
   "metadata": {
    "tags": []
   },
   "outputs": [
    {
     "name": "stdout",
     "output_type": "stream",
     "text": [
      "Hoje estou com as roupas secas.\n",
      "Hoje estou com as roupas secas.\n"
     ]
    }
   ],
   "source": [
    "estaChovendo = False\n",
    "\n",
    "print('Hoje estou com as roupas ' + ('secas.', 'molhadas.')[estaChovendo])\n",
    "print('Hoje estou com as roupas ' + ('molhadas.' if estaChovendo else 'secas.'))"
   ]
  },
  {
   "cell_type": "markdown",
   "id": "1ddbc67a-8f7a-49d8-b91f-3c2ac3208f19",
   "metadata": {},
   "source": [
    "## 4.6. Mais Operadores\n",
    "### 4.6.1. Operador in\n",
    "7 in Lista => retorna true se 7 esta contido na lista Lista."
   ]
  },
  {
   "cell_type": "code",
   "execution_count": 11,
   "id": "0ee9a773-a2eb-4482-83c5-6a0866581fa4",
   "metadata": {
    "tags": []
   },
   "outputs": [
    {
     "data": {
      "text/plain": [
       "True"
      ]
     },
     "execution_count": 11,
     "metadata": {},
     "output_type": "execute_result"
    }
   ],
   "source": [
    "lista = [1,2,3,4,5,6]\n",
    "7 in lista\n",
    "'Ana' not in lista"
   ]
  },
  {
   "cell_type": "markdown",
   "id": "a8cff14c-6df4-4f4d-88ac-5d30084ec2a3",
   "metadata": {},
   "source": [
    "Também funciona para verificar se uma string esta contida em outra:"
   ]
  },
  {
   "cell_type": "code",
   "execution_count": 1,
   "id": "1a8eed4e-13e1-4c45-b6f9-863f36f8b4a4",
   "metadata": {
    "tags": []
   },
   "outputs": [
    {
     "data": {
      "text/plain": [
       "True"
      ]
     },
     "execution_count": 1,
     "metadata": {},
     "output_type": "execute_result"
    }
   ],
   "source": [
    "'d' in 'Rudson'"
   ]
  },
  {
   "cell_type": "code",
   "execution_count": 3,
   "id": "71aa1360-b8b0-47e9-9d26-e274e28a344a",
   "metadata": {
    "tags": []
   },
   "outputs": [
    {
     "data": {
      "text/plain": [
       "True"
      ]
     },
     "execution_count": 3,
     "metadata": {},
     "output_type": "execute_result"
    }
   ],
   "source": [
    "'rie' in 'Gabriel Bortolini Alves'"
   ]
  },
  {
   "cell_type": "markdown",
   "id": "826569ff-905f-4a00-9ea0-82a5878590b2",
   "metadata": {},
   "source": [
    "### 4.6.2. Operador is\n",
    "A is B => retorna true se A aponta para o mesmo \"objeto\" B."
   ]
  },
  {
   "cell_type": "code",
   "execution_count": 4,
   "id": "3387f008-ac86-46ba-9890-fa44bbc67e59",
   "metadata": {
    "tags": []
   },
   "outputs": [
    {
     "data": {
      "text/plain": [
       "True"
      ]
     },
     "execution_count": 4,
     "metadata": {},
     "output_type": "execute_result"
    }
   ],
   "source": [
    "a = 3\n",
    "b = a\n",
    "c = 3\n",
    "a is c"
   ]
  },
  {
   "cell_type": "code",
   "execution_count": 5,
   "id": "085a0a90-1616-4168-9255-c8caecc63302",
   "metadata": {
    "tags": []
   },
   "outputs": [
    {
     "name": "stdout",
     "output_type": "stream",
     "text": [
      "<method-wrapper '__hash__' of int object at 0x7f19c145c130>\n",
      "<method-wrapper '__hash__' of int object at 0x7f19c145c130>\n",
      "<method-wrapper '__hash__' of int object at 0x7f19c145c130>\n"
     ]
    }
   ],
   "source": [
    "print('{}\\n{}\\n{}'.format(a.__hash__, b.__hash__, c.__hash__))"
   ]
  },
  {
   "cell_type": "code",
   "execution_count": 6,
   "id": "2e290293-2182-4a1d-85b3-d90b1ecb6bf9",
   "metadata": {
    "tags": []
   },
   "outputs": [
    {
     "name": "stdout",
     "output_type": "stream",
     "text": [
      "<method-wrapper '__hash__' of int object at 0x7f19c145c130>\n",
      "<method-wrapper '__hash__' of int object at 0x7f19c145c130>\n",
      "<method-wrapper '__hash__' of int object at 0x7f19c145c1d0>\n"
     ]
    }
   ],
   "source": [
    "c += 5\n",
    "print('{}\\n{}\\n{}'.format(a.__hash__, b.__hash__, c.__hash__))"
   ]
  },
  {
   "cell_type": "code",
   "execution_count": 7,
   "id": "8241559c-a67c-4f64-bdfa-581bee2dd7be",
   "metadata": {
    "tags": []
   },
   "outputs": [
    {
     "name": "stdout",
     "output_type": "stream",
     "text": [
      "<method-wrapper '__hash__' of int object at 0x7f19c145c130>\n",
      "<method-wrapper '__hash__' of int object at 0x7f19c145c190>\n",
      "<method-wrapper '__hash__' of int object at 0x7f19c145c1d0>\n"
     ]
    }
   ],
   "source": [
    "b += 3\n",
    "print('{}\\n{}\\n{}'.format(a.__hash__, b.__hash__, c.__hash__))"
   ]
  },
  {
   "cell_type": "code",
   "execution_count": 8,
   "id": "d74c5170-0177-4bb2-8d07-cd978a130b12",
   "metadata": {
    "tags": []
   },
   "outputs": [
    {
     "name": "stdout",
     "output_type": "stream",
     "text": [
      "3 6 8\n",
      "False\n",
      "False\n",
      "False\n"
     ]
    }
   ],
   "source": [
    "print(a,b,c)\n",
    "print(a is b)\n",
    "print(a is c)\n",
    "print(b is c)"
   ]
  },
  {
   "cell_type": "code",
   "execution_count": 9,
   "id": "f01e7b97-7125-4289-86ba-328dfe601b21",
   "metadata": {
    "tags": []
   },
   "outputs": [
    {
     "name": "stdout",
     "output_type": "stream",
     "text": [
      "<method-wrapper '__hash__' of int object at 0x7f19c145c0f0>\n",
      "<method-wrapper '__hash__' of int object at 0x7f19c145c0f0>\n",
      "<method-wrapper '__hash__' of int object at 0x7f19c145c0f0>\n"
     ]
    }
   ],
   "source": [
    "x = [1,2,3]\n",
    "y = x\n",
    "w = [1,2,3]\n",
    "print('{}\\n{}\\n{}'.format(x[0].__hash__, y[0].__hash__, w[0].__hash__))"
   ]
  },
  {
   "cell_type": "code",
   "execution_count": 10,
   "id": "05213126-eb4e-4f74-b79c-68acc7786896",
   "metadata": {
    "tags": []
   },
   "outputs": [
    {
     "data": {
      "text/plain": [
       "False"
      ]
     },
     "execution_count": 10,
     "metadata": {},
     "output_type": "execute_result"
    }
   ],
   "source": [
    "x is w"
   ]
  },
  {
   "cell_type": "code",
   "execution_count": 14,
   "id": "05e01048-fbfa-4d06-8937-fa6c8199959f",
   "metadata": {
    "tags": []
   },
   "outputs": [
    {
     "data": {
      "text/plain": [
       "True"
      ]
     },
     "execution_count": 14,
     "metadata": {},
     "output_type": "execute_result"
    }
   ],
   "source": [
    "(x[0] is w[0]) | (x[1] is w[1]) | (x[2] is w[2])"
   ]
  },
  {
   "cell_type": "code",
   "execution_count": 12,
   "id": "dcc10aa9-7b53-40a6-be43-355c2e0586f2",
   "metadata": {
    "tags": []
   },
   "outputs": [
    {
     "name": "stdout",
     "output_type": "stream",
     "text": [
      "True\n"
     ]
    }
   ],
   "source": [
    "print(x is y)"
   ]
  }
 ],
 "metadata": {
  "kernelspec": {
   "display_name": "Python 3 (ipykernel)",
   "language": "python",
   "name": "python3"
  },
  "language_info": {
   "codemirror_mode": {
    "name": "ipython",
    "version": 3
   },
   "file_extension": ".py",
   "mimetype": "text/x-python",
   "name": "python",
   "nbconvert_exporter": "python",
   "pygments_lexer": "ipython3",
   "version": "3.10.6"
  }
 },
 "nbformat": 4,
 "nbformat_minor": 5
}
