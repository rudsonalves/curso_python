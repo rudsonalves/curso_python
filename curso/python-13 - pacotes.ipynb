{
 "cells": [
  {
   "cell_type": "markdown",
   "id": "5cc16771-0ac8-4928-b5a3-42a106d64337",
   "metadata": {},
   "source": [
    "# 13. Pacotes e Módulos\n",
    "\n"
   ]
  }
 ],
 "metadata": {
  "kernelspec": {
   "display_name": "Python 3 (ipykernel)",
   "language": "python",
   "name": "python3"
  },
  "language_info": {
   "codemirror_mode": {
    "name": "ipython",
    "version": 3
   },
   "file_extension": ".py",
   "mimetype": "text/x-python",
   "name": "python",
   "nbconvert_exporter": "python",
   "pygments_lexer": "ipython3",
   "version": "3.10.6"
  }
 },
 "nbformat": 4,
 "nbformat_minor": 5
}
